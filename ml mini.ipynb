{
 "cells": [
  {
   "cell_type": "markdown",
   "metadata": {
    "id": "MCU7y9zPSoqC"
   },
   "source": [
    "Assignment 10 ( mini Project)"
   ]
  },
  {
   "cell_type": "code",
   "execution_count": null,
   "metadata": {
    "colab": {
     "base_uri": "https://localhost:8080/"
    },
    "executionInfo": {
     "elapsed": 391,
     "status": "ok",
     "timestamp": 1667963581687,
     "user": {
      "displayName": "Avinash Tatar",
      "userId": "17244541308253616955"
     },
     "user_tz": -330
    },
    "id": "4L4t8KTrYGSa",
    "outputId": "8295d52c-9799-4a3b-a79e-d46d5c2defae"
   },
   "outputs": [
    {
     "name": "stdout",
     "output_type": "stream",
     "text": [
      "NumPy version: 1.21.6\n",
      "Pandas version: 1.3.5\n",
      "Matplotlib version: 3.2.2\n",
      "Seaborn version: 0.11.2\n"
     ]
    }
   ],
   "source": [
    "\n",
    "# Data manipulation libraries.\n",
    "import numpy as np\n",
    "import pandas as pd\n",
    "\n",
    "# Data visualization libraries.\n",
    "import matplotlib\n",
    "import matplotlib.pyplot as plt\n",
    "import seaborn as sns\n",
    "from prettytable import PrettyTable\n",
    "\n",
    "# Data modeling libraries.\n",
    "import sklearn\n",
    "from sklearn.preprocessing import LabelEncoder\n",
    "from sklearn.feature_selection import SelectKBest\n",
    "\n",
    "# General Imports\n",
    "import math\n",
    "\n",
    "\n",
    "# Library versions.\n",
    "print(\"NumPy version:\", np.__version__)\n",
    "print(\"Pandas version:\", pd.__version__)\n",
    "print(\"Matplotlib version:\", matplotlib.__version__)\n",
    "print(\"Seaborn version:\", sns.__version__)\n",
    "\n",
    "# Configure NumPy.\n",
    "# Set `Line width` to Maximum 130 characters in the output, post which it will continue in next line.\n",
    "np.set_printoptions(linewidth=130)\n",
    "\n",
    "# Configure Pandas.\n",
    "# Set display width to maximum 130 characters in the output, post which it will continue in next line.\n",
    "pd.options.display.width = 130\n",
    "pd.options.display.max_rows = None\n",
    "\n",
    "# Configure Seaborn.\n",
    "sns.set_style(\"whitegrid\")  # Set white background with grid.\n",
    "sns.set_palette(\"deep\")  # Set color palette.\n",
    "sns.set_context(\"paper\", font_scale=1.2)  # Set font to scale 1.5 more than normal."
   ]
  },
  {
   "cell_type": "code",
   "execution_count": null,
   "metadata": {
    "id": "254JNI8RYIDk"
   },
   "outputs": [],
   "source": [
    "\n",
    "def show_empty_row_count(df):\n",
    "    rows, _ = df.shape\n",
    "    count = []\n",
    "    for col_name in df.columns.tolist():\n",
    "        e_rows, _ = df[df[col_name].isna()].shape  # Empty Rows\n",
    "        if e_rows > 0:\n",
    "            count.append((col_name, e_rows, math.ceil(e_rows / rows * 100)))\n",
    "\n",
    "    table = PrettyTable([\"Column Name\", \"Empty row count\", \"%\"], align=\"r\")\n",
    "    table.add_rows(sorted(count, key=lambda i: i[1], reverse=True))\n",
    "    print(table)\n",
    "\n",
    "\n",
    "def convert_n_replace(df, col_name, new_vals=None):\n",
    "    \"\"\"\n",
    "    Function to convert given column `col_name` into Categorical type and\n",
    "    replace integer values with more meaningful strings in `new_vals`.\n",
    "    \"\"\"\n",
    "    if new_vals:\n",
    "        df[col_name] = df[col_name].replace(new_vals)\n",
    "\n",
    "    df[col_name] = df[col_name].astype(\"category\")\n",
    "\n",
    "\n",
    "# Function to get title from passenger's full name.\n",
    "get_title = lambda name: name.split(\", \").pop().split(\". \")[0]\n",
    "\n",
    "\n",
    "def create_title(df):\n",
    "    \"\"\"\n",
    "    Function to create Categorical feature `Title` based\n",
    "    on honorifics extracted from the passenger's fullname.\n",
    "    \"\"\"\n",
    "    df[\"Title\"] = df[\"Name\"].apply(lambda n: n.split(\", \")[1].split(\". \")[0]).astype(\"category\")\n",
    "\n",
    "\n",
    "def create_age_grp(df):\n",
    "    \"\"\"\n",
    "    Function to create Categorical feature `Age_grp`\n",
    "    based on passenger's title and age (if present).\n",
    "    \"\"\"\n",
    "\n",
    "    def grp_title(idf):\n",
    "        name, title, age = idf[[\"Name\", \"Title\", \"Age\"]]\n",
    "\n",
    "        if title == \"Master\" or (~np.isnan(age) and age < 15):\n",
    "            return \"Kids\"\n",
    "        elif title in [\"Ms\", \"Miss\", \"Mlle\", \"Mme\", \"the Countess\"]:\n",
    "            return \"Young Females\"\n",
    "        elif title in [\"Mr\", \"Rev\"]:\n",
    "            return \"Adult Males\"\n",
    "        elif title in [\"Mrs\", \"Lady\", \"Dona\"]:\n",
    "            return \"Adult Females\"\n",
    "        else:\n",
    "            return \"Others\"\n",
    "\n",
    "    df[\"Age_grp\"] = df.apply(grp_title, axis=1).astype(\"category\")\n",
    "\n",
    "\n",
    "def create_fam_count(df):\n",
    "    # Sum of siblings/spouse, parents/children and self.\n",
    "    df[\"Fam_count\"] = df[\"SibSp\"] + df[\"Parch\"] + 1  # add self\n",
    "\n",
    "\n",
    "def create_fam_size(df):\n",
    "    \"\"\"\n",
    "    Function to create Categorical feature\n",
    "    `Fam_size` based on passenger's family count.\n",
    "    \"\"\"\n",
    "\n",
    "    def grp_fam_count(idf):\n",
    "        # Sum of siblings/spouse, parents/children and self.\n",
    "        fam_count = idf[\"SibSp\"] + idf[\"Parch\"] + 1\n",
    "\n",
    "        if type(fam_count) != int:\n",
    "            raise ValueError(f\"Failed to compute family size. Received {type(fam_count)} type value.\")\n",
    "\n",
    "        if fam_count <= 1:\n",
    "            return \"Nill\"\n",
    "        elif fam_count <= 4:\n",
    "            return \"Medium\"\n",
    "        else:\n",
    "            return \"Large\"\n",
    "\n",
    "    df[\"Fam_size\"] = df.apply(grp_fam_count, axis=1).astype(\"category\")\n",
    "\n",
    "\n",
    "def get_survival_rates(idf, col_name):\n",
    "    \"\"\"\n",
    "    Function to get survival rates in each Family size.\n",
    "    \"\"\"\n",
    "    n = idf[col_name].unique().size\n",
    "    srv_rates = []\n",
    "    for ns_name, fs_df in idf[[col_name, \"Survived\"]].groupby(by=[col_name]):\n",
    "        t = fs_df.shape[0]\n",
    "        for st_name, st_df in fs_df.groupby(by=[\"Survived\"]):\n",
    "            srv_rates.append(f\"{round(st_df.shape[0] / t * 100)}%\")\n",
    "\n",
    "    return np.reshape(srv_rates, (n, 2)).transpose().flatten()\n",
    "\n",
    "\n",
    "def create_cabin_count(df):\n",
    "    \"\"\"\n",
    "    Function to create new Numerical feature `Cabin_count`(Cabin Count)\n",
    "    by splitting and counting value in \"Cabin\" if present otherwise zero.\n",
    "    \"\"\"\n",
    "    count_cabins = lambda c: len(c.split()) if c and type(c) == str else 0\n",
    "    df[\"Cabin_count\"] = df[\"Cabin\"].apply(count_cabins).astype(\"int\")\n",
    "\n",
    "\n",
    "def create_cabin_cat(df):\n",
    "    \"\"\"\n",
    "    Function to create new Categorical feature `Cabin_cat`(Cabin Category)\n",
    "    by grouping cabins by their first character if present otherwise \"NA\".\n",
    "    \"\"\"\n",
    "    grp_cabins = lambda c: str(c[0]) if c and type(c) == str else \"NA\"\n",
    "    df[\"Cabin_cat\"] = df[\"Cabin\"].apply(grp_cabins).astype(\"category\")\n",
    "\n",
    "\n",
    "def create_log_fare(df):\n",
    "    # Calculate log of Fare.\n",
    "    df[\"Log_Fare\"] = df[\"Fare\"].apply(lambda val: math.log(val) if val > 0 else 0)\n",
    "\n",
    "\n",
    "def encode_columns(df, col_names):\n",
    "    lbl_en = LabelEncoder()\n",
    "\n",
    "    for col_name in col_names:\n",
    "        print(f\"\\nEncoding column:'{col_name}'\")\n",
    "        df[col_name] = lbl_en.fit_transform(df[col_name].values)\n",
    "\n",
    "        # Verbose\n",
    "        table = PrettyTable([\"Label\", \"Encoded as\"], align=\"r\")\n",
    "        table.add_rows(list(zip(lbl_en.classes_, lbl_en.transform(lbl_en.classes_))))\n",
    "        print(table)\n",
    "\n",
    "\n",
    "def best_k_features(X, y, k=\"all\"):\n",
    "    bst_ftrs = SelectKBest(k=k)\n",
    "    fit = bst_ftrs.fit(X, y)\n",
    "\n",
    "    col_scores = list(zip(X.columns.tolist(), fit.scores_.tolist()))\n",
    "\n",
    "    # Sorted Column Scores.\n",
    "    s_cs = sorted(col_scores, key=lambda i: i[1], reverse=True)\n",
    "\n",
    "    # Verbose.\n",
    "    table = PrettyTable([\"idx\", \"Specs\", \"Score\"], align=\"r\")\n",
    "    for idx, (col_name, score) in enumerate(s_cs):\n",
    "        table.add_row([idx + 1, col_name, np.around(score, 1)])\n",
    "    print(table)"
   ]
  },
  {
   "cell_type": "code",
   "execution_count": null,
   "metadata": {
    "id": "ZqW9wu3QYVv1"
   },
   "outputs": [],
   "source": [
    "def plot_fare(df):\n",
    "    \"\"\"\n",
    "    Function to plot ticket fare of three passenger-classes.\n",
    "    \"\"\"\n",
    "    p_classes = df[\"Pclass\"].value_counts().index.categories\n",
    "\n",
    "    fig, ax = plt.subplots(nrows=1, ncols=len(p_classes), figsize=(14, 4))\n",
    "    fig.suptitle(\"Fare distribution b/w various Passenger Class\")\n",
    "\n",
    "    for idx, class_name in enumerate(p_classes):\n",
    "        fltr = df[\"Pclass\"] == class_name\n",
    "        sns.histplot(ax=ax[idx], data=df[fltr], x=\"Fare\", kde=True)\n",
    "        ax[idx].set_title(class_name)\n",
    "        ax[idx].set_xlabel(\"Ticket Fare\")\n",
    "        ax[idx].set_ylabel(\"Count\")\n",
    "\n",
    "    plt.subplots_adjust(top=0.85)\n",
    "    plt.show()"
   ]
  },
  {
   "cell_type": "code",
   "execution_count": null,
   "metadata": {
    "colab": {
     "base_uri": "https://localhost:8080/",
     "height": 395
    },
    "executionInfo": {
     "elapsed": 415,
     "status": "ok",
     "timestamp": 1667963687836,
     "user": {
      "displayName": "Avinash Tatar",
      "userId": "17244541308253616955"
     },
     "user_tz": -330
    },
    "id": "3yQAqYhbYILj",
    "outputId": "4bd1d3c0-0af5-4ddc-88a4-34789c7b7887"
   },
   "outputs": [
    {
     "data": {
      "text/html": [
       "\n",
       "  <div id=\"df-27a45108-7fa6-4ee6-8dfd-9386a295184e\">\n",
       "    <div class=\"colab-df-container\">\n",
       "      <div>\n",
       "<style scoped>\n",
       "    .dataframe tbody tr th:only-of-type {\n",
       "        vertical-align: middle;\n",
       "    }\n",
       "\n",
       "    .dataframe tbody tr th {\n",
       "        vertical-align: top;\n",
       "    }\n",
       "\n",
       "    .dataframe thead th {\n",
       "        text-align: right;\n",
       "    }\n",
       "</style>\n",
       "<table border=\"1\" class=\"dataframe\">\n",
       "  <thead>\n",
       "    <tr style=\"text-align: right;\">\n",
       "      <th></th>\n",
       "      <th>Survived</th>\n",
       "      <th>Pclass</th>\n",
       "      <th>Name</th>\n",
       "      <th>Sex</th>\n",
       "      <th>Age</th>\n",
       "      <th>SibSp</th>\n",
       "      <th>Parch</th>\n",
       "      <th>Ticket</th>\n",
       "      <th>Fare</th>\n",
       "      <th>Cabin</th>\n",
       "      <th>Embarked</th>\n",
       "    </tr>\n",
       "    <tr>\n",
       "      <th>PassengerId</th>\n",
       "      <th></th>\n",
       "      <th></th>\n",
       "      <th></th>\n",
       "      <th></th>\n",
       "      <th></th>\n",
       "      <th></th>\n",
       "      <th></th>\n",
       "      <th></th>\n",
       "      <th></th>\n",
       "      <th></th>\n",
       "      <th></th>\n",
       "    </tr>\n",
       "  </thead>\n",
       "  <tbody>\n",
       "    <tr>\n",
       "      <th>1</th>\n",
       "      <td>0</td>\n",
       "      <td>3</td>\n",
       "      <td>Braund, Mr. Owen Harris</td>\n",
       "      <td>male</td>\n",
       "      <td>22.0</td>\n",
       "      <td>1</td>\n",
       "      <td>0</td>\n",
       "      <td>A/5 21171</td>\n",
       "      <td>7.2500</td>\n",
       "      <td>NaN</td>\n",
       "      <td>S</td>\n",
       "    </tr>\n",
       "    <tr>\n",
       "      <th>2</th>\n",
       "      <td>1</td>\n",
       "      <td>1</td>\n",
       "      <td>Cumings, Mrs. John Bradley (Florence Briggs Th...</td>\n",
       "      <td>female</td>\n",
       "      <td>38.0</td>\n",
       "      <td>1</td>\n",
       "      <td>0</td>\n",
       "      <td>PC 17599</td>\n",
       "      <td>71.2833</td>\n",
       "      <td>C85</td>\n",
       "      <td>C</td>\n",
       "    </tr>\n",
       "    <tr>\n",
       "      <th>3</th>\n",
       "      <td>1</td>\n",
       "      <td>3</td>\n",
       "      <td>Heikkinen, Miss. Laina</td>\n",
       "      <td>female</td>\n",
       "      <td>26.0</td>\n",
       "      <td>0</td>\n",
       "      <td>0</td>\n",
       "      <td>STON/O2. 3101282</td>\n",
       "      <td>7.9250</td>\n",
       "      <td>NaN</td>\n",
       "      <td>S</td>\n",
       "    </tr>\n",
       "  </tbody>\n",
       "</table>\n",
       "</div>\n",
       "      <button class=\"colab-df-convert\" onclick=\"convertToInteractive('df-27a45108-7fa6-4ee6-8dfd-9386a295184e')\"\n",
       "              title=\"Convert this dataframe to an interactive table.\"\n",
       "              style=\"display:none;\">\n",
       "        \n",
       "  <svg xmlns=\"http://www.w3.org/2000/svg\" height=\"24px\"viewBox=\"0 0 24 24\"\n",
       "       width=\"24px\">\n",
       "    <path d=\"M0 0h24v24H0V0z\" fill=\"none\"/>\n",
       "    <path d=\"M18.56 5.44l.94 2.06.94-2.06 2.06-.94-2.06-.94-.94-2.06-.94 2.06-2.06.94zm-11 1L8.5 8.5l.94-2.06 2.06-.94-2.06-.94L8.5 2.5l-.94 2.06-2.06.94zm10 10l.94 2.06.94-2.06 2.06-.94-2.06-.94-.94-2.06-.94 2.06-2.06.94z\"/><path d=\"M17.41 7.96l-1.37-1.37c-.4-.4-.92-.59-1.43-.59-.52 0-1.04.2-1.43.59L10.3 9.45l-7.72 7.72c-.78.78-.78 2.05 0 2.83L4 21.41c.39.39.9.59 1.41.59.51 0 1.02-.2 1.41-.59l7.78-7.78 2.81-2.81c.8-.78.8-2.07 0-2.86zM5.41 20L4 18.59l7.72-7.72 1.47 1.35L5.41 20z\"/>\n",
       "  </svg>\n",
       "      </button>\n",
       "      \n",
       "  <style>\n",
       "    .colab-df-container {\n",
       "      display:flex;\n",
       "      flex-wrap:wrap;\n",
       "      gap: 12px;\n",
       "    }\n",
       "\n",
       "    .colab-df-convert {\n",
       "      background-color: #E8F0FE;\n",
       "      border: none;\n",
       "      border-radius: 50%;\n",
       "      cursor: pointer;\n",
       "      display: none;\n",
       "      fill: #1967D2;\n",
       "      height: 32px;\n",
       "      padding: 0 0 0 0;\n",
       "      width: 32px;\n",
       "    }\n",
       "\n",
       "    .colab-df-convert:hover {\n",
       "      background-color: #E2EBFA;\n",
       "      box-shadow: 0px 1px 2px rgba(60, 64, 67, 0.3), 0px 1px 3px 1px rgba(60, 64, 67, 0.15);\n",
       "      fill: #174EA6;\n",
       "    }\n",
       "\n",
       "    [theme=dark] .colab-df-convert {\n",
       "      background-color: #3B4455;\n",
       "      fill: #D2E3FC;\n",
       "    }\n",
       "\n",
       "    [theme=dark] .colab-df-convert:hover {\n",
       "      background-color: #434B5C;\n",
       "      box-shadow: 0px 1px 3px 1px rgba(0, 0, 0, 0.15);\n",
       "      filter: drop-shadow(0px 1px 2px rgba(0, 0, 0, 0.3));\n",
       "      fill: #FFFFFF;\n",
       "    }\n",
       "  </style>\n",
       "\n",
       "      <script>\n",
       "        const buttonEl =\n",
       "          document.querySelector('#df-27a45108-7fa6-4ee6-8dfd-9386a295184e button.colab-df-convert');\n",
       "        buttonEl.style.display =\n",
       "          google.colab.kernel.accessAllowed ? 'block' : 'none';\n",
       "\n",
       "        async function convertToInteractive(key) {\n",
       "          const element = document.querySelector('#df-27a45108-7fa6-4ee6-8dfd-9386a295184e');\n",
       "          const dataTable =\n",
       "            await google.colab.kernel.invokeFunction('convertToInteractive',\n",
       "                                                     [key], {});\n",
       "          if (!dataTable) return;\n",
       "\n",
       "          const docLinkHtml = 'Like what you see? Visit the ' +\n",
       "            '<a target=\"_blank\" href=https://colab.research.google.com/notebooks/data_table.ipynb>data table notebook</a>'\n",
       "            + ' to learn more about interactive tables.';\n",
       "          element.innerHTML = '';\n",
       "          dataTable['output_type'] = 'display_data';\n",
       "          await google.colab.output.renderOutput(dataTable, element);\n",
       "          const docLink = document.createElement('div');\n",
       "          docLink.innerHTML = docLinkHtml;\n",
       "          element.appendChild(docLink);\n",
       "        }\n",
       "      </script>\n",
       "    </div>\n",
       "  </div>\n",
       "  "
      ],
      "text/plain": [
       "             Survived  Pclass                                               Name     Sex   Age  SibSp  Parch            Ticket  \\\n",
       "PassengerId                                                                                                                      \n",
       "1                   0       3                            Braund, Mr. Owen Harris    male  22.0      1      0         A/5 21171   \n",
       "2                   1       1  Cumings, Mrs. John Bradley (Florence Briggs Th...  female  38.0      1      0          PC 17599   \n",
       "3                   1       3                             Heikkinen, Miss. Laina  female  26.0      0      0  STON/O2. 3101282   \n",
       "\n",
       "                Fare Cabin Embarked  \n",
       "PassengerId                          \n",
       "1             7.2500   NaN        S  \n",
       "2            71.2833   C85        C  \n",
       "3             7.9250   NaN        S  "
      ]
     },
     "execution_count": 28,
     "metadata": {},
     "output_type": "execute_result"
    }
   ],
   "source": [
    "psngr_df = pd.read_csv(\"/content/drive/MyDrive/Assignment/train.csv\", index_col=\"PassengerId\")\n",
    "psngr_df.head(3)"
   ]
  },
  {
   "cell_type": "code",
   "execution_count": null,
   "metadata": {
    "colab": {
     "base_uri": "https://localhost:8080/"
    },
    "executionInfo": {
     "elapsed": 409,
     "status": "ok",
     "timestamp": 1667963722443,
     "user": {
      "displayName": "Avinash Tatar",
      "userId": "17244541308253616955"
     },
     "user_tz": -330
    },
    "id": "MKLLp0jeYIO8",
    "outputId": "357850f2-6738-4532-d3b0-d119f353b7e7"
   },
   "outputs": [
    {
     "name": "stdout",
     "output_type": "stream",
     "text": [
      "Train dataset contains 891 and 11.\n"
     ]
    }
   ],
   "source": [
    "rows, cols = psngr_df.shape\n",
    "print(f\"Train dataset contains {rows} and {cols}.\")"
   ]
  },
  {
   "cell_type": "code",
   "execution_count": null,
   "metadata": {
    "colab": {
     "base_uri": "https://localhost:8080/",
     "height": 395
    },
    "executionInfo": {
     "elapsed": 680,
     "status": "ok",
     "timestamp": 1667963745510,
     "user": {
      "displayName": "Avinash Tatar",
      "userId": "17244541308253616955"
     },
     "user_tz": -330
    },
    "id": "hIg_yiYCYqTx",
    "outputId": "0074aeee-5db7-43a2-c34a-e53aa76166f2"
   },
   "outputs": [
    {
     "data": {
      "text/html": [
       "\n",
       "  <div id=\"df-0221c42a-3fc3-4058-9fde-88f7adb18ee1\">\n",
       "    <div class=\"colab-df-container\">\n",
       "      <div>\n",
       "<style scoped>\n",
       "    .dataframe tbody tr th:only-of-type {\n",
       "        vertical-align: middle;\n",
       "    }\n",
       "\n",
       "    .dataframe tbody tr th {\n",
       "        vertical-align: top;\n",
       "    }\n",
       "\n",
       "    .dataframe thead th {\n",
       "        text-align: right;\n",
       "    }\n",
       "</style>\n",
       "<table border=\"1\" class=\"dataframe\">\n",
       "  <thead>\n",
       "    <tr style=\"text-align: right;\">\n",
       "      <th></th>\n",
       "      <th>Pclass</th>\n",
       "      <th>Name</th>\n",
       "      <th>Sex</th>\n",
       "      <th>Age</th>\n",
       "      <th>SibSp</th>\n",
       "      <th>Parch</th>\n",
       "      <th>Ticket</th>\n",
       "      <th>Fare</th>\n",
       "      <th>Cabin</th>\n",
       "      <th>Embarked</th>\n",
       "    </tr>\n",
       "    <tr>\n",
       "      <th>PassengerId</th>\n",
       "      <th></th>\n",
       "      <th></th>\n",
       "      <th></th>\n",
       "      <th></th>\n",
       "      <th></th>\n",
       "      <th></th>\n",
       "      <th></th>\n",
       "      <th></th>\n",
       "      <th></th>\n",
       "      <th></th>\n",
       "    </tr>\n",
       "  </thead>\n",
       "  <tbody>\n",
       "    <tr>\n",
       "      <th>892</th>\n",
       "      <td>3</td>\n",
       "      <td>Kelly, Mr. James</td>\n",
       "      <td>male</td>\n",
       "      <td>34.5</td>\n",
       "      <td>0</td>\n",
       "      <td>0</td>\n",
       "      <td>330911</td>\n",
       "      <td>7.8292</td>\n",
       "      <td>NaN</td>\n",
       "      <td>Q</td>\n",
       "    </tr>\n",
       "    <tr>\n",
       "      <th>893</th>\n",
       "      <td>3</td>\n",
       "      <td>Wilkes, Mrs. James (Ellen Needs)</td>\n",
       "      <td>female</td>\n",
       "      <td>47.0</td>\n",
       "      <td>1</td>\n",
       "      <td>0</td>\n",
       "      <td>363272</td>\n",
       "      <td>7.0000</td>\n",
       "      <td>NaN</td>\n",
       "      <td>S</td>\n",
       "    </tr>\n",
       "    <tr>\n",
       "      <th>894</th>\n",
       "      <td>2</td>\n",
       "      <td>Myles, Mr. Thomas Francis</td>\n",
       "      <td>male</td>\n",
       "      <td>62.0</td>\n",
       "      <td>0</td>\n",
       "      <td>0</td>\n",
       "      <td>240276</td>\n",
       "      <td>9.6875</td>\n",
       "      <td>NaN</td>\n",
       "      <td>Q</td>\n",
       "    </tr>\n",
       "  </tbody>\n",
       "</table>\n",
       "</div>\n",
       "      <button class=\"colab-df-convert\" onclick=\"convertToInteractive('df-0221c42a-3fc3-4058-9fde-88f7adb18ee1')\"\n",
       "              title=\"Convert this dataframe to an interactive table.\"\n",
       "              style=\"display:none;\">\n",
       "        \n",
       "  <svg xmlns=\"http://www.w3.org/2000/svg\" height=\"24px\"viewBox=\"0 0 24 24\"\n",
       "       width=\"24px\">\n",
       "    <path d=\"M0 0h24v24H0V0z\" fill=\"none\"/>\n",
       "    <path d=\"M18.56 5.44l.94 2.06.94-2.06 2.06-.94-2.06-.94-.94-2.06-.94 2.06-2.06.94zm-11 1L8.5 8.5l.94-2.06 2.06-.94-2.06-.94L8.5 2.5l-.94 2.06-2.06.94zm10 10l.94 2.06.94-2.06 2.06-.94-2.06-.94-.94-2.06-.94 2.06-2.06.94z\"/><path d=\"M17.41 7.96l-1.37-1.37c-.4-.4-.92-.59-1.43-.59-.52 0-1.04.2-1.43.59L10.3 9.45l-7.72 7.72c-.78.78-.78 2.05 0 2.83L4 21.41c.39.39.9.59 1.41.59.51 0 1.02-.2 1.41-.59l7.78-7.78 2.81-2.81c.8-.78.8-2.07 0-2.86zM5.41 20L4 18.59l7.72-7.72 1.47 1.35L5.41 20z\"/>\n",
       "  </svg>\n",
       "      </button>\n",
       "      \n",
       "  <style>\n",
       "    .colab-df-container {\n",
       "      display:flex;\n",
       "      flex-wrap:wrap;\n",
       "      gap: 12px;\n",
       "    }\n",
       "\n",
       "    .colab-df-convert {\n",
       "      background-color: #E8F0FE;\n",
       "      border: none;\n",
       "      border-radius: 50%;\n",
       "      cursor: pointer;\n",
       "      display: none;\n",
       "      fill: #1967D2;\n",
       "      height: 32px;\n",
       "      padding: 0 0 0 0;\n",
       "      width: 32px;\n",
       "    }\n",
       "\n",
       "    .colab-df-convert:hover {\n",
       "      background-color: #E2EBFA;\n",
       "      box-shadow: 0px 1px 2px rgba(60, 64, 67, 0.3), 0px 1px 3px 1px rgba(60, 64, 67, 0.15);\n",
       "      fill: #174EA6;\n",
       "    }\n",
       "\n",
       "    [theme=dark] .colab-df-convert {\n",
       "      background-color: #3B4455;\n",
       "      fill: #D2E3FC;\n",
       "    }\n",
       "\n",
       "    [theme=dark] .colab-df-convert:hover {\n",
       "      background-color: #434B5C;\n",
       "      box-shadow: 0px 1px 3px 1px rgba(0, 0, 0, 0.15);\n",
       "      filter: drop-shadow(0px 1px 2px rgba(0, 0, 0, 0.3));\n",
       "      fill: #FFFFFF;\n",
       "    }\n",
       "  </style>\n",
       "\n",
       "      <script>\n",
       "        const buttonEl =\n",
       "          document.querySelector('#df-0221c42a-3fc3-4058-9fde-88f7adb18ee1 button.colab-df-convert');\n",
       "        buttonEl.style.display =\n",
       "          google.colab.kernel.accessAllowed ? 'block' : 'none';\n",
       "\n",
       "        async function convertToInteractive(key) {\n",
       "          const element = document.querySelector('#df-0221c42a-3fc3-4058-9fde-88f7adb18ee1');\n",
       "          const dataTable =\n",
       "            await google.colab.kernel.invokeFunction('convertToInteractive',\n",
       "                                                     [key], {});\n",
       "          if (!dataTable) return;\n",
       "\n",
       "          const docLinkHtml = 'Like what you see? Visit the ' +\n",
       "            '<a target=\"_blank\" href=https://colab.research.google.com/notebooks/data_table.ipynb>data table notebook</a>'\n",
       "            + ' to learn more about interactive tables.';\n",
       "          element.innerHTML = '';\n",
       "          dataTable['output_type'] = 'display_data';\n",
       "          await google.colab.output.renderOutput(dataTable, element);\n",
       "          const docLink = document.createElement('div');\n",
       "          docLink.innerHTML = docLinkHtml;\n",
       "          element.appendChild(docLink);\n",
       "        }\n",
       "      </script>\n",
       "    </div>\n",
       "  </div>\n",
       "  "
      ],
      "text/plain": [
       "             Pclass                              Name     Sex   Age  SibSp  Parch  Ticket    Fare Cabin Embarked\n",
       "PassengerId                                                                                                     \n",
       "892               3                  Kelly, Mr. James    male  34.5      0      0  330911  7.8292   NaN        Q\n",
       "893               3  Wilkes, Mrs. James (Ellen Needs)  female  47.0      1      0  363272  7.0000   NaN        S\n",
       "894               2         Myles, Mr. Thomas Francis    male  62.0      0      0  240276  9.6875   NaN        Q"
      ]
     },
     "execution_count": 30,
     "metadata": {},
     "output_type": "execute_result"
    }
   ],
   "source": [
    "test_df = pd.read_csv(\"/content/drive/MyDrive/Assignment/test.csv\", index_col=\"PassengerId\")\n",
    "test_df.head(3)"
   ]
  },
  {
   "cell_type": "code",
   "execution_count": null,
   "metadata": {
    "colab": {
     "base_uri": "https://localhost:8080/"
    },
    "executionInfo": {
     "elapsed": 641,
     "status": "ok",
     "timestamp": 1667963787667,
     "user": {
      "displayName": "Avinash Tatar",
      "userId": "17244541308253616955"
     },
     "user_tz": -330
    },
    "id": "5EP2G5pUYwAB",
    "outputId": "b7d979fa-905e-46df-cc7b-206b78554536"
   },
   "outputs": [
    {
     "name": "stdout",
     "output_type": "stream",
     "text": [
      "Test dataset contains 891 and 11.\n"
     ]
    }
   ],
   "source": [
    "t_rows, t_cols = psngr_df.shape\n",
    "print(f\"Test dataset contains {t_rows} and {t_cols}.\")"
   ]
  },
  {
   "cell_type": "code",
   "execution_count": null,
   "metadata": {
    "colab": {
     "base_uri": "https://localhost:8080/"
    },
    "executionInfo": {
     "elapsed": 376,
     "status": "ok",
     "timestamp": 1667963790292,
     "user": {
      "displayName": "Avinash Tatar",
      "userId": "17244541308253616955"
     },
     "user_tz": -330
    },
    "id": "IeV7H3CWYwIG",
    "outputId": "c4e77bea-af12-4510-c7df-4564589c275c"
   },
   "outputs": [
    {
     "name": "stdout",
     "output_type": "stream",
     "text": [
      "<class 'pandas.core.frame.DataFrame'>\n",
      "Int64Index: 891 entries, 1 to 891\n",
      "Data columns (total 11 columns):\n",
      " #   Column    Non-Null Count  Dtype  \n",
      "---  ------    --------------  -----  \n",
      " 0   Survived  891 non-null    int64  \n",
      " 1   Pclass    891 non-null    int64  \n",
      " 2   Name      891 non-null    object \n",
      " 3   Sex       891 non-null    object \n",
      " 4   Age       714 non-null    float64\n",
      " 5   SibSp     891 non-null    int64  \n",
      " 6   Parch     891 non-null    int64  \n",
      " 7   Ticket    891 non-null    object \n",
      " 8   Fare      891 non-null    float64\n",
      " 9   Cabin     204 non-null    object \n",
      " 10  Embarked  889 non-null    object \n",
      "dtypes: float64(2), int64(4), object(5)\n",
      "memory usage: 83.5+ KB\n"
     ]
    }
   ],
   "source": [
    "psngr_df.info()"
   ]
  },
  {
   "cell_type": "code",
   "execution_count": null,
   "metadata": {
    "colab": {
     "base_uri": "https://localhost:8080/"
    },
    "executionInfo": {
     "elapsed": 717,
     "status": "ok",
     "timestamp": 1667963794379,
     "user": {
      "displayName": "Avinash Tatar",
      "userId": "17244541308253616955"
     },
     "user_tz": -330
    },
    "id": "GT89oaxbYwKw",
    "outputId": "56a3ffa9-be3d-4074-b447-cb18923a7e77"
   },
   "outputs": [
    {
     "name": "stdout",
     "output_type": "stream",
     "text": [
      "+-------------+-----------------+----+\n",
      "| Column Name | Empty row count |  % |\n",
      "+-------------+-----------------+----+\n",
      "|       Cabin |             687 | 78 |\n",
      "|         Age |             177 | 20 |\n",
      "|    Embarked |               2 |  1 |\n",
      "+-------------+-----------------+----+\n"
     ]
    }
   ],
   "source": [
    "show_empty_row_count(psngr_df)"
   ]
  },
  {
   "cell_type": "code",
   "execution_count": null,
   "metadata": {
    "colab": {
     "base_uri": "https://localhost:8080/"
    },
    "executionInfo": {
     "elapsed": 397,
     "status": "ok",
     "timestamp": 1667963829957,
     "user": {
      "displayName": "Avinash Tatar",
      "userId": "17244541308253616955"
     },
     "user_tz": -330
    },
    "id": "pZdTwV--YwNQ",
    "outputId": "723ede30-47dc-469f-dd3b-199e3d72e316"
   },
   "outputs": [
    {
     "name": "stdout",
     "output_type": "stream",
     "text": [
      "+-------------+-----------------+----+\n",
      "| Column Name | Empty row count |  % |\n",
      "+-------------+-----------------+----+\n",
      "|       Cabin |             327 | 79 |\n",
      "|         Age |              86 | 21 |\n",
      "|        Fare |               1 |  1 |\n",
      "+-------------+-----------------+----+\n"
     ]
    }
   ],
   "source": [
    "show_empty_row_count(test_df)"
   ]
  },
  {
   "cell_type": "code",
   "execution_count": null,
   "metadata": {
    "colab": {
     "base_uri": "https://localhost:8080/",
     "height": 395
    },
    "executionInfo": {
     "elapsed": 401,
     "status": "ok",
     "timestamp": 1667963830976,
     "user": {
      "displayName": "Avinash Tatar",
      "userId": "17244541308253616955"
     },
     "user_tz": -330
    },
    "id": "8LKfoUcrYwQg",
    "outputId": "deb3fb31-933e-4458-ec04-82da7f15ae70"
   },
   "outputs": [
    {
     "data": {
      "text/html": [
       "\n",
       "  <div id=\"df-841c0c9d-92e5-4c92-a6bb-e10eeb9ad465\">\n",
       "    <div class=\"colab-df-container\">\n",
       "      <div>\n",
       "<style scoped>\n",
       "    .dataframe tbody tr th:only-of-type {\n",
       "        vertical-align: middle;\n",
       "    }\n",
       "\n",
       "    .dataframe tbody tr th {\n",
       "        vertical-align: top;\n",
       "    }\n",
       "\n",
       "    .dataframe thead th {\n",
       "        text-align: right;\n",
       "    }\n",
       "</style>\n",
       "<table border=\"1\" class=\"dataframe\">\n",
       "  <thead>\n",
       "    <tr style=\"text-align: right;\">\n",
       "      <th></th>\n",
       "      <th>Survived</th>\n",
       "      <th>Pclass</th>\n",
       "      <th>Name</th>\n",
       "      <th>Sex</th>\n",
       "      <th>Age</th>\n",
       "      <th>SibSp</th>\n",
       "      <th>Parch</th>\n",
       "      <th>Ticket</th>\n",
       "      <th>Fare</th>\n",
       "      <th>Cabin</th>\n",
       "      <th>Embarked</th>\n",
       "    </tr>\n",
       "    <tr>\n",
       "      <th>PassengerId</th>\n",
       "      <th></th>\n",
       "      <th></th>\n",
       "      <th></th>\n",
       "      <th></th>\n",
       "      <th></th>\n",
       "      <th></th>\n",
       "      <th></th>\n",
       "      <th></th>\n",
       "      <th></th>\n",
       "      <th></th>\n",
       "      <th></th>\n",
       "    </tr>\n",
       "  </thead>\n",
       "  <tbody>\n",
       "    <tr>\n",
       "      <th>1</th>\n",
       "      <td>No</td>\n",
       "      <td>Third</td>\n",
       "      <td>Braund, Mr. Owen Harris</td>\n",
       "      <td>Male</td>\n",
       "      <td>22.0</td>\n",
       "      <td>1</td>\n",
       "      <td>0</td>\n",
       "      <td>A/5 21171</td>\n",
       "      <td>7.2500</td>\n",
       "      <td>NaN</td>\n",
       "      <td>S</td>\n",
       "    </tr>\n",
       "    <tr>\n",
       "      <th>2</th>\n",
       "      <td>Yes</td>\n",
       "      <td>First</td>\n",
       "      <td>Cumings, Mrs. John Bradley (Florence Briggs Th...</td>\n",
       "      <td>Female</td>\n",
       "      <td>38.0</td>\n",
       "      <td>1</td>\n",
       "      <td>0</td>\n",
       "      <td>PC 17599</td>\n",
       "      <td>71.2833</td>\n",
       "      <td>C85</td>\n",
       "      <td>C</td>\n",
       "    </tr>\n",
       "    <tr>\n",
       "      <th>3</th>\n",
       "      <td>Yes</td>\n",
       "      <td>Third</td>\n",
       "      <td>Heikkinen, Miss. Laina</td>\n",
       "      <td>Female</td>\n",
       "      <td>26.0</td>\n",
       "      <td>0</td>\n",
       "      <td>0</td>\n",
       "      <td>STON/O2. 3101282</td>\n",
       "      <td>7.9250</td>\n",
       "      <td>NaN</td>\n",
       "      <td>S</td>\n",
       "    </tr>\n",
       "  </tbody>\n",
       "</table>\n",
       "</div>\n",
       "      <button class=\"colab-df-convert\" onclick=\"convertToInteractive('df-841c0c9d-92e5-4c92-a6bb-e10eeb9ad465')\"\n",
       "              title=\"Convert this dataframe to an interactive table.\"\n",
       "              style=\"display:none;\">\n",
       "        \n",
       "  <svg xmlns=\"http://www.w3.org/2000/svg\" height=\"24px\"viewBox=\"0 0 24 24\"\n",
       "       width=\"24px\">\n",
       "    <path d=\"M0 0h24v24H0V0z\" fill=\"none\"/>\n",
       "    <path d=\"M18.56 5.44l.94 2.06.94-2.06 2.06-.94-2.06-.94-.94-2.06-.94 2.06-2.06.94zm-11 1L8.5 8.5l.94-2.06 2.06-.94-2.06-.94L8.5 2.5l-.94 2.06-2.06.94zm10 10l.94 2.06.94-2.06 2.06-.94-2.06-.94-.94-2.06-.94 2.06-2.06.94z\"/><path d=\"M17.41 7.96l-1.37-1.37c-.4-.4-.92-.59-1.43-.59-.52 0-1.04.2-1.43.59L10.3 9.45l-7.72 7.72c-.78.78-.78 2.05 0 2.83L4 21.41c.39.39.9.59 1.41.59.51 0 1.02-.2 1.41-.59l7.78-7.78 2.81-2.81c.8-.78.8-2.07 0-2.86zM5.41 20L4 18.59l7.72-7.72 1.47 1.35L5.41 20z\"/>\n",
       "  </svg>\n",
       "      </button>\n",
       "      \n",
       "  <style>\n",
       "    .colab-df-container {\n",
       "      display:flex;\n",
       "      flex-wrap:wrap;\n",
       "      gap: 12px;\n",
       "    }\n",
       "\n",
       "    .colab-df-convert {\n",
       "      background-color: #E8F0FE;\n",
       "      border: none;\n",
       "      border-radius: 50%;\n",
       "      cursor: pointer;\n",
       "      display: none;\n",
       "      fill: #1967D2;\n",
       "      height: 32px;\n",
       "      padding: 0 0 0 0;\n",
       "      width: 32px;\n",
       "    }\n",
       "\n",
       "    .colab-df-convert:hover {\n",
       "      background-color: #E2EBFA;\n",
       "      box-shadow: 0px 1px 2px rgba(60, 64, 67, 0.3), 0px 1px 3px 1px rgba(60, 64, 67, 0.15);\n",
       "      fill: #174EA6;\n",
       "    }\n",
       "\n",
       "    [theme=dark] .colab-df-convert {\n",
       "      background-color: #3B4455;\n",
       "      fill: #D2E3FC;\n",
       "    }\n",
       "\n",
       "    [theme=dark] .colab-df-convert:hover {\n",
       "      background-color: #434B5C;\n",
       "      box-shadow: 0px 1px 3px 1px rgba(0, 0, 0, 0.15);\n",
       "      filter: drop-shadow(0px 1px 2px rgba(0, 0, 0, 0.3));\n",
       "      fill: #FFFFFF;\n",
       "    }\n",
       "  </style>\n",
       "\n",
       "      <script>\n",
       "        const buttonEl =\n",
       "          document.querySelector('#df-841c0c9d-92e5-4c92-a6bb-e10eeb9ad465 button.colab-df-convert');\n",
       "        buttonEl.style.display =\n",
       "          google.colab.kernel.accessAllowed ? 'block' : 'none';\n",
       "\n",
       "        async function convertToInteractive(key) {\n",
       "          const element = document.querySelector('#df-841c0c9d-92e5-4c92-a6bb-e10eeb9ad465');\n",
       "          const dataTable =\n",
       "            await google.colab.kernel.invokeFunction('convertToInteractive',\n",
       "                                                     [key], {});\n",
       "          if (!dataTable) return;\n",
       "\n",
       "          const docLinkHtml = 'Like what you see? Visit the ' +\n",
       "            '<a target=\"_blank\" href=https://colab.research.google.com/notebooks/data_table.ipynb>data table notebook</a>'\n",
       "            + ' to learn more about interactive tables.';\n",
       "          element.innerHTML = '';\n",
       "          dataTable['output_type'] = 'display_data';\n",
       "          await google.colab.output.renderOutput(dataTable, element);\n",
       "          const docLink = document.createElement('div');\n",
       "          docLink.innerHTML = docLinkHtml;\n",
       "          element.appendChild(docLink);\n",
       "        }\n",
       "      </script>\n",
       "    </div>\n",
       "  </div>\n",
       "  "
      ],
      "text/plain": [
       "            Survived Pclass                                               Name     Sex   Age  SibSp  Parch            Ticket  \\\n",
       "PassengerId                                                                                                                    \n",
       "1                 No  Third                            Braund, Mr. Owen Harris    Male  22.0      1      0         A/5 21171   \n",
       "2                Yes  First  Cumings, Mrs. John Bradley (Florence Briggs Th...  Female  38.0      1      0          PC 17599   \n",
       "3                Yes  Third                             Heikkinen, Miss. Laina  Female  26.0      0      0  STON/O2. 3101282   \n",
       "\n",
       "                Fare Cabin Embarked  \n",
       "PassengerId                          \n",
       "1             7.2500   NaN        S  \n",
       "2            71.2833   C85        C  \n",
       "3             7.9250   NaN        S  "
      ]
     },
     "execution_count": 35,
     "metadata": {},
     "output_type": "execute_result"
    }
   ],
   "source": [
    "surv_state = {0: \"No\", 1: \"Yes\"}\n",
    "convert_n_replace(psngr_df, \"Survived\", surv_state)\n",
    "\n",
    "p_class = {1: \"First\", 2: \"Second\", 3: \"Third\"}\n",
    "convert_n_replace(psngr_df, \"Pclass\", p_class)\n",
    "\n",
    "gender = {\"male\": \"Male\", \"female\": \"Female\"}\n",
    "convert_n_replace(psngr_df, \"Sex\", gender)\n",
    "\n",
    "convert_n_replace(psngr_df, \"Embarked\", gender)\n",
    "\n",
    "psngr_df.head(3)"
   ]
  },
  {
   "cell_type": "code",
   "execution_count": null,
   "metadata": {
    "colab": {
     "base_uri": "https://localhost:8080/"
    },
    "executionInfo": {
     "elapsed": 10,
     "status": "ok",
     "timestamp": 1667963839741,
     "user": {
      "displayName": "Avinash Tatar",
      "userId": "17244541308253616955"
     },
     "user_tz": -330
    },
    "id": "OFuh-wVbZFAX",
    "outputId": "800cf8f3-f87e-4786-ee6f-110a052e7309"
   },
   "outputs": [
    {
     "data": {
      "text/plain": [
       "No     549\n",
       "Yes    342\n",
       "Name: Survived, dtype: int64"
      ]
     },
     "execution_count": 36,
     "metadata": {},
     "output_type": "execute_result"
    }
   ],
   "source": [
    "survival_status = psngr_df[\"Survived\"].value_counts()\n",
    "survival_status"
   ]
  },
  {
   "cell_type": "code",
   "execution_count": null,
   "metadata": {
    "colab": {
     "base_uri": "https://localhost:8080/",
     "height": 264
    },
    "executionInfo": {
     "elapsed": 722,
     "status": "ok",
     "timestamp": 1667963894391,
     "user": {
      "displayName": "Avinash Tatar",
      "userId": "17244541308253616955"
     },
     "user_tz": -330
    },
    "id": "MZrp3lvmZG2O",
    "outputId": "81493b74-19a4-4089-ba1a-8717e7351156"
   },
   "outputs": [
    {
     "data": {
      "image/png": "[encoded data removed]",
      "text/plain": [
       "<Figure size 432x288 with 1 Axes>"
      ]
     },
     "metadata": {},
     "output_type": "display_data"
    }
   ],
   "source": [
    "labels = [\"Died\", \"Survived\"]\n",
    "colors = [\"#699ec9\", \"#ffea80\"]\n",
    "\n",
    "plt.pie(x=survival_status, labels=labels, colors=colors, autopct=\"%1.0f%%\")\n",
    "plt.title(\"Survival Rate\")\n",
    "plt.show()"
   ]
  },
  {
   "cell_type": "code",
   "execution_count": null,
   "metadata": {
    "colab": {
     "base_uri": "https://localhost:8080/",
     "height": 300
    },
    "executionInfo": {
     "elapsed": 537,
     "status": "ok",
     "timestamp": 1667963899908,
     "user": {
      "displayName": "Avinash Tatar",
      "userId": "17244541308253616955"
     },
     "user_tz": -330
    },
    "id": "1bc1Hiz3ZHAd",
    "outputId": "b16b7b9e-32c9-4b59-b559-5054d17b2984"
   },
   "outputs": [
    {
     "data": {
      "image/png": "[encoded data removed]",
      "text/plain": [
       "<Figure size 432x288 with 1 Axes>"
      ]
     },
     "metadata": {},
     "output_type": "display_data"
    }
   ],
   "source": [
    "plt.figure(figsize=(6, 4))\n",
    "\n",
    "ax = sns.countplot(data=psngr_df, x=\"Pclass\", hue=\"Survived\")\n",
    "plt.title(\"Survival rate among various passenger class\")\n",
    "plt.xlabel(\"Passenger Class\")\n",
    "plt.ylabel(\"Count\")\n",
    "\n",
    "# Get survival rates in each passenger class.\n",
    "srv_rates = get_survival_rates(psngr_df, \"Pclass\")\n",
    "\n",
    "for index, patch in enumerate(ax.patches):\n",
    "    x = patch.get_x() + patch.get_width() / 2\n",
    "    y = patch.get_height()\n",
    "    ax.annotate(srv_rates[index] + \"\\n\", (x, y), ha=\"center\", va=\"center\")\n",
    "\n",
    "plt.show()"
   ]
  },
  {
   "cell_type": "code",
   "execution_count": null,
   "metadata": {
    "colab": {
     "base_uri": "https://localhost:8080/",
     "height": 251
    },
    "executionInfo": {
     "elapsed": 1510,
     "status": "ok",
     "timestamp": 1667963905344,
     "user": {
      "displayName": "Avinash Tatar",
      "userId": "17244541308253616955"
     },
     "user_tz": -330
    },
    "id": "YSx9E_R2ZHD2",
    "outputId": "b728202c-3a24-42b5-f19c-7d6a23599139"
   },
   "outputs": [
    {
     "data": {
      "image/png": "[encoded data removed]",
      "text/plain": [
       "<Figure size 1080x288 with 1 Axes>"
      ]
     },
     "metadata": {},
     "output_type": "display_data"
    }
   ],
   "source": [
    "psngr_df[\"Name_len\"] = psngr_df[\"Name\"].apply(len)\n",
    "\n",
    "plt.figure(figsize=(15, 4))\n",
    "sns.histplot(data=psngr_df, x=\"Name_len\", hue=\"Survived\", kde=\"True\")\n",
    "plt.xlabel(\"Passenger Name length\")\n",
    "plt.ylabel(\"Count\")\n",
    "\n",
    "plt.show()\n"
   ]
  },
  {
   "cell_type": "code",
   "execution_count": null,
   "metadata": {
    "colab": {
     "base_uri": "https://localhost:8080/"
    },
    "executionInfo": {
     "elapsed": 683,
     "status": "ok",
     "timestamp": 1667963938672,
     "user": {
      "displayName": "Avinash Tatar",
      "userId": "17244541308253616955"
     },
     "user_tz": -330
    },
    "id": "wqhn1sIqZHJ2",
    "outputId": "46897e80-b991-4446-ebdb-85674da8763d"
   },
   "outputs": [
    {
     "data": {
      "text/plain": [
       "Mr              517\n",
       "Miss            182\n",
       "Mrs             125\n",
       "Master           40\n",
       "Dr                7\n",
       "Rev               6\n",
       "Major             2\n",
       "Col               2\n",
       "Mlle              2\n",
       "Sir               1\n",
       "Ms                1\n",
       "Capt              1\n",
       "Mme               1\n",
       "Lady              1\n",
       "Jonkheer          1\n",
       "Don               1\n",
       "the Countess      1\n",
       "Name: Title, dtype: int64"
      ]
     },
     "execution_count": 40,
     "metadata": {},
     "output_type": "execute_result"
    }
   ],
   "source": [
    "create_title(psngr_df)\n",
    "psngr_df[\"Title\"].value_counts()"
   ]
  },
  {
   "cell_type": "code",
   "execution_count": null,
   "metadata": {
    "colab": {
     "base_uri": "https://localhost:8080/"
    },
    "executionInfo": {
     "elapsed": 704,
     "status": "ok",
     "timestamp": 1667963942734,
     "user": {
      "displayName": "Avinash Tatar",
      "userId": "17244541308253616955"
     },
     "user_tz": -330
    },
    "id": "3jDbRbjYZHRB",
    "outputId": "78e096e2-dffc-46b1-a368-d85f4ba2bda9"
   },
   "outputs": [
    {
     "data": {
      "text/plain": [
       "Adult Males      520\n",
       "Young Females    149\n",
       "Adult Females    125\n",
       "Kids              82\n",
       "Others            15\n",
       "Name: Age_grp, dtype: int64"
      ]
     },
     "execution_count": 41,
     "metadata": {},
     "output_type": "execute_result"
    }
   ],
   "source": [
    "create_age_grp(psngr_df)\n",
    "psngr_df[\"Age_grp\"].value_counts()"
   ]
  },
  {
   "cell_type": "code",
   "execution_count": null,
   "metadata": {
    "colab": {
     "base_uri": "https://localhost:8080/",
     "height": 237
    },
    "executionInfo": {
     "elapsed": 424,
     "status": "ok",
     "timestamp": 1667963946328,
     "user": {
      "displayName": "Avinash Tatar",
      "userId": "17244541308253616955"
     },
     "user_tz": -330
    },
    "id": "sIVEYeQRZHUe",
    "outputId": "bbad8ac4-86c2-4584-b412-3313a3ee9f10"
   },
   "outputs": [
    {
     "data": {
      "text/html": [
       "\n",
       "  <div id=\"df-8bce57dc-d4f7-45bc-9914-dbe3ebb3e0be\">\n",
       "    <div class=\"colab-df-container\">\n",
       "      <div>\n",
       "<style scoped>\n",
       "    .dataframe tbody tr th:only-of-type {\n",
       "        vertical-align: middle;\n",
       "    }\n",
       "\n",
       "    .dataframe tbody tr th {\n",
       "        vertical-align: top;\n",
       "    }\n",
       "\n",
       "    .dataframe thead th {\n",
       "        text-align: right;\n",
       "    }\n",
       "</style>\n",
       "<table border=\"1\" class=\"dataframe\">\n",
       "  <thead>\n",
       "    <tr style=\"text-align: right;\">\n",
       "      <th></th>\n",
       "      <th>Title</th>\n",
       "      <th>Age_grp</th>\n",
       "      <th>Sex</th>\n",
       "      <th>Name</th>\n",
       "      <th>Age</th>\n",
       "    </tr>\n",
       "    <tr>\n",
       "      <th>PassengerId</th>\n",
       "      <th></th>\n",
       "      <th></th>\n",
       "      <th></th>\n",
       "      <th></th>\n",
       "      <th></th>\n",
       "    </tr>\n",
       "  </thead>\n",
       "  <tbody>\n",
       "    <tr>\n",
       "      <th>276</th>\n",
       "      <td>Miss</td>\n",
       "      <td>Young Females</td>\n",
       "      <td>Female</td>\n",
       "      <td>Andrews, Miss. Kornelia Theodosia</td>\n",
       "      <td>63.0</td>\n",
       "    </tr>\n",
       "    <tr>\n",
       "      <th>746</th>\n",
       "      <td>Capt</td>\n",
       "      <td>Others</td>\n",
       "      <td>Male</td>\n",
       "      <td>Crosby, Capt. Edward Gifford</td>\n",
       "      <td>70.0</td>\n",
       "    </tr>\n",
       "    <tr>\n",
       "      <th>112</th>\n",
       "      <td>Miss</td>\n",
       "      <td>Kids</td>\n",
       "      <td>Female</td>\n",
       "      <td>Zabour, Miss. Hileni</td>\n",
       "      <td>14.5</td>\n",
       "    </tr>\n",
       "    <tr>\n",
       "      <th>631</th>\n",
       "      <td>Mr</td>\n",
       "      <td>Adult Males</td>\n",
       "      <td>Male</td>\n",
       "      <td>Barkworth, Mr. Algernon Henry Wilson</td>\n",
       "      <td>80.0</td>\n",
       "    </tr>\n",
       "    <tr>\n",
       "      <th>484</th>\n",
       "      <td>Mrs</td>\n",
       "      <td>Adult Females</td>\n",
       "      <td>Female</td>\n",
       "      <td>Turkula, Mrs. (Hedwig)</td>\n",
       "      <td>63.0</td>\n",
       "    </tr>\n",
       "  </tbody>\n",
       "</table>\n",
       "</div>\n",
       "      <button class=\"colab-df-convert\" onclick=\"convertToInteractive('df-8bce57dc-d4f7-45bc-9914-dbe3ebb3e0be')\"\n",
       "              title=\"Convert this dataframe to an interactive table.\"\n",
       "              style=\"display:none;\">\n",
       "        \n",
       "  <svg xmlns=\"http://www.w3.org/2000/svg\" height=\"24px\"viewBox=\"0 0 24 24\"\n",
       "       width=\"24px\">\n",
       "    <path d=\"M0 0h24v24H0V0z\" fill=\"none\"/>\n",
       "    <path d=\"M18.56 5.44l.94 2.06.94-2.06 2.06-.94-2.06-.94-.94-2.06-.94 2.06-2.06.94zm-11 1L8.5 8.5l.94-2.06 2.06-.94-2.06-.94L8.5 2.5l-.94 2.06-2.06.94zm10 10l.94 2.06.94-2.06 2.06-.94-2.06-.94-.94-2.06-.94 2.06-2.06.94z\"/><path d=\"M17.41 7.96l-1.37-1.37c-.4-.4-.92-.59-1.43-.59-.52 0-1.04.2-1.43.59L10.3 9.45l-7.72 7.72c-.78.78-.78 2.05 0 2.83L4 21.41c.39.39.9.59 1.41.59.51 0 1.02-.2 1.41-.59l7.78-7.78 2.81-2.81c.8-.78.8-2.07 0-2.86zM5.41 20L4 18.59l7.72-7.72 1.47 1.35L5.41 20z\"/>\n",
       "  </svg>\n",
       "      </button>\n",
       "      \n",
       "  <style>\n",
       "    .colab-df-container {\n",
       "      display:flex;\n",
       "      flex-wrap:wrap;\n",
       "      gap: 12px;\n",
       "    }\n",
       "\n",
       "    .colab-df-convert {\n",
       "      background-color: #E8F0FE;\n",
       "      border: none;\n",
       "      border-radius: 50%;\n",
       "      cursor: pointer;\n",
       "      display: none;\n",
       "      fill: #1967D2;\n",
       "      height: 32px;\n",
       "      padding: 0 0 0 0;\n",
       "      width: 32px;\n",
       "    }\n",
       "\n",
       "    .colab-df-convert:hover {\n",
       "      background-color: #E2EBFA;\n",
       "      box-shadow: 0px 1px 2px rgba(60, 64, 67, 0.3), 0px 1px 3px 1px rgba(60, 64, 67, 0.15);\n",
       "      fill: #174EA6;\n",
       "    }\n",
       "\n",
       "    [theme=dark] .colab-df-convert {\n",
       "      background-color: #3B4455;\n",
       "      fill: #D2E3FC;\n",
       "    }\n",
       "\n",
       "    [theme=dark] .colab-df-convert:hover {\n",
       "      background-color: #434B5C;\n",
       "      box-shadow: 0px 1px 3px 1px rgba(0, 0, 0, 0.15);\n",
       "      filter: drop-shadow(0px 1px 2px rgba(0, 0, 0, 0.3));\n",
       "      fill: #FFFFFF;\n",
       "    }\n",
       "  </style>\n",
       "\n",
       "      <script>\n",
       "        const buttonEl =\n",
       "          document.querySelector('#df-8bce57dc-d4f7-45bc-9914-dbe3ebb3e0be button.colab-df-convert');\n",
       "        buttonEl.style.display =\n",
       "          google.colab.kernel.accessAllowed ? 'block' : 'none';\n",
       "\n",
       "        async function convertToInteractive(key) {\n",
       "          const element = document.querySelector('#df-8bce57dc-d4f7-45bc-9914-dbe3ebb3e0be');\n",
       "          const dataTable =\n",
       "            await google.colab.kernel.invokeFunction('convertToInteractive',\n",
       "                                                     [key], {});\n",
       "          if (!dataTable) return;\n",
       "\n",
       "          const docLinkHtml = 'Like what you see? Visit the ' +\n",
       "            '<a target=\"_blank\" href=https://colab.research.google.com/notebooks/data_table.ipynb>data table notebook</a>'\n",
       "            + ' to learn more about interactive tables.';\n",
       "          element.innerHTML = '';\n",
       "          dataTable['output_type'] = 'display_data';\n",
       "          await google.colab.output.renderOutput(dataTable, element);\n",
       "          const docLink = document.createElement('div');\n",
       "          docLink.innerHTML = docLinkHtml;\n",
       "          element.appendChild(docLink);\n",
       "        }\n",
       "      </script>\n",
       "    </div>\n",
       "  </div>\n",
       "  "
      ],
      "text/plain": [
       "            Title        Age_grp     Sex                                  Name   Age\n",
       "PassengerId                                                                         \n",
       "276          Miss  Young Females  Female     Andrews, Miss. Kornelia Theodosia  63.0\n",
       "746          Capt         Others    Male          Crosby, Capt. Edward Gifford  70.0\n",
       "112          Miss           Kids  Female                  Zabour, Miss. Hileni  14.5\n",
       "631            Mr    Adult Males    Male  Barkworth, Mr. Algernon Henry Wilson  80.0\n",
       "484           Mrs  Adult Females  Female                Turkula, Mrs. (Hedwig)  63.0"
      ]
     },
     "execution_count": 42,
     "metadata": {},
     "output_type": "execute_result"
    }
   ],
   "source": [
    "psngr_df[[\"Title\", \"Age_grp\", \"Sex\", \"Name\", \"Age\"]].sort_values([\"Age_grp\", \"Age\"], ascending=False).groupby(\"Age_grp\").head(1)"
   ]
  },
  {
   "cell_type": "code",
   "execution_count": null,
   "metadata": {
    "colab": {
     "base_uri": "https://localhost:8080/",
     "height": 354
    },
    "executionInfo": {
     "elapsed": 19,
     "status": "ok",
     "timestamp": 1667964008940,
     "user": {
      "displayName": "Avinash Tatar",
      "userId": "17244541308253616955"
     },
     "user_tz": -330
    },
    "id": "q2rLfBQRZlEe",
    "outputId": "2fb0b206-f966-4374-eba9-72f646465a53"
   },
   "outputs": [
    {
     "data": {
      "image/png": "[encoded data removed]",
      "text/plain": [
       "<Figure size 720x360 with 1 Axes>"
      ]
     },
     "metadata": {},
     "output_type": "display_data"
    }
   ],
   "source": [
    "plt.figure(figsize=(10, 5))\n",
    "\n",
    "ax = sns.countplot(data=psngr_df, x=\"Age_grp\", hue=\"Survived\")\n",
    "plt.title(\"Survival rate among various age groups\")\n",
    "plt.xlabel(\"Age Group\")\n",
    "plt.ylabel(\"Count\")\n",
    "\n",
    "# Get survival rates in each age group.\n",
    "srv_rates = get_survival_rates(psngr_df, \"Age_grp\")\n",
    "\n",
    "for index, patch in enumerate(ax.patches):\n",
    "    x = patch.get_x() + patch.get_width() / 2\n",
    "    y = patch.get_height()\n",
    "    ax.annotate(srv_rates[index] + \"\\n\", (x, y), ha=\"center\", va=\"center\")\n",
    "\n",
    "plt.show()"
   ]
  },
  {
   "cell_type": "code",
   "execution_count": null,
   "metadata": {
    "colab": {
     "base_uri": "https://localhost:8080/",
     "height": 300
    },
    "executionInfo": {
     "elapsed": 8,
     "status": "ok",
     "timestamp": 1667964020378,
     "user": {
      "displayName": "Avinash Tatar",
      "userId": "17244541308253616955"
     },
     "user_tz": -330
    },
    "id": "sZdGSXDUZlHG",
    "outputId": "f583feb3-a51a-48c8-946e-279ea54e8429"
   },
   "outputs": [
    {
     "data": {
      "image/png": "[encoded data removed]",
      "text/plain": [
       "<Figure size 432x288 with 1 Axes>"
      ]
     },
     "metadata": {},
     "output_type": "display_data"
    }
   ],
   "source": [
    "plt.figure(figsize=(6, 4))\n",
    "sns.countplot(data=psngr_df, x=\"Sex\", hue=\"Survived\")\n",
    "plt.title(\"Survival state b/w Men and Women\")\n",
    "plt.xlabel(\"Gender\")\n",
    "plt.ylabel(\"Count\")\n",
    "\n",
    "plt.show()"
   ]
  },
  {
   "cell_type": "code",
   "execution_count": null,
   "metadata": {
    "colab": {
     "base_uri": "https://localhost:8080/",
     "height": 284
    },
    "executionInfo": {
     "elapsed": 902,
     "status": "ok",
     "timestamp": 1667964021886,
     "user": {
      "displayName": "Avinash Tatar",
      "userId": "17244541308253616955"
     },
     "user_tz": -330
    },
    "id": "fKRa0wGmZlJv",
    "outputId": "8b884e8c-d885-4e38-b0b1-8fd2e8a83849"
   },
   "outputs": [
    {
     "data": {
      "image/png": "[encoded data removed]",
      "text/plain": [
       "<Figure size 360x288 with 1 Axes>"
      ]
     },
     "metadata": {},
     "output_type": "display_data"
    }
   ],
   "source": [
    "fltr = ~psngr_df[\"Age\"].isna()\n",
    "\n",
    "plt.figure(figsize=(5, 4))\n",
    "sns.histplot(data=psngr_df[fltr], x=\"Age\", kde=True)\n",
    "plt.show()"
   ]
  },
  {
   "cell_type": "code",
   "execution_count": null,
   "metadata": {
    "colab": {
     "base_uri": "https://localhost:8080/",
     "height": 143
    },
    "executionInfo": {
     "elapsed": 17,
     "status": "ok",
     "timestamp": 1667964097591,
     "user": {
      "displayName": "Avinash Tatar",
      "userId": "17244541308253616955"
     },
     "user_tz": -330
    },
    "id": "bwl4rDZ9ZlM3",
    "outputId": "5e901dd2-3c11-4052-d65f-14b93a412fa5"
   },
   "outputs": [
    {
     "data": {
      "text/html": [
       "\n",
       "  <div id=\"df-13da855e-9a47-414b-a70b-32b2312a2bcf\">\n",
       "    <div class=\"colab-df-container\">\n",
       "      <div>\n",
       "<style scoped>\n",
       "    .dataframe tbody tr th:only-of-type {\n",
       "        vertical-align: middle;\n",
       "    }\n",
       "\n",
       "    .dataframe tbody tr th {\n",
       "        vertical-align: top;\n",
       "    }\n",
       "\n",
       "    .dataframe thead th {\n",
       "        text-align: right;\n",
       "    }\n",
       "</style>\n",
       "<table border=\"1\" class=\"dataframe\">\n",
       "  <thead>\n",
       "    <tr style=\"text-align: right;\">\n",
       "      <th></th>\n",
       "      <th>SibSp</th>\n",
       "      <th>Parch</th>\n",
       "      <th>Fam_count</th>\n",
       "    </tr>\n",
       "    <tr>\n",
       "      <th>PassengerId</th>\n",
       "      <th></th>\n",
       "      <th></th>\n",
       "      <th></th>\n",
       "    </tr>\n",
       "  </thead>\n",
       "  <tbody>\n",
       "    <tr>\n",
       "      <th>1</th>\n",
       "      <td>1</td>\n",
       "      <td>0</td>\n",
       "      <td>2</td>\n",
       "    </tr>\n",
       "    <tr>\n",
       "      <th>2</th>\n",
       "      <td>1</td>\n",
       "      <td>0</td>\n",
       "      <td>2</td>\n",
       "    </tr>\n",
       "  </tbody>\n",
       "</table>\n",
       "</div>\n",
       "      <button class=\"colab-df-convert\" onclick=\"convertToInteractive('df-13da855e-9a47-414b-a70b-32b2312a2bcf')\"\n",
       "              title=\"Convert this dataframe to an interactive table.\"\n",
       "              style=\"display:none;\">\n",
       "        \n",
       "  <svg xmlns=\"http://www.w3.org/2000/svg\" height=\"24px\"viewBox=\"0 0 24 24\"\n",
       "       width=\"24px\">\n",
       "    <path d=\"M0 0h24v24H0V0z\" fill=\"none\"/>\n",
       "    <path d=\"M18.56 5.44l.94 2.06.94-2.06 2.06-.94-2.06-.94-.94-2.06-.94 2.06-2.06.94zm-11 1L8.5 8.5l.94-2.06 2.06-.94-2.06-.94L8.5 2.5l-.94 2.06-2.06.94zm10 10l.94 2.06.94-2.06 2.06-.94-2.06-.94-.94-2.06-.94 2.06-2.06.94z\"/><path d=\"M17.41 7.96l-1.37-1.37c-.4-.4-.92-.59-1.43-.59-.52 0-1.04.2-1.43.59L10.3 9.45l-7.72 7.72c-.78.78-.78 2.05 0 2.83L4 21.41c.39.39.9.59 1.41.59.51 0 1.02-.2 1.41-.59l7.78-7.78 2.81-2.81c.8-.78.8-2.07 0-2.86zM5.41 20L4 18.59l7.72-7.72 1.47 1.35L5.41 20z\"/>\n",
       "  </svg>\n",
       "      </button>\n",
       "      \n",
       "  <style>\n",
       "    .colab-df-container {\n",
       "      display:flex;\n",
       "      flex-wrap:wrap;\n",
       "      gap: 12px;\n",
       "    }\n",
       "\n",
       "    .colab-df-convert {\n",
       "      background-color: #E8F0FE;\n",
       "      border: none;\n",
       "      border-radius: 50%;\n",
       "      cursor: pointer;\n",
       "      display: none;\n",
       "      fill: #1967D2;\n",
       "      height: 32px;\n",
       "      padding: 0 0 0 0;\n",
       "      width: 32px;\n",
       "    }\n",
       "\n",
       "    .colab-df-convert:hover {\n",
       "      background-color: #E2EBFA;\n",
       "      box-shadow: 0px 1px 2px rgba(60, 64, 67, 0.3), 0px 1px 3px 1px rgba(60, 64, 67, 0.15);\n",
       "      fill: #174EA6;\n",
       "    }\n",
       "\n",
       "    [theme=dark] .colab-df-convert {\n",
       "      background-color: #3B4455;\n",
       "      fill: #D2E3FC;\n",
       "    }\n",
       "\n",
       "    [theme=dark] .colab-df-convert:hover {\n",
       "      background-color: #434B5C;\n",
       "      box-shadow: 0px 1px 3px 1px rgba(0, 0, 0, 0.15);\n",
       "      filter: drop-shadow(0px 1px 2px rgba(0, 0, 0, 0.3));\n",
       "      fill: #FFFFFF;\n",
       "    }\n",
       "  </style>\n",
       "\n",
       "      <script>\n",
       "        const buttonEl =\n",
       "          document.querySelector('#df-13da855e-9a47-414b-a70b-32b2312a2bcf button.colab-df-convert');\n",
       "        buttonEl.style.display =\n",
       "          google.colab.kernel.accessAllowed ? 'block' : 'none';\n",
       "\n",
       "        async function convertToInteractive(key) {\n",
       "          const element = document.querySelector('#df-13da855e-9a47-414b-a70b-32b2312a2bcf');\n",
       "          const dataTable =\n",
       "            await google.colab.kernel.invokeFunction('convertToInteractive',\n",
       "                                                     [key], {});\n",
       "          if (!dataTable) return;\n",
       "\n",
       "          const docLinkHtml = 'Like what you see? Visit the ' +\n",
       "            '<a target=\"_blank\" href=https://colab.research.google.com/notebooks/data_table.ipynb>data table notebook</a>'\n",
       "            + ' to learn more about interactive tables.';\n",
       "          element.innerHTML = '';\n",
       "          dataTable['output_type'] = 'display_data';\n",
       "          await google.colab.output.renderOutput(dataTable, element);\n",
       "          const docLink = document.createElement('div');\n",
       "          docLink.innerHTML = docLinkHtml;\n",
       "          element.appendChild(docLink);\n",
       "        }\n",
       "      </script>\n",
       "    </div>\n",
       "  </div>\n",
       "  "
      ],
      "text/plain": [
       "             SibSp  Parch  Fam_count\n",
       "PassengerId                         \n",
       "1                1      0          2\n",
       "2                1      0          2"
      ]
     },
     "execution_count": 48,
     "metadata": {},
     "output_type": "execute_result"
    }
   ],
   "source": [
    "create_fam_count(psngr_df)\n",
    "psngr_df[[\"SibSp\", \"Parch\", \"Fam_count\"]].head(2)"
   ]
  },
  {
   "cell_type": "code",
   "execution_count": null,
   "metadata": {
    "colab": {
     "base_uri": "https://localhost:8080/",
     "height": 300
    },
    "executionInfo": {
     "elapsed": 968,
     "status": "ok",
     "timestamp": 1667964115859,
     "user": {
      "displayName": "Avinash Tatar",
      "userId": "17244541308253616955"
     },
     "user_tz": -330
    },
    "id": "giAsVXpFZlOt",
    "outputId": "602f4402-8f34-4c03-9e40-5709c8abcd1b"
   },
   "outputs": [
    {
     "data": {
      "image/png": "[encoded data removed]",
      "text/plain": [
       "<Figure size 720x288 with 1 Axes>"
      ]
     },
     "metadata": {},
     "output_type": "display_data"
    }
   ],
   "source": [
    "plt.figure(figsize=(10, 4))\n",
    "\n",
    "sns.countplot(data=psngr_df, x=\"Fam_count\", hue=\"Survived\")\n",
    "plt.title(\"Survival state among various Family-size\")\n",
    "plt.xlabel(\"Passenger's Family count\")\n",
    "plt.ylabel(\"Count\")\n",
    "\n",
    "plt.show()"
   ]
  },
  {
   "cell_type": "code",
   "execution_count": null,
   "metadata": {
    "colab": {
     "base_uri": "https://localhost:8080/",
     "height": 300
    },
    "executionInfo": {
     "elapsed": 479,
     "status": "ok",
     "timestamp": 1667964156910,
     "user": {
      "displayName": "Avinash Tatar",
      "userId": "17244541308253616955"
     },
     "user_tz": -330
    },
    "id": "BxYcQhfTaKaT",
    "outputId": "e1b43d2b-7928-45c2-9f31-fda6ff01b7ad"
   },
   "outputs": [
    {
     "data": {
      "image/png": "[encoded data removed]",
      "text/plain": [
       "<Figure size 648x288 with 1 Axes>"
      ]
     },
     "metadata": {},
     "output_type": "display_data"
    }
   ],
   "source": [
    "plt.figure(figsize=(9, 4))\n",
    "\n",
    "fltr = psngr_df[\"Fam_count\"] > 1\n",
    "sns.countplot(data=psngr_df[fltr], x=\"Fam_count\", hue=\"Survived\")\n",
    "plt.title(\"Survival state among various Family-size\")\n",
    "plt.xlabel(\"Passenger's Family count\")\n",
    "plt.ylabel(\"Count\")\n",
    "\n",
    "plt.show()"
   ]
  },
  {
   "cell_type": "code",
   "execution_count": null,
   "metadata": {
    "colab": {
     "base_uri": "https://localhost:8080/",
     "height": 143
    },
    "executionInfo": {
     "elapsed": 677,
     "status": "ok",
     "timestamp": 1667964162713,
     "user": {
      "displayName": "Avinash Tatar",
      "userId": "17244541308253616955"
     },
     "user_tz": -330
    },
    "id": "9hERR6-vaKok",
    "outputId": "25ef0fd5-6e98-463b-d641-d18e5d6d3fe2"
   },
   "outputs": [
    {
     "data": {
      "text/html": [
       "\n",
       "  <div id=\"df-efc934db-4a5c-4d15-ba42-d3c8ee83fc0b\">\n",
       "    <div class=\"colab-df-container\">\n",
       "      <div>\n",
       "<style scoped>\n",
       "    .dataframe tbody tr th:only-of-type {\n",
       "        vertical-align: middle;\n",
       "    }\n",
       "\n",
       "    .dataframe tbody tr th {\n",
       "        vertical-align: top;\n",
       "    }\n",
       "\n",
       "    .dataframe thead th {\n",
       "        text-align: right;\n",
       "    }\n",
       "</style>\n",
       "<table border=\"1\" class=\"dataframe\">\n",
       "  <thead>\n",
       "    <tr style=\"text-align: right;\">\n",
       "      <th></th>\n",
       "      <th>SibSp</th>\n",
       "      <th>Parch</th>\n",
       "      <th>Fam_size</th>\n",
       "    </tr>\n",
       "    <tr>\n",
       "      <th>PassengerId</th>\n",
       "      <th></th>\n",
       "      <th></th>\n",
       "      <th></th>\n",
       "    </tr>\n",
       "  </thead>\n",
       "  <tbody>\n",
       "    <tr>\n",
       "      <th>1</th>\n",
       "      <td>1</td>\n",
       "      <td>0</td>\n",
       "      <td>Medium</td>\n",
       "    </tr>\n",
       "    <tr>\n",
       "      <th>2</th>\n",
       "      <td>1</td>\n",
       "      <td>0</td>\n",
       "      <td>Medium</td>\n",
       "    </tr>\n",
       "  </tbody>\n",
       "</table>\n",
       "</div>\n",
       "      <button class=\"colab-df-convert\" onclick=\"convertToInteractive('df-efc934db-4a5c-4d15-ba42-d3c8ee83fc0b')\"\n",
       "              title=\"Convert this dataframe to an interactive table.\"\n",
       "              style=\"display:none;\">\n",
       "        \n",
       "  <svg xmlns=\"http://www.w3.org/2000/svg\" height=\"24px\"viewBox=\"0 0 24 24\"\n",
       "       width=\"24px\">\n",
       "    <path d=\"M0 0h24v24H0V0z\" fill=\"none\"/>\n",
       "    <path d=\"M18.56 5.44l.94 2.06.94-2.06 2.06-.94-2.06-.94-.94-2.06-.94 2.06-2.06.94zm-11 1L8.5 8.5l.94-2.06 2.06-.94-2.06-.94L8.5 2.5l-.94 2.06-2.06.94zm10 10l.94 2.06.94-2.06 2.06-.94-2.06-.94-.94-2.06-.94 2.06-2.06.94z\"/><path d=\"M17.41 7.96l-1.37-1.37c-.4-.4-.92-.59-1.43-.59-.52 0-1.04.2-1.43.59L10.3 9.45l-7.72 7.72c-.78.78-.78 2.05 0 2.83L4 21.41c.39.39.9.59 1.41.59.51 0 1.02-.2 1.41-.59l7.78-7.78 2.81-2.81c.8-.78.8-2.07 0-2.86zM5.41 20L4 18.59l7.72-7.72 1.47 1.35L5.41 20z\"/>\n",
       "  </svg>\n",
       "      </button>\n",
       "      \n",
       "  <style>\n",
       "    .colab-df-container {\n",
       "      display:flex;\n",
       "      flex-wrap:wrap;\n",
       "      gap: 12px;\n",
       "    }\n",
       "\n",
       "    .colab-df-convert {\n",
       "      background-color: #E8F0FE;\n",
       "      border: none;\n",
       "      border-radius: 50%;\n",
       "      cursor: pointer;\n",
       "      display: none;\n",
       "      fill: #1967D2;\n",
       "      height: 32px;\n",
       "      padding: 0 0 0 0;\n",
       "      width: 32px;\n",
       "    }\n",
       "\n",
       "    .colab-df-convert:hover {\n",
       "      background-color: #E2EBFA;\n",
       "      box-shadow: 0px 1px 2px rgba(60, 64, 67, 0.3), 0px 1px 3px 1px rgba(60, 64, 67, 0.15);\n",
       "      fill: #174EA6;\n",
       "    }\n",
       "\n",
       "    [theme=dark] .colab-df-convert {\n",
       "      background-color: #3B4455;\n",
       "      fill: #D2E3FC;\n",
       "    }\n",
       "\n",
       "    [theme=dark] .colab-df-convert:hover {\n",
       "      background-color: #434B5C;\n",
       "      box-shadow: 0px 1px 3px 1px rgba(0, 0, 0, 0.15);\n",
       "      filter: drop-shadow(0px 1px 2px rgba(0, 0, 0, 0.3));\n",
       "      fill: #FFFFFF;\n",
       "    }\n",
       "  </style>\n",
       "\n",
       "      <script>\n",
       "        const buttonEl =\n",
       "          document.querySelector('#df-efc934db-4a5c-4d15-ba42-d3c8ee83fc0b button.colab-df-convert');\n",
       "        buttonEl.style.display =\n",
       "          google.colab.kernel.accessAllowed ? 'block' : 'none';\n",
       "\n",
       "        async function convertToInteractive(key) {\n",
       "          const element = document.querySelector('#df-efc934db-4a5c-4d15-ba42-d3c8ee83fc0b');\n",
       "          const dataTable =\n",
       "            await google.colab.kernel.invokeFunction('convertToInteractive',\n",
       "                                                     [key], {});\n",
       "          if (!dataTable) return;\n",
       "\n",
       "          const docLinkHtml = 'Like what you see? Visit the ' +\n",
       "            '<a target=\"_blank\" href=https://colab.research.google.com/notebooks/data_table.ipynb>data table notebook</a>'\n",
       "            + ' to learn more about interactive tables.';\n",
       "          element.innerHTML = '';\n",
       "          dataTable['output_type'] = 'display_data';\n",
       "          await google.colab.output.renderOutput(dataTable, element);\n",
       "          const docLink = document.createElement('div');\n",
       "          docLink.innerHTML = docLinkHtml;\n",
       "          element.appendChild(docLink);\n",
       "        }\n",
       "      </script>\n",
       "    </div>\n",
       "  </div>\n",
       "  "
      ],
      "text/plain": [
       "             SibSp  Parch Fam_size\n",
       "PassengerId                       \n",
       "1                1      0   Medium\n",
       "2                1      0   Medium"
      ]
     },
     "execution_count": 51,
     "metadata": {},
     "output_type": "execute_result"
    }
   ],
   "source": [
    "create_fam_size(psngr_df)\n",
    "psngr_df[[\"SibSp\", \"Parch\", \"Fam_size\"]].head(2)"
   ]
  },
  {
   "cell_type": "code",
   "execution_count": null,
   "metadata": {
    "colab": {
     "base_uri": "https://localhost:8080/",
     "height": 408
    },
    "executionInfo": {
     "elapsed": 1005,
     "status": "ok",
     "timestamp": 1667964166822,
     "user": {
      "displayName": "Avinash Tatar",
      "userId": "17244541308253616955"
     },
     "user_tz": -330
    },
    "id": "cZr18y5uZlRs",
    "outputId": "cfe8a0eb-ef1a-4332-a4e4-e76f8e109cd0"
   },
   "outputs": [
    {
     "data": {
      "image/png": "[encoded data removed]",
      "text/plain": [
       "<Figure size 576x432 with 1 Axes>"
      ]
     },
     "metadata": {},
     "output_type": "display_data"
    }
   ],
   "source": [
    "plt.figure(figsize=(8, 6))\n",
    "\n",
    "ax = sns.countplot(data=psngr_df, x=\"Fam_size\", hue=\"Survived\")\n",
    "plt.title(\"Survival rate among various Family size\")\n",
    "plt.xlabel(\"Passenger's Family size\")\n",
    "plt.ylabel(\"Count\")\n",
    "\n",
    "# Get survival rates in each family-size.\n",
    "srv_rates = get_survival_rates(psngr_df, \"Fam_size\")\n",
    "\n",
    "for index, patch in enumerate(ax.patches):\n",
    "    x = patch.get_x() + patch.get_width() / 2\n",
    "    y = patch.get_height()\n",
    "    ax.annotate(srv_rates[index] + \"\\n\", (x, y), ha=\"center\", va=\"center\")\n",
    "\n",
    "plt.show()\n"
   ]
  },
  {
   "cell_type": "code",
   "execution_count": null,
   "metadata": {
    "colab": {
     "base_uri": "https://localhost:8080/",
     "height": 292
    },
    "executionInfo": {
     "elapsed": 1387,
     "status": "ok",
     "timestamp": 1667964207872,
     "user": {
      "displayName": "Avinash Tatar",
      "userId": "17244541308253616955"
     },
     "user_tz": -330
    },
    "id": "xW1AnfAaaW51",
    "outputId": "1663fc48-7ca8-468b-c699-55057ec7aaee"
   },
   "outputs": [
    {
     "data": {
      "image/png": "[encoded data removed]",
      "text/plain": [
       "<Figure size 1008x288 with 3 Axes>"
      ]
     },
     "metadata": {},
     "output_type": "display_data"
    }
   ],
   "source": [
    "plot_fare(psngr_df)"
   ]
  },
  {
   "cell_type": "code",
   "execution_count": null,
   "metadata": {
    "colab": {
     "base_uri": "https://localhost:8080/",
     "height": 284
    },
    "executionInfo": {
     "elapsed": 10,
     "status": "ok",
     "timestamp": 1667964208359,
     "user": {
      "displayName": "Avinash Tatar",
      "userId": "17244541308253616955"
     },
     "user_tz": -330
    },
    "id": "Lit55PFNaW8g",
    "outputId": "ccc8d764-13fb-42a0-c59e-3945fae3702a"
   },
   "outputs": [
    {
     "data": {
      "image/png": "[encoded data removed]",
      "text/plain": [
       "<Figure size 360x288 with 1 Axes>"
      ]
     },
     "metadata": {},
     "output_type": "display_data"
    }
   ],
   "source": [
    "create_log_fare(psngr_df)\n",
    "\n",
    "plt.figure(figsize=(5, 4))\n",
    "sns.histplot(data=psngr_df[fltr], x=\"Log_Fare\", kde=True)\n",
    "plt.xlabel(\"Log Fare\")\n",
    "plt.show()\n"
   ]
  },
  {
   "cell_type": "code",
   "execution_count": null,
   "metadata": {
    "colab": {
     "base_uri": "https://localhost:8080/"
    },
    "executionInfo": {
     "elapsed": 12,
     "status": "ok",
     "timestamp": 1667964212139,
     "user": {
      "displayName": "Avinash Tatar",
      "userId": "17244541308253616955"
     },
     "user_tz": -330
    },
    "id": "M6o-SJmsaW-0",
    "outputId": "cfb51c03-6d6d-4339-a522-124843cc3870"
   },
   "outputs": [
    {
     "data": {
      "text/plain": [
       "NA    687\n",
       "C      59\n",
       "B      47\n",
       "D      33\n",
       "E      32\n",
       "A      15\n",
       "F      13\n",
       "G       4\n",
       "T       1\n",
       "Name: Cabin_cat, dtype: int64"
      ]
     },
     "execution_count": 55,
     "metadata": {},
     "output_type": "execute_result"
    }
   ],
   "source": [
    "create_cabin_cat(psngr_df)\n",
    "psngr_df[\"Cabin_cat\"].value_counts()"
   ]
  },
  {
   "cell_type": "code",
   "execution_count": null,
   "metadata": {
    "colab": {
     "base_uri": "https://localhost:8080/",
     "height": 300
    },
    "executionInfo": {
     "elapsed": 760,
     "status": "ok",
     "timestamp": 1667964263468,
     "user": {
      "displayName": "Avinash Tatar",
      "userId": "17244541308253616955"
     },
     "user_tz": -330
    },
    "id": "U-L9U6lZaXBU",
    "outputId": "ea625f56-685e-4786-ed23-1f2932df0238"
   },
   "outputs": [
    {
     "data": {
      "image/png": "[encoded data removed]",
      "text/plain": [
       "<Figure size 648x288 with 1 Axes>"
      ]
     },
     "metadata": {},
     "output_type": "display_data"
    }
   ],
   "source": [
    "plt.figure(figsize=(9, 4))\n",
    "\n",
    "fltr = psngr_df[\"Cabin_cat\"] == \"NA\"\n",
    "sns.countplot(data=psngr_df[fltr], x=\"Cabin_cat\", hue=\"Survived\")\n",
    "plt.title(\"Survival state b/w Men and Women\")\n",
    "plt.xlabel(\"Cabin category\")\n",
    "plt.ylabel(\"Count\")\n",
    "\n",
    "plt.show()"
   ]
  },
  {
   "cell_type": "code",
   "execution_count": null,
   "metadata": {
    "colab": {
     "base_uri": "https://localhost:8080/",
     "height": 300
    },
    "executionInfo": {
     "elapsed": 522,
     "status": "ok",
     "timestamp": 1667964266243,
     "user": {
      "displayName": "Avinash Tatar",
      "userId": "17244541308253616955"
     },
     "user_tz": -330
    },
    "id": "p110HtHlaXD5",
    "outputId": "cbc1205b-02b1-4d4e-a46d-cea76d637ef7"
   },
   "outputs": [
    {
     "data": {
      "image/png": "[encoded data removed]",
      "text/plain": [
       "<Figure size 648x288 with 1 Axes>"
      ]
     },
     "metadata": {},
     "output_type": "display_data"
    }
   ],
   "source": [
    "plt.figure(figsize=(9, 4))\n",
    "\n",
    "fltr = psngr_df[\"Cabin_cat\"] != \"NA\"\n",
    "sns.countplot(data=psngr_df[fltr], x=\"Cabin_cat\", hue=\"Survived\")\n",
    "plt.title(\"Survival rate w.r.t Cabin category\")\n",
    "plt.xlabel(\"Cabin category\")\n",
    "plt.ylabel(\"Count\")\n",
    "\n",
    "plt.show()"
   ]
  },
  {
   "cell_type": "code",
   "execution_count": null,
   "metadata": {
    "colab": {
     "base_uri": "https://localhost:8080/"
    },
    "executionInfo": {
     "elapsed": 10,
     "status": "ok",
     "timestamp": 1667964269638,
     "user": {
      "displayName": "Avinash Tatar",
      "userId": "17244541308253616955"
     },
     "user_tz": -330
    },
    "id": "OUYmjDl3aXGL",
    "outputId": "91fd1b6d-8394-4ef5-ae5c-8ed02668e6e8"
   },
   "outputs": [
    {
     "data": {
      "text/plain": [
       "0    687\n",
       "1    180\n",
       "2     16\n",
       "3      6\n",
       "4      2\n",
       "Name: Cabin_count, dtype: int64"
      ]
     },
     "execution_count": 58,
     "metadata": {},
     "output_type": "execute_result"
    }
   ],
   "source": [
    "create_cabin_count(psngr_df)\n",
    "psngr_df[\"Cabin_count\"].value_counts()"
   ]
  },
  {
   "cell_type": "code",
   "execution_count": null,
   "metadata": {
    "colab": {
     "base_uri": "https://localhost:8080/"
    },
    "executionInfo": {
     "elapsed": 383,
     "status": "ok",
     "timestamp": 1667964359635,
     "user": {
      "displayName": "Avinash Tatar",
      "userId": "17244541308253616955"
     },
     "user_tz": -330
    },
    "id": "11s6OJ33aXIV",
    "outputId": "5fa85d95-fcf9-4bbf-8caa-3da400fe4e81"
   },
   "outputs": [
    {
     "data": {
      "text/plain": [
       "Third     491\n",
       "First     216\n",
       "Second    184\n",
       "Name: Pclass, dtype: int64"
      ]
     },
     "execution_count": 59,
     "metadata": {},
     "output_type": "execute_result"
    }
   ],
   "source": [
    "psngr_df[\"Pclass\"].value_counts()"
   ]
  },
  {
   "cell_type": "code",
   "execution_count": null,
   "metadata": {
    "colab": {
     "base_uri": "https://localhost:8080/",
     "height": 570
    },
    "executionInfo": {
     "elapsed": 412,
     "status": "ok",
     "timestamp": 1667964362344,
     "user": {
      "displayName": "Avinash Tatar",
      "userId": "17244541308253616955"
     },
     "user_tz": -330
    },
    "id": "FnrfhmNKaXLU",
    "outputId": "b1a0043a-d92b-4532-ea57-1d6a1d163c52"
   },
   "outputs": [
    {
     "data": {
      "text/html": [
       "\n",
       "  <div id=\"df-c3ea0c07-bbc2-4159-be57-9c154ceea8a2\">\n",
       "    <div class=\"colab-df-container\">\n",
       "      <div>\n",
       "<style scoped>\n",
       "    .dataframe tbody tr th:only-of-type {\n",
       "        vertical-align: middle;\n",
       "    }\n",
       "\n",
       "    .dataframe tbody tr th {\n",
       "        vertical-align: top;\n",
       "    }\n",
       "\n",
       "    .dataframe thead th {\n",
       "        text-align: right;\n",
       "    }\n",
       "</style>\n",
       "<table border=\"1\" class=\"dataframe\">\n",
       "  <thead>\n",
       "    <tr style=\"text-align: right;\">\n",
       "      <th></th>\n",
       "      <th>Survived</th>\n",
       "      <th>Name</th>\n",
       "      <th>Age</th>\n",
       "      <th>Title</th>\n",
       "      <th>Cabin</th>\n",
       "    </tr>\n",
       "    <tr>\n",
       "      <th>PassengerId</th>\n",
       "      <th></th>\n",
       "      <th></th>\n",
       "      <th></th>\n",
       "      <th></th>\n",
       "      <th></th>\n",
       "    </tr>\n",
       "  </thead>\n",
       "  <tbody>\n",
       "    <tr>\n",
       "      <th>206</th>\n",
       "      <td>No</td>\n",
       "      <td>Strom, Miss. Telma Matilda</td>\n",
       "      <td>2.0</td>\n",
       "      <td>Miss</td>\n",
       "      <td>G6</td>\n",
       "    </tr>\n",
       "    <tr>\n",
       "      <th>11</th>\n",
       "      <td>Yes</td>\n",
       "      <td>Sandstrom, Miss. Marguerite Rut</td>\n",
       "      <td>4.0</td>\n",
       "      <td>Miss</td>\n",
       "      <td>G6</td>\n",
       "    </tr>\n",
       "    <tr>\n",
       "      <th>752</th>\n",
       "      <td>Yes</td>\n",
       "      <td>Moor, Master. Meier</td>\n",
       "      <td>6.0</td>\n",
       "      <td>Master</td>\n",
       "      <td>E121</td>\n",
       "    </tr>\n",
       "    <tr>\n",
       "      <th>716</th>\n",
       "      <td>No</td>\n",
       "      <td>Soholt, Mr. Peter Andreas Lauritz Andersen</td>\n",
       "      <td>19.0</td>\n",
       "      <td>Mr</td>\n",
       "      <td>F G73</td>\n",
       "    </tr>\n",
       "    <tr>\n",
       "      <th>395</th>\n",
       "      <td>Yes</td>\n",
       "      <td>Sandstrom, Mrs. Hjalmar (Agnes Charlotta Bengt...</td>\n",
       "      <td>24.0</td>\n",
       "      <td>Mrs</td>\n",
       "      <td>G6</td>\n",
       "    </tr>\n",
       "    <tr>\n",
       "      <th>76</th>\n",
       "      <td>No</td>\n",
       "      <td>Moen, Mr. Sigurd Hansen</td>\n",
       "      <td>25.0</td>\n",
       "      <td>Mr</td>\n",
       "      <td>F G73</td>\n",
       "    </tr>\n",
       "    <tr>\n",
       "      <th>824</th>\n",
       "      <td>Yes</td>\n",
       "      <td>Moor, Mrs. (Beila)</td>\n",
       "      <td>27.0</td>\n",
       "      <td>Mrs</td>\n",
       "      <td>E121</td>\n",
       "    </tr>\n",
       "    <tr>\n",
       "      <th>252</th>\n",
       "      <td>No</td>\n",
       "      <td>Strom, Mrs. Wilhelm (Elna Matilda Persson)</td>\n",
       "      <td>29.0</td>\n",
       "      <td>Mrs</td>\n",
       "      <td>G6</td>\n",
       "    </tr>\n",
       "    <tr>\n",
       "      <th>430</th>\n",
       "      <td>Yes</td>\n",
       "      <td>Pickard, Mr. Berk (Berk Trembisky)</td>\n",
       "      <td>32.0</td>\n",
       "      <td>Mr</td>\n",
       "      <td>E10</td>\n",
       "    </tr>\n",
       "    <tr>\n",
       "      <th>700</th>\n",
       "      <td>No</td>\n",
       "      <td>Humblen, Mr. Adolf Mathias Nicolai Olsen</td>\n",
       "      <td>42.0</td>\n",
       "      <td>Mr</td>\n",
       "      <td>F G63</td>\n",
       "    </tr>\n",
       "    <tr>\n",
       "      <th>129</th>\n",
       "      <td>Yes</td>\n",
       "      <td>Peter, Miss. Anna</td>\n",
       "      <td>NaN</td>\n",
       "      <td>Miss</td>\n",
       "      <td>F E69</td>\n",
       "    </tr>\n",
       "    <tr>\n",
       "      <th>777</th>\n",
       "      <td>No</td>\n",
       "      <td>Tobin, Mr. Roger</td>\n",
       "      <td>NaN</td>\n",
       "      <td>Mr</td>\n",
       "      <td>F38</td>\n",
       "    </tr>\n",
       "  </tbody>\n",
       "</table>\n",
       "</div>\n",
       "      <button class=\"colab-df-convert\" onclick=\"convertToInteractive('df-c3ea0c07-bbc2-4159-be57-9c154ceea8a2')\"\n",
       "              title=\"Convert this dataframe to an interactive table.\"\n",
       "              style=\"display:none;\">\n",
       "        \n",
       "  <svg xmlns=\"http://www.w3.org/2000/svg\" height=\"24px\"viewBox=\"0 0 24 24\"\n",
       "       width=\"24px\">\n",
       "    <path d=\"M0 0h24v24H0V0z\" fill=\"none\"/>\n",
       "    <path d=\"M18.56 5.44l.94 2.06.94-2.06 2.06-.94-2.06-.94-.94-2.06-.94 2.06-2.06.94zm-11 1L8.5 8.5l.94-2.06 2.06-.94-2.06-.94L8.5 2.5l-.94 2.06-2.06.94zm10 10l.94 2.06.94-2.06 2.06-.94-2.06-.94-.94-2.06-.94 2.06-2.06.94z\"/><path d=\"M17.41 7.96l-1.37-1.37c-.4-.4-.92-.59-1.43-.59-.52 0-1.04.2-1.43.59L10.3 9.45l-7.72 7.72c-.78.78-.78 2.05 0 2.83L4 21.41c.39.39.9.59 1.41.59.51 0 1.02-.2 1.41-.59l7.78-7.78 2.81-2.81c.8-.78.8-2.07 0-2.86zM5.41 20L4 18.59l7.72-7.72 1.47 1.35L5.41 20z\"/>\n",
       "  </svg>\n",
       "      </button>\n",
       "      \n",
       "  <style>\n",
       "    .colab-df-container {\n",
       "      display:flex;\n",
       "      flex-wrap:wrap;\n",
       "      gap: 12px;\n",
       "    }\n",
       "\n",
       "    .colab-df-convert {\n",
       "      background-color: #E8F0FE;\n",
       "      border: none;\n",
       "      border-radius: 50%;\n",
       "      cursor: pointer;\n",
       "      display: none;\n",
       "      fill: #1967D2;\n",
       "      height: 32px;\n",
       "      padding: 0 0 0 0;\n",
       "      width: 32px;\n",
       "    }\n",
       "\n",
       "    .colab-df-convert:hover {\n",
       "      background-color: #E2EBFA;\n",
       "      box-shadow: 0px 1px 2px rgba(60, 64, 67, 0.3), 0px 1px 3px 1px rgba(60, 64, 67, 0.15);\n",
       "      fill: #174EA6;\n",
       "    }\n",
       "\n",
       "    [theme=dark] .colab-df-convert {\n",
       "      background-color: #3B4455;\n",
       "      fill: #D2E3FC;\n",
       "    }\n",
       "\n",
       "    [theme=dark] .colab-df-convert:hover {\n",
       "      background-color: #434B5C;\n",
       "      box-shadow: 0px 1px 3px 1px rgba(0, 0, 0, 0.15);\n",
       "      filter: drop-shadow(0px 1px 2px rgba(0, 0, 0, 0.3));\n",
       "      fill: #FFFFFF;\n",
       "    }\n",
       "  </style>\n",
       "\n",
       "      <script>\n",
       "        const buttonEl =\n",
       "          document.querySelector('#df-c3ea0c07-bbc2-4159-be57-9c154ceea8a2 button.colab-df-convert');\n",
       "        buttonEl.style.display =\n",
       "          google.colab.kernel.accessAllowed ? 'block' : 'none';\n",
       "\n",
       "        async function convertToInteractive(key) {\n",
       "          const element = document.querySelector('#df-c3ea0c07-bbc2-4159-be57-9c154ceea8a2');\n",
       "          const dataTable =\n",
       "            await google.colab.kernel.invokeFunction('convertToInteractive',\n",
       "                                                     [key], {});\n",
       "          if (!dataTable) return;\n",
       "\n",
       "          const docLinkHtml = 'Like what you see? Visit the ' +\n",
       "            '<a target=\"_blank\" href=https://colab.research.google.com/notebooks/data_table.ipynb>data table notebook</a>'\n",
       "            + ' to learn more about interactive tables.';\n",
       "          element.innerHTML = '';\n",
       "          dataTable['output_type'] = 'display_data';\n",
       "          await google.colab.output.renderOutput(dataTable, element);\n",
       "          const docLink = document.createElement('div');\n",
       "          docLink.innerHTML = docLinkHtml;\n",
       "          element.appendChild(docLink);\n",
       "        }\n",
       "      </script>\n",
       "    </div>\n",
       "  </div>\n",
       "  "
      ],
      "text/plain": [
       "            Survived                                               Name   Age   Title  Cabin\n",
       "PassengerId                                                                                 \n",
       "206               No                         Strom, Miss. Telma Matilda   2.0    Miss     G6\n",
       "11               Yes                    Sandstrom, Miss. Marguerite Rut   4.0    Miss     G6\n",
       "752              Yes                                Moor, Master. Meier   6.0  Master   E121\n",
       "716               No         Soholt, Mr. Peter Andreas Lauritz Andersen  19.0      Mr  F G73\n",
       "395              Yes  Sandstrom, Mrs. Hjalmar (Agnes Charlotta Bengt...  24.0     Mrs     G6\n",
       "76                No                            Moen, Mr. Sigurd Hansen  25.0      Mr  F G73\n",
       "824              Yes                                 Moor, Mrs. (Beila)  27.0     Mrs   E121\n",
       "252               No         Strom, Mrs. Wilhelm (Elna Matilda Persson)  29.0     Mrs     G6\n",
       "430              Yes                 Pickard, Mr. Berk (Berk Trembisky)  32.0      Mr    E10\n",
       "700               No           Humblen, Mr. Adolf Mathias Nicolai Olsen  42.0      Mr  F G63\n",
       "129              Yes                                  Peter, Miss. Anna   NaN    Miss  F E69\n",
       "777               No                                   Tobin, Mr. Roger   NaN      Mr    F38"
      ]
     },
     "execution_count": 60,
     "metadata": {},
     "output_type": "execute_result"
    }
   ],
   "source": [
    "fltr = (psngr_df[\"Pclass\"] == \"Third\") & (psngr_df[\"Cabin_count\"] > 0)\n",
    "psngr_df.loc[fltr, [\"Survived\", \"Name\", \"Age\", \"Title\", \"Cabin\"]].sort_values(\"Age\")"
   ]
  },
  {
   "cell_type": "code",
   "execution_count": null,
   "metadata": {
    "id": "5ZxXdGyDaXNs"
   },
   "outputs": [],
   "source": [
    "def re_organize_pclass(df):\n",
    "    # Add new category \"Steerage\".\n",
    "    df[\"Pclass\"] = df[\"Pclass\"].cat.add_categories([\"Steerage\"])\n",
    "\n",
    "    fltr = (df[\"Pclass\"] == \"Third\") & (df[\"Cabin_count\"] == 0)\n",
    "    df.loc[fltr, \"Pclass\"] = \"Steerage\""
   ]
  },
  {
   "cell_type": "code",
   "execution_count": null,
   "metadata": {
    "id": "awNw_rZBa2rG"
   },
   "outputs": [],
   "source": [
    "re_organize_pclass(psngr_df)"
   ]
  },
  {
   "cell_type": "code",
   "execution_count": null,
   "metadata": {
    "colab": {
     "base_uri": "https://localhost:8080/",
     "height": 300
    },
    "executionInfo": {
     "elapsed": 446,
     "status": "ok",
     "timestamp": 1667964372051,
     "user": {
      "displayName": "Avinash Tatar",
      "userId": "17244541308253616955"
     },
     "user_tz": -330
    },
    "id": "_nwjLu0ha25c",
    "outputId": "6692b130-c7d1-4f34-bb50-9506acfe1eb6"
   },
   "outputs": [
    {
     "data": {
      "text/html": [
       "\n",
       "  <div id=\"df-6627ff9b-63ce-4613-b2ec-078b233026b6\">\n",
       "    <div class=\"colab-df-container\">\n",
       "      <div>\n",
       "<style scoped>\n",
       "    .dataframe tbody tr th:only-of-type {\n",
       "        vertical-align: middle;\n",
       "    }\n",
       "\n",
       "    .dataframe tbody tr th {\n",
       "        vertical-align: top;\n",
       "    }\n",
       "\n",
       "    .dataframe thead th {\n",
       "        text-align: right;\n",
       "    }\n",
       "</style>\n",
       "<table border=\"1\" class=\"dataframe\">\n",
       "  <thead>\n",
       "    <tr style=\"text-align: right;\">\n",
       "      <th></th>\n",
       "      <th>Survived</th>\n",
       "      <th>Pclass</th>\n",
       "      <th>Cabin</th>\n",
       "      <th>Cabin_cat</th>\n",
       "    </tr>\n",
       "    <tr>\n",
       "      <th>PassengerId</th>\n",
       "      <th></th>\n",
       "      <th></th>\n",
       "      <th></th>\n",
       "      <th></th>\n",
       "    </tr>\n",
       "  </thead>\n",
       "  <tbody>\n",
       "    <tr>\n",
       "      <th>124</th>\n",
       "      <td>Yes</td>\n",
       "      <td>Second</td>\n",
       "      <td>E101</td>\n",
       "      <td>E</td>\n",
       "    </tr>\n",
       "    <tr>\n",
       "      <th>304</th>\n",
       "      <td>Yes</td>\n",
       "      <td>Second</td>\n",
       "      <td>E101</td>\n",
       "      <td>E</td>\n",
       "    </tr>\n",
       "    <tr>\n",
       "      <th>430</th>\n",
       "      <td>Yes</td>\n",
       "      <td>Third</td>\n",
       "      <td>E10</td>\n",
       "      <td>E</td>\n",
       "    </tr>\n",
       "    <tr>\n",
       "      <th>718</th>\n",
       "      <td>Yes</td>\n",
       "      <td>Second</td>\n",
       "      <td>E101</td>\n",
       "      <td>E</td>\n",
       "    </tr>\n",
       "    <tr>\n",
       "      <th>752</th>\n",
       "      <td>Yes</td>\n",
       "      <td>Third</td>\n",
       "      <td>E121</td>\n",
       "      <td>E</td>\n",
       "    </tr>\n",
       "    <tr>\n",
       "      <th>773</th>\n",
       "      <td>No</td>\n",
       "      <td>Second</td>\n",
       "      <td>E77</td>\n",
       "      <td>E</td>\n",
       "    </tr>\n",
       "    <tr>\n",
       "      <th>824</th>\n",
       "      <td>Yes</td>\n",
       "      <td>Third</td>\n",
       "      <td>E121</td>\n",
       "      <td>E</td>\n",
       "    </tr>\n",
       "  </tbody>\n",
       "</table>\n",
       "</div>\n",
       "      <button class=\"colab-df-convert\" onclick=\"convertToInteractive('df-6627ff9b-63ce-4613-b2ec-078b233026b6')\"\n",
       "              title=\"Convert this dataframe to an interactive table.\"\n",
       "              style=\"display:none;\">\n",
       "        \n",
       "  <svg xmlns=\"http://www.w3.org/2000/svg\" height=\"24px\"viewBox=\"0 0 24 24\"\n",
       "       width=\"24px\">\n",
       "    <path d=\"M0 0h24v24H0V0z\" fill=\"none\"/>\n",
       "    <path d=\"M18.56 5.44l.94 2.06.94-2.06 2.06-.94-2.06-.94-.94-2.06-.94 2.06-2.06.94zm-11 1L8.5 8.5l.94-2.06 2.06-.94-2.06-.94L8.5 2.5l-.94 2.06-2.06.94zm10 10l.94 2.06.94-2.06 2.06-.94-2.06-.94-.94-2.06-.94 2.06-2.06.94z\"/><path d=\"M17.41 7.96l-1.37-1.37c-.4-.4-.92-.59-1.43-.59-.52 0-1.04.2-1.43.59L10.3 9.45l-7.72 7.72c-.78.78-.78 2.05 0 2.83L4 21.41c.39.39.9.59 1.41.59.51 0 1.02-.2 1.41-.59l7.78-7.78 2.81-2.81c.8-.78.8-2.07 0-2.86zM5.41 20L4 18.59l7.72-7.72 1.47 1.35L5.41 20z\"/>\n",
       "  </svg>\n",
       "      </button>\n",
       "      \n",
       "  <style>\n",
       "    .colab-df-container {\n",
       "      display:flex;\n",
       "      flex-wrap:wrap;\n",
       "      gap: 12px;\n",
       "    }\n",
       "\n",
       "    .colab-df-convert {\n",
       "      background-color: #E8F0FE;\n",
       "      border: none;\n",
       "      border-radius: 50%;\n",
       "      cursor: pointer;\n",
       "      display: none;\n",
       "      fill: #1967D2;\n",
       "      height: 32px;\n",
       "      padding: 0 0 0 0;\n",
       "      width: 32px;\n",
       "    }\n",
       "\n",
       "    .colab-df-convert:hover {\n",
       "      background-color: #E2EBFA;\n",
       "      box-shadow: 0px 1px 2px rgba(60, 64, 67, 0.3), 0px 1px 3px 1px rgba(60, 64, 67, 0.15);\n",
       "      fill: #174EA6;\n",
       "    }\n",
       "\n",
       "    [theme=dark] .colab-df-convert {\n",
       "      background-color: #3B4455;\n",
       "      fill: #D2E3FC;\n",
       "    }\n",
       "\n",
       "    [theme=dark] .colab-df-convert:hover {\n",
       "      background-color: #434B5C;\n",
       "      box-shadow: 0px 1px 3px 1px rgba(0, 0, 0, 0.15);\n",
       "      filter: drop-shadow(0px 1px 2px rgba(0, 0, 0, 0.3));\n",
       "      fill: #FFFFFF;\n",
       "    }\n",
       "  </style>\n",
       "\n",
       "      <script>\n",
       "        const buttonEl =\n",
       "          document.querySelector('#df-6627ff9b-63ce-4613-b2ec-078b233026b6 button.colab-df-convert');\n",
       "        buttonEl.style.display =\n",
       "          google.colab.kernel.accessAllowed ? 'block' : 'none';\n",
       "\n",
       "        async function convertToInteractive(key) {\n",
       "          const element = document.querySelector('#df-6627ff9b-63ce-4613-b2ec-078b233026b6');\n",
       "          const dataTable =\n",
       "            await google.colab.kernel.invokeFunction('convertToInteractive',\n",
       "                                                     [key], {});\n",
       "          if (!dataTable) return;\n",
       "\n",
       "          const docLinkHtml = 'Like what you see? Visit the ' +\n",
       "            '<a target=\"_blank\" href=https://colab.research.google.com/notebooks/data_table.ipynb>data table notebook</a>'\n",
       "            + ' to learn more about interactive tables.';\n",
       "          element.innerHTML = '';\n",
       "          dataTable['output_type'] = 'display_data';\n",
       "          await google.colab.output.renderOutput(dataTable, element);\n",
       "          const docLink = document.createElement('div');\n",
       "          docLink.innerHTML = docLinkHtml;\n",
       "          element.appendChild(docLink);\n",
       "        }\n",
       "      </script>\n",
       "    </div>\n",
       "  </div>\n",
       "  "
      ],
      "text/plain": [
       "            Survived  Pclass Cabin Cabin_cat\n",
       "PassengerId                                 \n",
       "124              Yes  Second  E101         E\n",
       "304              Yes  Second  E101         E\n",
       "430              Yes   Third   E10         E\n",
       "718              Yes  Second  E101         E\n",
       "752              Yes   Third  E121         E\n",
       "773               No  Second   E77         E\n",
       "824              Yes   Third  E121         E"
      ]
     },
     "execution_count": 63,
     "metadata": {},
     "output_type": "execute_result"
    }
   ],
   "source": [
    "def is_sudo_fc(cabin_str):\n",
    "    print(cabin_str)\n",
    "    cabin_num = int(cabin_str[1:])\n",
    "    return cabin_num > 42 and cabin_num < 69\n",
    "\n",
    "\n",
    "fltr = (psngr_df[\"Cabin_cat\"] == \"E\") & (psngr_df[\"Pclass\"] != \"First\")\n",
    "\n",
    "psngr_df.loc[fltr, [\"Survived\", \"Pclass\", \"Cabin\", \"Cabin_cat\"]]"
   ]
  },
  {
   "cell_type": "code",
   "execution_count": null,
   "metadata": {
    "colab": {
     "base_uri": "https://localhost:8080/"
    },
    "executionInfo": {
     "elapsed": 404,
     "status": "ok",
     "timestamp": 1667964376452,
     "user": {
      "displayName": "Avinash Tatar",
      "userId": "17244541308253616955"
     },
     "user_tz": -330
    },
    "id": "IKNLyXd2a28I",
    "outputId": "418e5710-7ba8-4461-a56a-8594d6c127cc"
   },
   "outputs": [
    {
     "data": {
      "text/plain": [
       "Steerage    479\n",
       "First       216\n",
       "Second      184\n",
       "Third        12\n",
       "Name: Pclass, dtype: int64"
      ]
     },
     "execution_count": 64,
     "metadata": {},
     "output_type": "execute_result"
    }
   ],
   "source": [
    "psngr_df[\"Pclass\"].value_counts()"
   ]
  },
  {
   "cell_type": "code",
   "execution_count": null,
   "metadata": {
    "colab": {
     "base_uri": "https://localhost:8080/",
     "height": 300
    },
    "executionInfo": {
     "elapsed": 869,
     "status": "ok",
     "timestamp": 1667964380294,
     "user": {
      "displayName": "Avinash Tatar",
      "userId": "17244541308253616955"
     },
     "user_tz": -330
    },
    "id": "IjDjmaVQa2_u",
    "outputId": "7a20a7c4-5797-4e77-a7e4-325792144ea1"
   },
   "outputs": [
    {
     "data": {
      "image/png": "[encoded data removed]",
      "text/plain": [
       "<Figure size 432x288 with 1 Axes>"
      ]
     },
     "metadata": {},
     "output_type": "display_data"
    }
   ],
   "source": [
    "plt.figure(figsize=(6, 4))\n",
    "ax = sns.countplot(data=psngr_df, x=\"Pclass\", hue=\"Survived\")\n",
    "plt.title(\"Survival state among various passenger class\")\n",
    "plt.xlabel(\"Passenger Class\")\n",
    "plt.ylabel(\"Count\")\n",
    "\n",
    "# Get survival rates in each node stage.\n",
    "srv_rates = get_survival_rates(psngr_df, \"Pclass\")\n",
    "\n",
    "for index, patch in enumerate(ax.patches):\n",
    "    x = patch.get_x() + patch.get_width() / 2\n",
    "    y = patch.get_height()\n",
    "    ax.annotate(srv_rates[index] + \"\\n\", (x, y), ha=\"center\", va=\"center\")\n",
    "\n",
    "plt.show()"
   ]
  },
  {
   "cell_type": "code",
   "execution_count": null,
   "metadata": {
    "colab": {
     "base_uri": "https://localhost:8080/",
     "height": 300
    },
    "executionInfo": {
     "elapsed": 693,
     "status": "ok",
     "timestamp": 1667964383636,
     "user": {
      "displayName": "Avinash Tatar",
      "userId": "17244541308253616955"
     },
     "user_tz": -330
    },
    "id": "9XotBw45a3OF",
    "outputId": "56c06f0f-bc24-4acb-ddc6-2e2dfd3055e9"
   },
   "outputs": [
    {
     "data": {
      "image/png": "[encoded data removed]",
      "text/plain": [
       "<Figure size 432x288 with 1 Axes>"
      ]
     },
     "metadata": {},
     "output_type": "display_data"
    }
   ],
   "source": [
    "plt.figure(figsize=(6, 4))\n",
    "\n",
    "sns.countplot(data=psngr_df, x=\"Embarked\", hue=\"Survived\")\n",
    "plt.title(\"Survival state based Port code\")\n",
    "plt.xlabel(\"Embarked Port code\")\n",
    "plt.ylabel(\"Count\")\n",
    "\n",
    "plt.show()"
   ]
  },
  {
   "cell_type": "code",
   "execution_count": null,
   "metadata": {
    "colab": {
     "base_uri": "https://localhost:8080/",
     "height": 284
    },
    "executionInfo": {
     "elapsed": 1705,
     "status": "ok",
     "timestamp": 1667964422414,
     "user": {
      "displayName": "Avinash Tatar",
      "userId": "17244541308253616955"
     },
     "user_tz": -330
    },
    "id": "JZHAQ0LHaXQC",
    "outputId": "1b6cdff2-62e7-416a-c9fb-e9088bfe640b"
   },
   "outputs": [
    {
     "data": {
      "image/png": "[encoded data removed]",
      "text/plain": [
       "<Figure size 432x288 with 1 Axes>"
      ]
     },
     "metadata": {},
     "output_type": "display_data"
    }
   ],
   "source": [
    "plt.figure(figsize=(6, 4))\n",
    "sns.countplot(data=psngr_df, x=\"Pclass\", hue=\"Sex\")\n",
    "plt.show()"
   ]
  },
  {
   "cell_type": "code",
   "execution_count": null,
   "metadata": {
    "colab": {
     "base_uri": "https://localhost:8080/",
     "height": 338
    },
    "executionInfo": {
     "elapsed": 565,
     "status": "ok",
     "timestamp": 1667964423381,
     "user": {
      "displayName": "Avinash Tatar",
      "userId": "17244541308253616955"
     },
     "user_tz": -330
    },
    "id": "N8iZ8GGWaXTR",
    "outputId": "9c49e889-f986-48b3-d756-3e502640e048"
   },
   "outputs": [
    {
     "data": {
      "image/png": "[encoded data removed]",
      "text/plain": [
       "<Figure size 720x360 with 1 Axes>"
      ]
     },
     "metadata": {},
     "output_type": "display_data"
    }
   ],
   "source": [
    "plt.figure(figsize=(10, 5))\n",
    "sns.boxplot(data=psngr_df, x=\"Age\", y=\"Pclass\", hue=\"Survived\")\n",
    "plt.xlabel(\"Passenger Age\")\n",
    "plt.ylabel(\"Passenger Class\")\n",
    "\n",
    "plt.show()"
   ]
  },
  {
   "cell_type": "code",
   "execution_count": null,
   "metadata": {
    "colab": {
     "base_uri": "https://localhost:8080/"
    },
    "executionInfo": {
     "elapsed": 4,
     "status": "ok",
     "timestamp": 1667964435367,
     "user": {
      "displayName": "Avinash Tatar",
      "userId": "17244541308253616955"
     },
     "user_tz": -330
    },
    "id": "QabQ2aNCbVPX",
    "outputId": "6c15d1b8-e705-48d3-b068-9e2d0c8344e9"
   },
   "outputs": [
    {
     "name": "stdout",
     "output_type": "stream",
     "text": [
      "Passengers who did not pay any money for ticket: 15\n"
     ]
    }
   ],
   "source": [
    "fltr = psngr_df[\"Fare\"] == 0\n",
    "print(\"Passengers who did not pay any money for ticket:\", len(psngr_df[fltr]))"
   ]
  },
  {
   "cell_type": "code",
   "execution_count": null,
   "metadata": {
    "colab": {
     "base_uri": "https://localhost:8080/"
    },
    "executionInfo": {
     "elapsed": 9,
     "status": "ok",
     "timestamp": 1667964464196,
     "user": {
      "displayName": "Avinash Tatar",
      "userId": "17244541308253616955"
     },
     "user_tz": -330
    },
    "id": "ROSgaaCJbYSu",
    "outputId": "0240e2fb-eef0-4f70-f316-cf85918a00e9"
   },
   "outputs": [
    {
     "name": "stdout",
     "output_type": "stream",
     "text": [
      "Passengers who payed more than $200 for ticket 20\n"
     ]
    }
   ],
   "source": [
    "fltr = psngr_df[\"Fare\"] > 200\n",
    "print(\"Passengers who payed more than $200 for ticket\", len(psngr_df[fltr]))"
   ]
  },
  {
   "cell_type": "code",
   "execution_count": null,
   "metadata": {
    "colab": {
     "base_uri": "https://localhost:8080/",
     "height": 284
    },
    "executionInfo": {
     "elapsed": 8,
     "status": "ok",
     "timestamp": 1667964492617,
     "user": {
      "displayName": "Avinash Tatar",
      "userId": "17244541308253616955"
     },
     "user_tz": -330
    },
    "id": "jG2NA4SdbYik",
    "outputId": "da7f0c5f-f8f4-409c-bac1-910d443d8cc0"
   },
   "outputs": [
    {
     "data": {
      "image/png": "[encoded data removed]",
      "text/plain": [
       "<Figure size 864x288 with 1 Axes>"
      ]
     },
     "metadata": {},
     "output_type": "display_data"
    }
   ],
   "source": [
    "plt.figure(figsize=(12, 4))\n",
    "\n",
    "fltr = (psngr_df[\"Pclass\"] == \"First\") & (psngr_df[\"Fare\"] <= 200)\n",
    "sns.boxplot(data=psngr_df[fltr], x=\"Fare\", y=\"Pclass\", hue=\"Survived\")\n",
    "plt.xlabel(\"Ticket Fare\")\n",
    "plt.ylabel(\"Passenger Class\")\n",
    "\n",
    "plt.show()"
   ]
  },
  {
   "cell_type": "code",
   "execution_count": null,
   "metadata": {
    "colab": {
     "base_uri": "https://localhost:8080/",
     "height": 284
    },
    "executionInfo": {
     "elapsed": 547,
     "status": "ok",
     "timestamp": 1667964496217,
     "user": {
      "displayName": "Avinash Tatar",
      "userId": "17244541308253616955"
     },
     "user_tz": -330
    },
    "id": "6eD7KAvubYmK",
    "outputId": "97fa3efa-1c8e-4911-c00a-c27e4733bfc9"
   },
   "outputs": [
    {
     "data": {
      "image/png": "[encoded data removed]",
      "text/plain": [
       "<Figure size 864x288 with 1 Axes>"
      ]
     },
     "metadata": {},
     "output_type": "display_data"
    }
   ],
   "source": [
    "plt.figure(figsize=(12, 4))\n",
    "\n",
    "fltr = psngr_df[\"Pclass\"] != \"First\"\n",
    "sns.boxplot(data=psngr_df[fltr], x=\"Fare\", y=\"Pclass\", hue=\"Survived\")\n",
    "plt.xlabel(\"Ticket Fare\")\n",
    "plt.ylabel(\"Passenger Class\")\n",
    "\n",
    "plt.show()"
   ]
  },
  {
   "cell_type": "code",
   "execution_count": null,
   "metadata": {
    "colab": {
     "base_uri": "https://localhost:8080/",
     "height": 338
    },
    "executionInfo": {
     "elapsed": 469,
     "status": "ok",
     "timestamp": 1667964500417,
     "user": {
      "displayName": "Avinash Tatar",
      "userId": "17244541308253616955"
     },
     "user_tz": -330
    },
    "id": "2sclz6fDbVe2",
    "outputId": "f0baac1a-e08e-476f-9ea0-67621a359198"
   },
   "outputs": [
    {
     "data": {
      "image/png": "[encoded data removed]",
      "text/plain": [
       "<Figure size 504x360 with 1 Axes>"
      ]
     },
     "metadata": {},
     "output_type": "display_data"
    }
   ],
   "source": [
    "plt.figure(figsize=(7, 5))\n",
    "\n",
    "sns.countplot(data=psngr_df.sort_values(by=\"Pclass\"), x=\"Embarked\", hue=\"Pclass\")\n",
    "plt.yticks(ticks=range(0, 400, 50))\n",
    "\n",
    "plt.show()"
   ]
  },
  {
   "cell_type": "code",
   "execution_count": null,
   "metadata": {
    "colab": {
     "base_uri": "https://localhost:8080/",
     "height": 284
    },
    "executionInfo": {
     "elapsed": 1137,
     "status": "ok",
     "timestamp": 1667964543861,
     "user": {
      "displayName": "Avinash Tatar",
      "userId": "17244541308253616955"
     },
     "user_tz": -330
    },
    "id": "O20ZHFIubViS",
    "outputId": "7bb02416-f470-421e-99ee-54f2dd7e0beb"
   },
   "outputs": [
    {
     "data": {
      "image/png": "[encoded data removed]",
      "text/plain": [
       "<Figure size 432x288 with 1 Axes>"
      ]
     },
     "metadata": {},
     "output_type": "display_data"
    }
   ],
   "source": [
    "plt.figure(figsize=(6, 4))\n",
    "\n",
    "sns.countplot(data=psngr_df, x=\"Cabin_cat\", hue=\"Embarked\")\n",
    "plt.xlabel(\"Cabin category\")\n",
    "plt.ylabel(\"Count\")\n",
    "\n",
    "plt.show()"
   ]
  },
  {
   "cell_type": "code",
   "execution_count": null,
   "metadata": {
    "colab": {
     "base_uri": "https://localhost:8080/",
     "height": 300
    },
    "executionInfo": {
     "elapsed": 5,
     "status": "ok",
     "timestamp": 1667964544407,
     "user": {
      "displayName": "Avinash Tatar",
      "userId": "17244541308253616955"
     },
     "user_tz": -330
    },
    "id": "Gu9tv9FqbuNN",
    "outputId": "0be6ba5e-329f-40e6-d52c-b6cc642b00a9"
   },
   "outputs": [
    {
     "data": {
      "image/png": "[encoded data removed]",
      "text/plain": [
       "<Figure size 360x288 with 1 Axes>"
      ]
     },
     "metadata": {},
     "output_type": "display_data"
    }
   ],
   "source": [
    "plt.figure(figsize=(5, 4))\n",
    "sns.countplot(data=psngr_df, x=\"Sex\", hue=\"Survived\")\n",
    "plt.title(\"Survival state b/w Men and Women\")\n",
    "plt.show()"
   ]
  },
  {
   "cell_type": "code",
   "execution_count": null,
   "metadata": {
    "colab": {
     "base_uri": "https://localhost:8080/",
     "height": 300
    },
    "executionInfo": {
     "elapsed": 18,
     "status": "ok",
     "timestamp": 1667964547858,
     "user": {
      "displayName": "Avinash Tatar",
      "userId": "17244541308253616955"
     },
     "user_tz": -330
    },
    "id": "DH1ekCDAbuRv",
    "outputId": "6f2076b0-1790-4a4a-da74-a60293563adf"
   },
   "outputs": [
    {
     "data": {
      "image/png": "[encoded data removed]",
      "text/plain": [
       "<Figure size 432x288 with 1 Axes>"
      ]
     },
     "metadata": {},
     "output_type": "display_data"
    }
   ],
   "source": [
    "plt.figure(figsize=(6, 4))\n",
    "sns.countplot(data=psngr_df, x=\"Pclass\", hue=\"Survived\")\n",
    "plt.title(\"Survival state b/w Passenger class\")\n",
    "plt.show()"
   ]
  },
  {
   "cell_type": "code",
   "execution_count": null,
   "metadata": {
    "colab": {
     "base_uri": "https://localhost:8080/"
    },
    "executionInfo": {
     "elapsed": 12,
     "status": "ok",
     "timestamp": 1667964595959,
     "user": {
      "displayName": "Avinash Tatar",
      "userId": "17244541308253616955"
     },
     "user_tz": -330
    },
    "id": "C8WgbX1WbuUT",
    "outputId": "0c93c8ee-e6f2-4ead-a8e5-653b98aa0ec4"
   },
   "outputs": [
    {
     "name": "stdout",
     "output_type": "stream",
     "text": [
      "Median age value in Age_grp (Age group):\n",
      "{'Adult Females': 35.0, 'Adult Males': 30.0, 'Kids': 4.0, 'Others': 49.0, 'Young Females': 24.0}\n"
     ]
    }
   ],
   "source": [
    "median_age = psngr_df.groupby(\"Age_grp\")[\"Age\"].median().to_dict()\n",
    "\n",
    "print(\"Median age value in Age_grp (Age group):\")\n",
    "print(median_age)"
   ]
  },
  {
   "cell_type": "code",
   "execution_count": null,
   "metadata": {
    "colab": {
     "base_uri": "https://localhost:8080/",
     "height": 237
    },
    "executionInfo": {
     "elapsed": 9,
     "status": "ok",
     "timestamp": 1667964598550,
     "user": {
      "displayName": "Avinash Tatar",
      "userId": "17244541308253616955"
     },
     "user_tz": -330
    },
    "id": "qbPYbs9cbuW2",
    "outputId": "a1844efb-1804-4ef9-db59-db7486c2a37f"
   },
   "outputs": [
    {
     "data": {
      "text/html": [
       "\n",
       "  <div id=\"df-f81de388-6164-44fa-a72f-7714777928ad\">\n",
       "    <div class=\"colab-df-container\">\n",
       "      <div>\n",
       "<style scoped>\n",
       "    .dataframe tbody tr th:only-of-type {\n",
       "        vertical-align: middle;\n",
       "    }\n",
       "\n",
       "    .dataframe tbody tr th {\n",
       "        vertical-align: top;\n",
       "    }\n",
       "\n",
       "    .dataframe thead th {\n",
       "        text-align: right;\n",
       "    }\n",
       "</style>\n",
       "<table border=\"1\" class=\"dataframe\">\n",
       "  <thead>\n",
       "    <tr style=\"text-align: right;\">\n",
       "      <th></th>\n",
       "      <th>Age_grp</th>\n",
       "      <th>Age</th>\n",
       "    </tr>\n",
       "    <tr>\n",
       "      <th>PassengerId</th>\n",
       "      <th></th>\n",
       "      <th></th>\n",
       "    </tr>\n",
       "  </thead>\n",
       "  <tbody>\n",
       "    <tr>\n",
       "      <th>6</th>\n",
       "      <td>Adult Males</td>\n",
       "      <td>30.0</td>\n",
       "    </tr>\n",
       "    <tr>\n",
       "      <th>20</th>\n",
       "      <td>Adult Females</td>\n",
       "      <td>35.0</td>\n",
       "    </tr>\n",
       "    <tr>\n",
       "      <th>29</th>\n",
       "      <td>Young Females</td>\n",
       "      <td>24.0</td>\n",
       "    </tr>\n",
       "    <tr>\n",
       "      <th>66</th>\n",
       "      <td>Kids</td>\n",
       "      <td>4.0</td>\n",
       "    </tr>\n",
       "    <tr>\n",
       "      <th>767</th>\n",
       "      <td>Others</td>\n",
       "      <td>49.0</td>\n",
       "    </tr>\n",
       "  </tbody>\n",
       "</table>\n",
       "</div>\n",
       "      <button class=\"colab-df-convert\" onclick=\"convertToInteractive('df-f81de388-6164-44fa-a72f-7714777928ad')\"\n",
       "              title=\"Convert this dataframe to an interactive table.\"\n",
       "              style=\"display:none;\">\n",
       "        \n",
       "  <svg xmlns=\"http://www.w3.org/2000/svg\" height=\"24px\"viewBox=\"0 0 24 24\"\n",
       "       width=\"24px\">\n",
       "    <path d=\"M0 0h24v24H0V0z\" fill=\"none\"/>\n",
       "    <path d=\"M18.56 5.44l.94 2.06.94-2.06 2.06-.94-2.06-.94-.94-2.06-.94 2.06-2.06.94zm-11 1L8.5 8.5l.94-2.06 2.06-.94-2.06-.94L8.5 2.5l-.94 2.06-2.06.94zm10 10l.94 2.06.94-2.06 2.06-.94-2.06-.94-.94-2.06-.94 2.06-2.06.94z\"/><path d=\"M17.41 7.96l-1.37-1.37c-.4-.4-.92-.59-1.43-.59-.52 0-1.04.2-1.43.59L10.3 9.45l-7.72 7.72c-.78.78-.78 2.05 0 2.83L4 21.41c.39.39.9.59 1.41.59.51 0 1.02-.2 1.41-.59l7.78-7.78 2.81-2.81c.8-.78.8-2.07 0-2.86zM5.41 20L4 18.59l7.72-7.72 1.47 1.35L5.41 20z\"/>\n",
       "  </svg>\n",
       "      </button>\n",
       "      \n",
       "  <style>\n",
       "    .colab-df-container {\n",
       "      display:flex;\n",
       "      flex-wrap:wrap;\n",
       "      gap: 12px;\n",
       "    }\n",
       "\n",
       "    .colab-df-convert {\n",
       "      background-color: #E8F0FE;\n",
       "      border: none;\n",
       "      border-radius: 50%;\n",
       "      cursor: pointer;\n",
       "      display: none;\n",
       "      fill: #1967D2;\n",
       "      height: 32px;\n",
       "      padding: 0 0 0 0;\n",
       "      width: 32px;\n",
       "    }\n",
       "\n",
       "    .colab-df-convert:hover {\n",
       "      background-color: #E2EBFA;\n",
       "      box-shadow: 0px 1px 2px rgba(60, 64, 67, 0.3), 0px 1px 3px 1px rgba(60, 64, 67, 0.15);\n",
       "      fill: #174EA6;\n",
       "    }\n",
       "\n",
       "    [theme=dark] .colab-df-convert {\n",
       "      background-color: #3B4455;\n",
       "      fill: #D2E3FC;\n",
       "    }\n",
       "\n",
       "    [theme=dark] .colab-df-convert:hover {\n",
       "      background-color: #434B5C;\n",
       "      box-shadow: 0px 1px 3px 1px rgba(0, 0, 0, 0.15);\n",
       "      filter: drop-shadow(0px 1px 2px rgba(0, 0, 0, 0.3));\n",
       "      fill: #FFFFFF;\n",
       "    }\n",
       "  </style>\n",
       "\n",
       "      <script>\n",
       "        const buttonEl =\n",
       "          document.querySelector('#df-f81de388-6164-44fa-a72f-7714777928ad button.colab-df-convert');\n",
       "        buttonEl.style.display =\n",
       "          google.colab.kernel.accessAllowed ? 'block' : 'none';\n",
       "\n",
       "        async function convertToInteractive(key) {\n",
       "          const element = document.querySelector('#df-f81de388-6164-44fa-a72f-7714777928ad');\n",
       "          const dataTable =\n",
       "            await google.colab.kernel.invokeFunction('convertToInteractive',\n",
       "                                                     [key], {});\n",
       "          if (!dataTable) return;\n",
       "\n",
       "          const docLinkHtml = 'Like what you see? Visit the ' +\n",
       "            '<a target=\"_blank\" href=https://colab.research.google.com/notebooks/data_table.ipynb>data table notebook</a>'\n",
       "            + ' to learn more about interactive tables.';\n",
       "          element.innerHTML = '';\n",
       "          dataTable['output_type'] = 'display_data';\n",
       "          await google.colab.output.renderOutput(dataTable, element);\n",
       "          const docLink = document.createElement('div');\n",
       "          docLink.innerHTML = docLinkHtml;\n",
       "          element.appendChild(docLink);\n",
       "        }\n",
       "      </script>\n",
       "    </div>\n",
       "  </div>\n",
       "  "
      ],
      "text/plain": [
       "                   Age_grp   Age\n",
       "PassengerId                     \n",
       "6              Adult Males  30.0\n",
       "20           Adult Females  35.0\n",
       "29           Young Females  24.0\n",
       "66                    Kids   4.0\n",
       "767                 Others  49.0"
      ]
     },
     "execution_count": 78,
     "metadata": {},
     "output_type": "execute_result"
    }
   ],
   "source": [
    "fltr = psngr_df[\"Age\"].isna()\n",
    "\n",
    "get_median_age = lambda df: median_age[df[\"Age_grp\"]]\n",
    "\n",
    "psngr_df.loc[fltr, \"Age\"] = psngr_df.loc[fltr, [\"Age_grp\"]].apply(get_median_age, axis=1)\n",
    "psngr_df.loc[fltr, [\"Age_grp\", \"Age\"]].groupby(\"Age_grp\").head(1)"
   ]
  },
  {
   "cell_type": "code",
   "execution_count": null,
   "metadata": {
    "colab": {
     "base_uri": "https://localhost:8080/",
     "height": 329
    },
    "executionInfo": {
     "elapsed": 398,
     "status": "ok",
     "timestamp": 1667964602244,
     "user": {
      "displayName": "Avinash Tatar",
      "userId": "17244541308253616955"
     },
     "user_tz": -330
    },
    "id": "XFsS6ui1buao",
    "outputId": "ee10426c-fd44-4411-c54c-be19f998bc1b"
   },
   "outputs": [
    {
     "data": {
      "text/html": [
       "\n",
       "  <div id=\"df-46277b52-820c-4e44-bc3d-53cd591b03db\">\n",
       "    <div class=\"colab-df-container\">\n",
       "      <div>\n",
       "<style scoped>\n",
       "    .dataframe tbody tr th:only-of-type {\n",
       "        vertical-align: middle;\n",
       "    }\n",
       "\n",
       "    .dataframe tbody tr th {\n",
       "        vertical-align: top;\n",
       "    }\n",
       "\n",
       "    .dataframe thead th {\n",
       "        text-align: right;\n",
       "    }\n",
       "</style>\n",
       "<table border=\"1\" class=\"dataframe\">\n",
       "  <thead>\n",
       "    <tr style=\"text-align: right;\">\n",
       "      <th></th>\n",
       "      <th>Survived</th>\n",
       "      <th>Pclass</th>\n",
       "      <th>Name</th>\n",
       "      <th>Sex</th>\n",
       "      <th>Age</th>\n",
       "      <th>SibSp</th>\n",
       "      <th>Parch</th>\n",
       "      <th>Ticket</th>\n",
       "      <th>Fare</th>\n",
       "      <th>Cabin</th>\n",
       "      <th>Embarked</th>\n",
       "      <th>Name_len</th>\n",
       "      <th>Title</th>\n",
       "      <th>Age_grp</th>\n",
       "      <th>Fam_count</th>\n",
       "      <th>Fam_size</th>\n",
       "      <th>Log_Fare</th>\n",
       "      <th>Cabin_cat</th>\n",
       "      <th>Cabin_count</th>\n",
       "    </tr>\n",
       "    <tr>\n",
       "      <th>PassengerId</th>\n",
       "      <th></th>\n",
       "      <th></th>\n",
       "      <th></th>\n",
       "      <th></th>\n",
       "      <th></th>\n",
       "      <th></th>\n",
       "      <th></th>\n",
       "      <th></th>\n",
       "      <th></th>\n",
       "      <th></th>\n",
       "      <th></th>\n",
       "      <th></th>\n",
       "      <th></th>\n",
       "      <th></th>\n",
       "      <th></th>\n",
       "      <th></th>\n",
       "      <th></th>\n",
       "      <th></th>\n",
       "      <th></th>\n",
       "    </tr>\n",
       "  </thead>\n",
       "  <tbody>\n",
       "    <tr>\n",
       "      <th>62</th>\n",
       "      <td>Yes</td>\n",
       "      <td>First</td>\n",
       "      <td>Icard, Miss. Amelie</td>\n",
       "      <td>Female</td>\n",
       "      <td>38.0</td>\n",
       "      <td>0</td>\n",
       "      <td>0</td>\n",
       "      <td>113572</td>\n",
       "      <td>80.0</td>\n",
       "      <td>B28</td>\n",
       "      <td>NaN</td>\n",
       "      <td>19</td>\n",
       "      <td>Miss</td>\n",
       "      <td>Young Females</td>\n",
       "      <td>1</td>\n",
       "      <td>Nill</td>\n",
       "      <td>4.382027</td>\n",
       "      <td>B</td>\n",
       "      <td>1</td>\n",
       "    </tr>\n",
       "    <tr>\n",
       "      <th>830</th>\n",
       "      <td>Yes</td>\n",
       "      <td>First</td>\n",
       "      <td>Stone, Mrs. George Nelson (Martha Evelyn)</td>\n",
       "      <td>Female</td>\n",
       "      <td>62.0</td>\n",
       "      <td>0</td>\n",
       "      <td>0</td>\n",
       "      <td>113572</td>\n",
       "      <td>80.0</td>\n",
       "      <td>B28</td>\n",
       "      <td>NaN</td>\n",
       "      <td>41</td>\n",
       "      <td>Mrs</td>\n",
       "      <td>Adult Females</td>\n",
       "      <td>1</td>\n",
       "      <td>Nill</td>\n",
       "      <td>4.382027</td>\n",
       "      <td>B</td>\n",
       "      <td>1</td>\n",
       "    </tr>\n",
       "  </tbody>\n",
       "</table>\n",
       "</div>\n",
       "      <button class=\"colab-df-convert\" onclick=\"convertToInteractive('df-46277b52-820c-4e44-bc3d-53cd591b03db')\"\n",
       "              title=\"Convert this dataframe to an interactive table.\"\n",
       "              style=\"display:none;\">\n",
       "        \n",
       "  <svg xmlns=\"http://www.w3.org/2000/svg\" height=\"24px\"viewBox=\"0 0 24 24\"\n",
       "       width=\"24px\">\n",
       "    <path d=\"M0 0h24v24H0V0z\" fill=\"none\"/>\n",
       "    <path d=\"M18.56 5.44l.94 2.06.94-2.06 2.06-.94-2.06-.94-.94-2.06-.94 2.06-2.06.94zm-11 1L8.5 8.5l.94-2.06 2.06-.94-2.06-.94L8.5 2.5l-.94 2.06-2.06.94zm10 10l.94 2.06.94-2.06 2.06-.94-2.06-.94-.94-2.06-.94 2.06-2.06.94z\"/><path d=\"M17.41 7.96l-1.37-1.37c-.4-.4-.92-.59-1.43-.59-.52 0-1.04.2-1.43.59L10.3 9.45l-7.72 7.72c-.78.78-.78 2.05 0 2.83L4 21.41c.39.39.9.59 1.41.59.51 0 1.02-.2 1.41-.59l7.78-7.78 2.81-2.81c.8-.78.8-2.07 0-2.86zM5.41 20L4 18.59l7.72-7.72 1.47 1.35L5.41 20z\"/>\n",
       "  </svg>\n",
       "      </button>\n",
       "      \n",
       "  <style>\n",
       "    .colab-df-container {\n",
       "      display:flex;\n",
       "      flex-wrap:wrap;\n",
       "      gap: 12px;\n",
       "    }\n",
       "\n",
       "    .colab-df-convert {\n",
       "      background-color: #E8F0FE;\n",
       "      border: none;\n",
       "      border-radius: 50%;\n",
       "      cursor: pointer;\n",
       "      display: none;\n",
       "      fill: #1967D2;\n",
       "      height: 32px;\n",
       "      padding: 0 0 0 0;\n",
       "      width: 32px;\n",
       "    }\n",
       "\n",
       "    .colab-df-convert:hover {\n",
       "      background-color: #E2EBFA;\n",
       "      box-shadow: 0px 1px 2px rgba(60, 64, 67, 0.3), 0px 1px 3px 1px rgba(60, 64, 67, 0.15);\n",
       "      fill: #174EA6;\n",
       "    }\n",
       "\n",
       "    [theme=dark] .colab-df-convert {\n",
       "      background-color: #3B4455;\n",
       "      fill: #D2E3FC;\n",
       "    }\n",
       "\n",
       "    [theme=dark] .colab-df-convert:hover {\n",
       "      background-color: #434B5C;\n",
       "      box-shadow: 0px 1px 3px 1px rgba(0, 0, 0, 0.15);\n",
       "      filter: drop-shadow(0px 1px 2px rgba(0, 0, 0, 0.3));\n",
       "      fill: #FFFFFF;\n",
       "    }\n",
       "  </style>\n",
       "\n",
       "      <script>\n",
       "        const buttonEl =\n",
       "          document.querySelector('#df-46277b52-820c-4e44-bc3d-53cd591b03db button.colab-df-convert');\n",
       "        buttonEl.style.display =\n",
       "          google.colab.kernel.accessAllowed ? 'block' : 'none';\n",
       "\n",
       "        async function convertToInteractive(key) {\n",
       "          const element = document.querySelector('#df-46277b52-820c-4e44-bc3d-53cd591b03db');\n",
       "          const dataTable =\n",
       "            await google.colab.kernel.invokeFunction('convertToInteractive',\n",
       "                                                     [key], {});\n",
       "          if (!dataTable) return;\n",
       "\n",
       "          const docLinkHtml = 'Like what you see? Visit the ' +\n",
       "            '<a target=\"_blank\" href=https://colab.research.google.com/notebooks/data_table.ipynb>data table notebook</a>'\n",
       "            + ' to learn more about interactive tables.';\n",
       "          element.innerHTML = '';\n",
       "          dataTable['output_type'] = 'display_data';\n",
       "          await google.colab.output.renderOutput(dataTable, element);\n",
       "          const docLink = document.createElement('div');\n",
       "          docLink.innerHTML = docLinkHtml;\n",
       "          element.appendChild(docLink);\n",
       "        }\n",
       "      </script>\n",
       "    </div>\n",
       "  </div>\n",
       "  "
      ],
      "text/plain": [
       "            Survived Pclass                                       Name     Sex   Age  SibSp  Parch  Ticket  Fare Cabin Embarked  \\\n",
       "PassengerId                                                                                                                       \n",
       "62               Yes  First                        Icard, Miss. Amelie  Female  38.0      0      0  113572  80.0   B28      NaN   \n",
       "830              Yes  First  Stone, Mrs. George Nelson (Martha Evelyn)  Female  62.0      0      0  113572  80.0   B28      NaN   \n",
       "\n",
       "             Name_len Title        Age_grp  Fam_count Fam_size  Log_Fare Cabin_cat  Cabin_count  \n",
       "PassengerId                                                                                      \n",
       "62                 19  Miss  Young Females          1     Nill  4.382027         B            1  \n",
       "830                41   Mrs  Adult Females          1     Nill  4.382027         B            1  "
      ]
     },
     "execution_count": 79,
     "metadata": {},
     "output_type": "execute_result"
    }
   ],
   "source": [
    "fltr = psngr_df[\"Embarked\"].isna()\n",
    "psngr_df[fltr]"
   ]
  },
  {
   "cell_type": "code",
   "execution_count": null,
   "metadata": {
    "colab": {
     "base_uri": "https://localhost:8080/"
    },
    "executionInfo": {
     "elapsed": 500,
     "status": "ok",
     "timestamp": 1667964634841,
     "user": {
      "displayName": "Avinash Tatar",
      "userId": "17244541308253616955"
     },
     "user_tz": -330
    },
    "id": "jVTSuIvlcBOX",
    "outputId": "7e4e6d18-391b-4abf-e9e9-e37a06aeb299"
   },
   "outputs": [
    {
     "data": {
      "text/plain": [
       "S    644\n",
       "C    168\n",
       "Q     77\n",
       "Name: Embarked, dtype: int64"
      ]
     },
     "execution_count": 80,
     "metadata": {},
     "output_type": "execute_result"
    }
   ],
   "source": [
    "psngr_df[\"Embarked\"].value_counts()"
   ]
  },
  {
   "cell_type": "code",
   "execution_count": null,
   "metadata": {
    "colab": {
     "base_uri": "https://localhost:8080/"
    },
    "executionInfo": {
     "elapsed": 420,
     "status": "ok",
     "timestamp": 1667964635800,
     "user": {
      "displayName": "Avinash Tatar",
      "userId": "17244541308253616955"
     },
     "user_tz": -330
    },
    "id": "S2j2xsWlcBRF",
    "outputId": "19331ab8-7ed3-49e8-b8c9-68d05129e0e7"
   },
   "outputs": [
    {
     "name": "stdout",
     "output_type": "stream",
     "text": [
      "Row count with empty `Embarked` feature: 0\n"
     ]
    }
   ],
   "source": [
    "psngr_df[\"Embarked\"].fillna(value=\"S\", inplace=True)\n",
    "print(\"Row count with empty `Embarked` feature:\", len(psngr_df[psngr_df[\"Embarked\"].isna()]))"
   ]
  },
  {
   "cell_type": "code",
   "execution_count": null,
   "metadata": {
    "colab": {
     "base_uri": "https://localhost:8080/"
    },
    "executionInfo": {
     "elapsed": 659,
     "status": "ok",
     "timestamp": 1667964639325,
     "user": {
      "displayName": "Avinash Tatar",
      "userId": "17244541308253616955"
     },
     "user_tz": -330
    },
    "id": "eizuGSCYcBTl",
    "outputId": "4e3fc078-08f8-45e9-c1cc-dcec226c68a3"
   },
   "outputs": [
    {
     "name": "stdout",
     "output_type": "stream",
     "text": [
      "\n",
      "Encoding column:'Survived'\n",
      "+-------+------------+\n",
      "| Label | Encoded as |\n",
      "+-------+------------+\n",
      "|    No |          0 |\n",
      "|   Yes |          1 |\n",
      "+-------+------------+\n",
      "\n",
      "Encoding column:'Pclass'\n",
      "+----------+------------+\n",
      "|    Label | Encoded as |\n",
      "+----------+------------+\n",
      "|    First |          0 |\n",
      "|   Second |          1 |\n",
      "| Steerage |          2 |\n",
      "|    Third |          3 |\n",
      "+----------+------------+\n",
      "\n",
      "Encoding column:'Title'\n",
      "+--------------+------------+\n",
      "|        Label | Encoded as |\n",
      "+--------------+------------+\n",
      "|         Capt |          0 |\n",
      "|          Col |          1 |\n",
      "|          Don |          2 |\n",
      "|           Dr |          3 |\n",
      "|     Jonkheer |          4 |\n",
      "|         Lady |          5 |\n",
      "|        Major |          6 |\n",
      "|       Master |          7 |\n",
      "|         Miss |          8 |\n",
      "|         Mlle |          9 |\n",
      "|          Mme |         10 |\n",
      "|           Mr |         11 |\n",
      "|          Mrs |         12 |\n",
      "|           Ms |         13 |\n",
      "|          Rev |         14 |\n",
      "|          Sir |         15 |\n",
      "| the Countess |         16 |\n",
      "+--------------+------------+\n",
      "\n",
      "Encoding column:'Sex'\n",
      "+--------+------------+\n",
      "|  Label | Encoded as |\n",
      "+--------+------------+\n",
      "| Female |          0 |\n",
      "|   Male |          1 |\n",
      "+--------+------------+\n",
      "\n",
      "Encoding column:'Cabin_cat'\n",
      "+-------+------------+\n",
      "| Label | Encoded as |\n",
      "+-------+------------+\n",
      "|     A |          0 |\n",
      "|     B |          1 |\n",
      "|     C |          2 |\n",
      "|     D |          3 |\n",
      "|     E |          4 |\n",
      "|     F |          5 |\n",
      "|     G |          6 |\n",
      "|    NA |          7 |\n",
      "|     T |          8 |\n",
      "+-------+------------+\n",
      "\n",
      "Encoding column:'Embarked'\n",
      "+-------+------------+\n",
      "| Label | Encoded as |\n",
      "+-------+------------+\n",
      "|     C |          0 |\n",
      "|     Q |          1 |\n",
      "|     S |          2 |\n",
      "+-------+------------+\n"
     ]
    }
   ],
   "source": [
    "en_df = psngr_df.copy()\n",
    "encode_columns(en_df, [\"Survived\", \"Pclass\", \"Title\", \"Sex\", \"Cabin_cat\", \"Embarked\"])"
   ]
  },
  {
   "cell_type": "code",
   "execution_count": null,
   "metadata": {
    "id": "qIyewFyzcBWC"
   },
   "outputs": [],
   "source": [
    "fs_en = {\n",
    "    \"Medium\": 0,\n",
    "    \"Large\": 1,\n",
    "    \"Nill\": 2,\n",
    "}\n",
    "\n",
    "en_df[\"Fam_size\"].replace(fs_en, inplace=True)"
   ]
  },
  {
   "cell_type": "code",
   "execution_count": null,
   "metadata": {
    "id": "70QRL7tUcBY9"
   },
   "outputs": [],
   "source": [
    "age_grp_en = {\n",
    "    \"Adult Females\": 0,\n",
    "    \"Others\": 1,\n",
    "    \"Kids\": 2,\n",
    "    \"Young Females\": 3,\n",
    "    \"Adult Males\": 4,\n",
    "}\n",
    "\n",
    "en_df[\"Age_grp\"].replace(age_grp_en, inplace=True)"
   ]
  },
  {
   "cell_type": "code",
   "execution_count": null,
   "metadata": {
    "colab": {
     "base_uri": "https://localhost:8080/",
     "height": 187
    },
    "executionInfo": {
     "elapsed": 13,
     "status": "ok",
     "timestamp": 1667964677216,
     "user": {
      "displayName": "Avinash Tatar",
      "userId": "17244541308253616955"
     },
     "user_tz": -330
    },
    "id": "FDEM8NRkcBbN",
    "outputId": "9542cc3b-dfe1-4a51-b611-11aca0ea14a9"
   },
   "outputs": [
    {
     "data": {
      "text/html": [
       "\n",
       "  <div id=\"df-bef9c4f0-b1c3-47e6-9517-5938e6ae99e0\">\n",
       "    <div class=\"colab-df-container\">\n",
       "      <div>\n",
       "<style scoped>\n",
       "    .dataframe tbody tr th:only-of-type {\n",
       "        vertical-align: middle;\n",
       "    }\n",
       "\n",
       "    .dataframe tbody tr th {\n",
       "        vertical-align: top;\n",
       "    }\n",
       "\n",
       "    .dataframe thead th {\n",
       "        text-align: right;\n",
       "    }\n",
       "</style>\n",
       "<table border=\"1\" class=\"dataframe\">\n",
       "  <thead>\n",
       "    <tr style=\"text-align: right;\">\n",
       "      <th></th>\n",
       "      <th>Survived</th>\n",
       "      <th>Pclass</th>\n",
       "      <th>Title</th>\n",
       "      <th>Sex</th>\n",
       "      <th>Age_grp</th>\n",
       "      <th>Fam_size</th>\n",
       "      <th>Cabin_cat</th>\n",
       "      <th>Embarked</th>\n",
       "    </tr>\n",
       "    <tr>\n",
       "      <th>PassengerId</th>\n",
       "      <th></th>\n",
       "      <th></th>\n",
       "      <th></th>\n",
       "      <th></th>\n",
       "      <th></th>\n",
       "      <th></th>\n",
       "      <th></th>\n",
       "      <th></th>\n",
       "    </tr>\n",
       "  </thead>\n",
       "  <tbody>\n",
       "    <tr>\n",
       "      <th>1</th>\n",
       "      <td>0</td>\n",
       "      <td>2</td>\n",
       "      <td>11</td>\n",
       "      <td>1</td>\n",
       "      <td>4</td>\n",
       "      <td>0</td>\n",
       "      <td>7</td>\n",
       "      <td>2</td>\n",
       "    </tr>\n",
       "    <tr>\n",
       "      <th>2</th>\n",
       "      <td>1</td>\n",
       "      <td>0</td>\n",
       "      <td>12</td>\n",
       "      <td>0</td>\n",
       "      <td>0</td>\n",
       "      <td>0</td>\n",
       "      <td>2</td>\n",
       "      <td>0</td>\n",
       "    </tr>\n",
       "  </tbody>\n",
       "</table>\n",
       "</div>\n",
       "      <button class=\"colab-df-convert\" onclick=\"convertToInteractive('df-bef9c4f0-b1c3-47e6-9517-5938e6ae99e0')\"\n",
       "              title=\"Convert this dataframe to an interactive table.\"\n",
       "              style=\"display:none;\">\n",
       "        \n",
       "  <svg xmlns=\"http://www.w3.org/2000/svg\" height=\"24px\"viewBox=\"0 0 24 24\"\n",
       "       width=\"24px\">\n",
       "    <path d=\"M0 0h24v24H0V0z\" fill=\"none\"/>\n",
       "    <path d=\"M18.56 5.44l.94 2.06.94-2.06 2.06-.94-2.06-.94-.94-2.06-.94 2.06-2.06.94zm-11 1L8.5 8.5l.94-2.06 2.06-.94-2.06-.94L8.5 2.5l-.94 2.06-2.06.94zm10 10l.94 2.06.94-2.06 2.06-.94-2.06-.94-.94-2.06-.94 2.06-2.06.94z\"/><path d=\"M17.41 7.96l-1.37-1.37c-.4-.4-.92-.59-1.43-.59-.52 0-1.04.2-1.43.59L10.3 9.45l-7.72 7.72c-.78.78-.78 2.05 0 2.83L4 21.41c.39.39.9.59 1.41.59.51 0 1.02-.2 1.41-.59l7.78-7.78 2.81-2.81c.8-.78.8-2.07 0-2.86zM5.41 20L4 18.59l7.72-7.72 1.47 1.35L5.41 20z\"/>\n",
       "  </svg>\n",
       "      </button>\n",
       "      \n",
       "  <style>\n",
       "    .colab-df-container {\n",
       "      display:flex;\n",
       "      flex-wrap:wrap;\n",
       "      gap: 12px;\n",
       "    }\n",
       "\n",
       "    .colab-df-convert {\n",
       "      background-color: #E8F0FE;\n",
       "      border: none;\n",
       "      border-radius: 50%;\n",
       "      cursor: pointer;\n",
       "      display: none;\n",
       "      fill: #1967D2;\n",
       "      height: 32px;\n",
       "      padding: 0 0 0 0;\n",
       "      width: 32px;\n",
       "    }\n",
       "\n",
       "    .colab-df-convert:hover {\n",
       "      background-color: #E2EBFA;\n",
       "      box-shadow: 0px 1px 2px rgba(60, 64, 67, 0.3), 0px 1px 3px 1px rgba(60, 64, 67, 0.15);\n",
       "      fill: #174EA6;\n",
       "    }\n",
       "\n",
       "    [theme=dark] .colab-df-convert {\n",
       "      background-color: #3B4455;\n",
       "      fill: #D2E3FC;\n",
       "    }\n",
       "\n",
       "    [theme=dark] .colab-df-convert:hover {\n",
       "      background-color: #434B5C;\n",
       "      box-shadow: 0px 1px 3px 1px rgba(0, 0, 0, 0.15);\n",
       "      filter: drop-shadow(0px 1px 2px rgba(0, 0, 0, 0.3));\n",
       "      fill: #FFFFFF;\n",
       "    }\n",
       "  </style>\n",
       "\n",
       "      <script>\n",
       "        const buttonEl =\n",
       "          document.querySelector('#df-bef9c4f0-b1c3-47e6-9517-5938e6ae99e0 button.colab-df-convert');\n",
       "        buttonEl.style.display =\n",
       "          google.colab.kernel.accessAllowed ? 'block' : 'none';\n",
       "\n",
       "        async function convertToInteractive(key) {\n",
       "          const element = document.querySelector('#df-bef9c4f0-b1c3-47e6-9517-5938e6ae99e0');\n",
       "          const dataTable =\n",
       "            await google.colab.kernel.invokeFunction('convertToInteractive',\n",
       "                                                     [key], {});\n",
       "          if (!dataTable) return;\n",
       "\n",
       "          const docLinkHtml = 'Like what you see? Visit the ' +\n",
       "            '<a target=\"_blank\" href=https://colab.research.google.com/notebooks/data_table.ipynb>data table notebook</a>'\n",
       "            + ' to learn more about interactive tables.';\n",
       "          element.innerHTML = '';\n",
       "          dataTable['output_type'] = 'display_data';\n",
       "          await google.colab.output.renderOutput(dataTable, element);\n",
       "          const docLink = document.createElement('div');\n",
       "          docLink.innerHTML = docLinkHtml;\n",
       "          element.appendChild(docLink);\n",
       "        }\n",
       "      </script>\n",
       "    </div>\n",
       "  </div>\n",
       "  "
      ],
      "text/plain": [
       "             Survived  Pclass  Title  Sex  Age_grp  Fam_size  Cabin_cat  Embarked\n",
       "PassengerId                                                                      \n",
       "1                   0       2     11    1        4         0          7         2\n",
       "2                   1       0     12    0        0         0          2         0"
      ]
     },
     "execution_count": 85,
     "metadata": {},
     "output_type": "execute_result"
    }
   ],
   "source": [
    "enc = [\"Survived\", \"Pclass\", \"Title\", \"Sex\", \"Age_grp\", \"Fam_size\", \"Cabin_cat\", \"Embarked\"]\n",
    "en_df[enc].head(2)"
   ]
  },
  {
   "cell_type": "code",
   "execution_count": null,
   "metadata": {
    "colab": {
     "base_uri": "https://localhost:8080/",
     "height": 364
    },
    "executionInfo": {
     "elapsed": 476,
     "status": "ok",
     "timestamp": 1667964715865,
     "user": {
      "displayName": "Avinash Tatar",
      "userId": "17244541308253616955"
     },
     "user_tz": -330
    },
    "id": "4G7FewD8cTo1",
    "outputId": "122f8a44-4c1f-46ad-8725-a1069dacb50d"
   },
   "outputs": [
    {
     "data": {
      "text/html": [
       "\n",
       "  <div id=\"df-1eec4f6e-254a-40de-9b37-59cbe5612fb0\">\n",
       "    <div class=\"colab-df-container\">\n",
       "      <div>\n",
       "<style scoped>\n",
       "    .dataframe tbody tr th:only-of-type {\n",
       "        vertical-align: middle;\n",
       "    }\n",
       "\n",
       "    .dataframe tbody tr th {\n",
       "        vertical-align: top;\n",
       "    }\n",
       "\n",
       "    .dataframe thead th {\n",
       "        text-align: right;\n",
       "    }\n",
       "</style>\n",
       "<table border=\"1\" class=\"dataframe\">\n",
       "  <thead>\n",
       "    <tr style=\"text-align: right;\">\n",
       "      <th></th>\n",
       "      <th>Survived</th>\n",
       "      <th>Pclass</th>\n",
       "      <th>Name</th>\n",
       "      <th>Sex</th>\n",
       "      <th>Age</th>\n",
       "      <th>SibSp</th>\n",
       "      <th>Parch</th>\n",
       "      <th>Ticket</th>\n",
       "      <th>Fare</th>\n",
       "      <th>Cabin</th>\n",
       "      <th>Embarked</th>\n",
       "      <th>Name_len</th>\n",
       "      <th>Title</th>\n",
       "      <th>Age_grp</th>\n",
       "      <th>Fam_count</th>\n",
       "      <th>Fam_size</th>\n",
       "      <th>Log_Fare</th>\n",
       "      <th>Cabin_cat</th>\n",
       "      <th>Cabin_count</th>\n",
       "    </tr>\n",
       "    <tr>\n",
       "      <th>PassengerId</th>\n",
       "      <th></th>\n",
       "      <th></th>\n",
       "      <th></th>\n",
       "      <th></th>\n",
       "      <th></th>\n",
       "      <th></th>\n",
       "      <th></th>\n",
       "      <th></th>\n",
       "      <th></th>\n",
       "      <th></th>\n",
       "      <th></th>\n",
       "      <th></th>\n",
       "      <th></th>\n",
       "      <th></th>\n",
       "      <th></th>\n",
       "      <th></th>\n",
       "      <th></th>\n",
       "      <th></th>\n",
       "      <th></th>\n",
       "    </tr>\n",
       "  </thead>\n",
       "  <tbody>\n",
       "    <tr>\n",
       "      <th>1</th>\n",
       "      <td>0</td>\n",
       "      <td>2</td>\n",
       "      <td>Braund, Mr. Owen Harris</td>\n",
       "      <td>1</td>\n",
       "      <td>22.0</td>\n",
       "      <td>1</td>\n",
       "      <td>0</td>\n",
       "      <td>A/5 21171</td>\n",
       "      <td>7.2500</td>\n",
       "      <td>NaN</td>\n",
       "      <td>2</td>\n",
       "      <td>23</td>\n",
       "      <td>11</td>\n",
       "      <td>4</td>\n",
       "      <td>2</td>\n",
       "      <td>0</td>\n",
       "      <td>1.981001</td>\n",
       "      <td>7</td>\n",
       "      <td>0</td>\n",
       "    </tr>\n",
       "    <tr>\n",
       "      <th>2</th>\n",
       "      <td>1</td>\n",
       "      <td>0</td>\n",
       "      <td>Cumings, Mrs. John Bradley (Florence Briggs Th...</td>\n",
       "      <td>0</td>\n",
       "      <td>38.0</td>\n",
       "      <td>1</td>\n",
       "      <td>0</td>\n",
       "      <td>PC 17599</td>\n",
       "      <td>71.2833</td>\n",
       "      <td>C85</td>\n",
       "      <td>0</td>\n",
       "      <td>51</td>\n",
       "      <td>12</td>\n",
       "      <td>0</td>\n",
       "      <td>2</td>\n",
       "      <td>0</td>\n",
       "      <td>4.266662</td>\n",
       "      <td>2</td>\n",
       "      <td>1</td>\n",
       "    </tr>\n",
       "  </tbody>\n",
       "</table>\n",
       "</div>\n",
       "      <button class=\"colab-df-convert\" onclick=\"convertToInteractive('df-1eec4f6e-254a-40de-9b37-59cbe5612fb0')\"\n",
       "              title=\"Convert this dataframe to an interactive table.\"\n",
       "              style=\"display:none;\">\n",
       "        \n",
       "  <svg xmlns=\"http://www.w3.org/2000/svg\" height=\"24px\"viewBox=\"0 0 24 24\"\n",
       "       width=\"24px\">\n",
       "    <path d=\"M0 0h24v24H0V0z\" fill=\"none\"/>\n",
       "    <path d=\"M18.56 5.44l.94 2.06.94-2.06 2.06-.94-2.06-.94-.94-2.06-.94 2.06-2.06.94zm-11 1L8.5 8.5l.94-2.06 2.06-.94-2.06-.94L8.5 2.5l-.94 2.06-2.06.94zm10 10l.94 2.06.94-2.06 2.06-.94-2.06-.94-.94-2.06-.94 2.06-2.06.94z\"/><path d=\"M17.41 7.96l-1.37-1.37c-.4-.4-.92-.59-1.43-.59-.52 0-1.04.2-1.43.59L10.3 9.45l-7.72 7.72c-.78.78-.78 2.05 0 2.83L4 21.41c.39.39.9.59 1.41.59.51 0 1.02-.2 1.41-.59l7.78-7.78 2.81-2.81c.8-.78.8-2.07 0-2.86zM5.41 20L4 18.59l7.72-7.72 1.47 1.35L5.41 20z\"/>\n",
       "  </svg>\n",
       "      </button>\n",
       "      \n",
       "  <style>\n",
       "    .colab-df-container {\n",
       "      display:flex;\n",
       "      flex-wrap:wrap;\n",
       "      gap: 12px;\n",
       "    }\n",
       "\n",
       "    .colab-df-convert {\n",
       "      background-color: #E8F0FE;\n",
       "      border: none;\n",
       "      border-radius: 50%;\n",
       "      cursor: pointer;\n",
       "      display: none;\n",
       "      fill: #1967D2;\n",
       "      height: 32px;\n",
       "      padding: 0 0 0 0;\n",
       "      width: 32px;\n",
       "    }\n",
       "\n",
       "    .colab-df-convert:hover {\n",
       "      background-color: #E2EBFA;\n",
       "      box-shadow: 0px 1px 2px rgba(60, 64, 67, 0.3), 0px 1px 3px 1px rgba(60, 64, 67, 0.15);\n",
       "      fill: #174EA6;\n",
       "    }\n",
       "\n",
       "    [theme=dark] .colab-df-convert {\n",
       "      background-color: #3B4455;\n",
       "      fill: #D2E3FC;\n",
       "    }\n",
       "\n",
       "    [theme=dark] .colab-df-convert:hover {\n",
       "      background-color: #434B5C;\n",
       "      box-shadow: 0px 1px 3px 1px rgba(0, 0, 0, 0.15);\n",
       "      filter: drop-shadow(0px 1px 2px rgba(0, 0, 0, 0.3));\n",
       "      fill: #FFFFFF;\n",
       "    }\n",
       "  </style>\n",
       "\n",
       "      <script>\n",
       "        const buttonEl =\n",
       "          document.querySelector('#df-1eec4f6e-254a-40de-9b37-59cbe5612fb0 button.colab-df-convert');\n",
       "        buttonEl.style.display =\n",
       "          google.colab.kernel.accessAllowed ? 'block' : 'none';\n",
       "\n",
       "        async function convertToInteractive(key) {\n",
       "          const element = document.querySelector('#df-1eec4f6e-254a-40de-9b37-59cbe5612fb0');\n",
       "          const dataTable =\n",
       "            await google.colab.kernel.invokeFunction('convertToInteractive',\n",
       "                                                     [key], {});\n",
       "          if (!dataTable) return;\n",
       "\n",
       "          const docLinkHtml = 'Like what you see? Visit the ' +\n",
       "            '<a target=\"_blank\" href=https://colab.research.google.com/notebooks/data_table.ipynb>data table notebook</a>'\n",
       "            + ' to learn more about interactive tables.';\n",
       "          element.innerHTML = '';\n",
       "          dataTable['output_type'] = 'display_data';\n",
       "          await google.colab.output.renderOutput(dataTable, element);\n",
       "          const docLink = document.createElement('div');\n",
       "          docLink.innerHTML = docLinkHtml;\n",
       "          element.appendChild(docLink);\n",
       "        }\n",
       "      </script>\n",
       "    </div>\n",
       "  </div>\n",
       "  "
      ],
      "text/plain": [
       "             Survived  Pclass                                               Name  Sex   Age  SibSp  Parch     Ticket     Fare  \\\n",
       "PassengerId                                                                                                                     \n",
       "1                   0       2                            Braund, Mr. Owen Harris    1  22.0      1      0  A/5 21171   7.2500   \n",
       "2                   1       0  Cumings, Mrs. John Bradley (Florence Briggs Th...    0  38.0      1      0   PC 17599  71.2833   \n",
       "\n",
       "            Cabin  Embarked  Name_len  Title  Age_grp  Fam_count  Fam_size  Log_Fare  Cabin_cat  Cabin_count  \n",
       "PassengerId                                                                                                   \n",
       "1             NaN         2        23     11        4          2         0  1.981001          7            0  \n",
       "2             C85         0        51     12        0          2         0  4.266662          2            1  "
      ]
     },
     "execution_count": 86,
     "metadata": {},
     "output_type": "execute_result"
    }
   ],
   "source": [
    "en_df.head(2)"
   ]
  },
  {
   "cell_type": "code",
   "execution_count": null,
   "metadata": {
    "colab": {
     "base_uri": "https://localhost:8080/"
    },
    "executionInfo": {
     "elapsed": 648,
     "status": "ok",
     "timestamp": 1667964719584,
     "user": {
      "displayName": "Avinash Tatar",
      "userId": "17244541308253616955"
     },
     "user_tz": -330
    },
    "id": "6zCTb571cTwV",
    "outputId": "cc12a3b9-f9b0-42c4-84e5-a731fff27b92"
   },
   "outputs": [
    {
     "name": "stdout",
     "output_type": "stream",
     "text": [
      "+-----+-----------+-------+\n",
      "| idx |     Specs | Score |\n",
      "+-----+-----------+-------+\n",
      "|   1 |       Sex | 372.4 |\n",
      "|   2 |   Age_grp | 250.6 |\n",
      "|   3 |  Name_len | 110.4 |\n",
      "|   4 |    Pclass | 106.6 |\n",
      "|   5 | Cabin_cat |  84.8 |\n",
      "|   6 |      Fare |  63.0 |\n",
      "|   7 |  Fam_size |  59.1 |\n",
      "|   8 |     Title |  34.6 |\n",
      "|   9 |  Embarked |  25.7 |\n",
      "|  10 |     Parch |   6.0 |\n",
      "|  11 |       Age |   5.0 |\n",
      "|  12 |     SibSp |   1.1 |\n",
      "|  13 | Fam_count |   0.2 |\n",
      "+-----+-----------+-------+\n"
     ]
    }
   ],
   "source": [
    "1\n",
    "# Except \"Name\", \"Ticket\" and \"Cabin\" consider all remaining features.\n",
    "cns = [\n",
    "    \"Pclass\",\n",
    "    \"Name_len\",\n",
    "    \"Title\",\n",
    "    \"Sex\",\n",
    "    \"Age\",\n",
    "    \"Age_grp\",\n",
    "    \"SibSp\",\n",
    "    \"Parch\",\n",
    "    \"Fam_count\",\n",
    "    \"Fam_size\",\n",
    "    \"Fare\",\n",
    "    \"Cabin_cat\",\n",
    "    \"Embarked\",\n",
    "]\n",
    "\n",
    "X = en_df[cns]\n",
    "y = en_df[\"Survived\"]\n",
    "\n",
    "best_k_features(X, y)"
   ]
  }
 ],
 "metadata": {
  "colab": {
   "authorship_tag": "ABX9TyMVVe/PW8Eq2CLzCElx4fGo",
   "mount_file_id": "1wg3tqdQFQZ5eln7t13z1AqSugRML3Pm7",
   "provenance": []
  },
  "kernelspec": {
   "display_name": "Python 3",
   "language": "python",
   "name": "python3"
  },
  "language_info": {
   "codemirror_mode": {
    "name": "ipython",
    "version": 3
   },
   "file_extension": ".py",
   "mimetype": "text/x-python",
   "name": "python",
   "nbconvert_exporter": "python",
   "pygments_lexer": "ipython3",
   "version": "3.7.4"
  }
 },
 "nbformat": 4,
 "nbformat_minor": 1
}
