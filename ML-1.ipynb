{
 "cells": [
  {
   "cell_type": "code",
   "execution_count": null,
   "metadata": {
    "id": "A5WdKOX0J56u"
   },
   "outputs": [],
   "source": []
  },
  {
   "cell_type": "markdown",
   "metadata": {
    "id": "ShrkqK-YM3P-"
   },
   "source": [
    "Assignment-6"
   ]
  },
  {
   "cell_type": "code",
   "execution_count": 1,
   "metadata": {
    "executionInfo": {
     "elapsed": 1701,
     "status": "ok",
     "timestamp": 1669031087489,
     "user": {
      "displayName": "Avinash Tatar",
      "userId": "17244541308253616955"
     },
     "user_tz": -330
    },
    "id": "4w_Av5gkM76u"
   },
   "outputs": [],
   "source": [
    "import matplotlib.pyplot as plt\n",
    "import numpy as np\n",
    "import pandas as pd"
   ]
  },
  {
   "cell_type": "code",
   "execution_count": 2,
   "metadata": {
    "colab": {
     "base_uri": "https://localhost:8080/",
     "height": 206
    },
    "executionInfo": {
     "elapsed": 27,
     "status": "ok",
     "timestamp": 1669031087491,
     "user": {
      "displayName": "Avinash Tatar",
      "userId": "17244541308253616955"
     },
     "user_tz": -330
    },
    "id": "NxL4X_DLM-oH",
    "outputId": "22f3ddef-fe84-45e6-e595-20011301ef73"
   },
   "outputs": [
    {
     "data": {
      "text/html": [
       "\n",
       "  <div id=\"df-e1f38f52-358d-4788-b5d6-17a250718711\">\n",
       "    <div class=\"colab-df-container\">\n",
       "      <div>\n",
       "<style scoped>\n",
       "    .dataframe tbody tr th:only-of-type {\n",
       "        vertical-align: middle;\n",
       "    }\n",
       "\n",
       "    .dataframe tbody tr th {\n",
       "        vertical-align: top;\n",
       "    }\n",
       "\n",
       "    .dataframe thead th {\n",
       "        text-align: right;\n",
       "    }\n",
       "</style>\n",
       "<table border=\"1\" class=\"dataframe\">\n",
       "  <thead>\n",
       "    <tr style=\"text-align: right;\">\n",
       "      <th></th>\n",
       "      <th>Unnamed: 0</th>\n",
       "      <th>key</th>\n",
       "      <th>fare_amount</th>\n",
       "      <th>pickup_datetime</th>\n",
       "      <th>pickup_longitude</th>\n",
       "      <th>pickup_latitude</th>\n",
       "      <th>dropoff_longitude</th>\n",
       "      <th>dropoff_latitude</th>\n",
       "      <th>passenger_count</th>\n",
       "    </tr>\n",
       "  </thead>\n",
       "  <tbody>\n",
       "    <tr>\n",
       "      <th>0</th>\n",
       "      <td>24238194</td>\n",
       "      <td>2015-05-07 19:52:06.0000003</td>\n",
       "      <td>7.5</td>\n",
       "      <td>2015-05-07 19:52:06 UTC</td>\n",
       "      <td>-73.999817</td>\n",
       "      <td>40.738354</td>\n",
       "      <td>-73.999512</td>\n",
       "      <td>40.723217</td>\n",
       "      <td>1</td>\n",
       "    </tr>\n",
       "    <tr>\n",
       "      <th>1</th>\n",
       "      <td>27835199</td>\n",
       "      <td>2009-07-17 20:04:56.0000002</td>\n",
       "      <td>7.7</td>\n",
       "      <td>2009-07-17 20:04:56 UTC</td>\n",
       "      <td>-73.994355</td>\n",
       "      <td>40.728225</td>\n",
       "      <td>-73.994710</td>\n",
       "      <td>40.750325</td>\n",
       "      <td>1</td>\n",
       "    </tr>\n",
       "    <tr>\n",
       "      <th>2</th>\n",
       "      <td>44984355</td>\n",
       "      <td>2009-08-24 21:45:00.00000061</td>\n",
       "      <td>12.9</td>\n",
       "      <td>2009-08-24 21:45:00 UTC</td>\n",
       "      <td>-74.005043</td>\n",
       "      <td>40.740770</td>\n",
       "      <td>-73.962565</td>\n",
       "      <td>40.772647</td>\n",
       "      <td>1</td>\n",
       "    </tr>\n",
       "    <tr>\n",
       "      <th>3</th>\n",
       "      <td>25894730</td>\n",
       "      <td>2009-06-26 08:22:21.0000001</td>\n",
       "      <td>5.3</td>\n",
       "      <td>2009-06-26 08:22:21 UTC</td>\n",
       "      <td>-73.976124</td>\n",
       "      <td>40.790844</td>\n",
       "      <td>-73.965316</td>\n",
       "      <td>40.803349</td>\n",
       "      <td>3</td>\n",
       "    </tr>\n",
       "    <tr>\n",
       "      <th>4</th>\n",
       "      <td>17610152</td>\n",
       "      <td>2014-08-28 17:47:00.000000188</td>\n",
       "      <td>16.0</td>\n",
       "      <td>2014-08-28 17:47:00 UTC</td>\n",
       "      <td>-73.925023</td>\n",
       "      <td>40.744085</td>\n",
       "      <td>-73.973082</td>\n",
       "      <td>40.761247</td>\n",
       "      <td>5</td>\n",
       "    </tr>\n",
       "  </tbody>\n",
       "</table>\n",
       "</div>\n",
       "      <button class=\"colab-df-convert\" onclick=\"convertToInteractive('df-e1f38f52-358d-4788-b5d6-17a250718711')\"\n",
       "              title=\"Convert this dataframe to an interactive table.\"\n",
       "              style=\"display:none;\">\n",
       "        \n",
       "  <svg xmlns=\"http://www.w3.org/2000/svg\" height=\"24px\"viewBox=\"0 0 24 24\"\n",
       "       width=\"24px\">\n",
       "    <path d=\"M0 0h24v24H0V0z\" fill=\"none\"/>\n",
       "    <path d=\"M18.56 5.44l.94 2.06.94-2.06 2.06-.94-2.06-.94-.94-2.06-.94 2.06-2.06.94zm-11 1L8.5 8.5l.94-2.06 2.06-.94-2.06-.94L8.5 2.5l-.94 2.06-2.06.94zm10 10l.94 2.06.94-2.06 2.06-.94-2.06-.94-.94-2.06-.94 2.06-2.06.94z\"/><path d=\"M17.41 7.96l-1.37-1.37c-.4-.4-.92-.59-1.43-.59-.52 0-1.04.2-1.43.59L10.3 9.45l-7.72 7.72c-.78.78-.78 2.05 0 2.83L4 21.41c.39.39.9.59 1.41.59.51 0 1.02-.2 1.41-.59l7.78-7.78 2.81-2.81c.8-.78.8-2.07 0-2.86zM5.41 20L4 18.59l7.72-7.72 1.47 1.35L5.41 20z\"/>\n",
       "  </svg>\n",
       "      </button>\n",
       "      \n",
       "  <style>\n",
       "    .colab-df-container {\n",
       "      display:flex;\n",
       "      flex-wrap:wrap;\n",
       "      gap: 12px;\n",
       "    }\n",
       "\n",
       "    .colab-df-convert {\n",
       "      background-color: #E8F0FE;\n",
       "      border: none;\n",
       "      border-radius: 50%;\n",
       "      cursor: pointer;\n",
       "      display: none;\n",
       "      fill: #1967D2;\n",
       "      height: 32px;\n",
       "      padding: 0 0 0 0;\n",
       "      width: 32px;\n",
       "    }\n",
       "\n",
       "    .colab-df-convert:hover {\n",
       "      background-color: #E2EBFA;\n",
       "      box-shadow: 0px 1px 2px rgba(60, 64, 67, 0.3), 0px 1px 3px 1px rgba(60, 64, 67, 0.15);\n",
       "      fill: #174EA6;\n",
       "    }\n",
       "\n",
       "    [theme=dark] .colab-df-convert {\n",
       "      background-color: #3B4455;\n",
       "      fill: #D2E3FC;\n",
       "    }\n",
       "\n",
       "    [theme=dark] .colab-df-convert:hover {\n",
       "      background-color: #434B5C;\n",
       "      box-shadow: 0px 1px 3px 1px rgba(0, 0, 0, 0.15);\n",
       "      filter: drop-shadow(0px 1px 2px rgba(0, 0, 0, 0.3));\n",
       "      fill: #FFFFFF;\n",
       "    }\n",
       "  </style>\n",
       "\n",
       "      <script>\n",
       "        const buttonEl =\n",
       "          document.querySelector('#df-e1f38f52-358d-4788-b5d6-17a250718711 button.colab-df-convert');\n",
       "        buttonEl.style.display =\n",
       "          google.colab.kernel.accessAllowed ? 'block' : 'none';\n",
       "\n",
       "        async function convertToInteractive(key) {\n",
       "          const element = document.querySelector('#df-e1f38f52-358d-4788-b5d6-17a250718711');\n",
       "          const dataTable =\n",
       "            await google.colab.kernel.invokeFunction('convertToInteractive',\n",
       "                                                     [key], {});\n",
       "          if (!dataTable) return;\n",
       "\n",
       "          const docLinkHtml = 'Like what you see? Visit the ' +\n",
       "            '<a target=\"_blank\" href=https://colab.research.google.com/notebooks/data_table.ipynb>data table notebook</a>'\n",
       "            + ' to learn more about interactive tables.';\n",
       "          element.innerHTML = '';\n",
       "          dataTable['output_type'] = 'display_data';\n",
       "          await google.colab.output.renderOutput(dataTable, element);\n",
       "          const docLink = document.createElement('div');\n",
       "          docLink.innerHTML = docLinkHtml;\n",
       "          element.appendChild(docLink);\n",
       "        }\n",
       "      </script>\n",
       "    </div>\n",
       "  </div>\n",
       "  "
      ],
      "text/plain": [
       "   Unnamed: 0                            key  fare_amount  \\\n",
       "0    24238194    2015-05-07 19:52:06.0000003          7.5   \n",
       "1    27835199    2009-07-17 20:04:56.0000002          7.7   \n",
       "2    44984355   2009-08-24 21:45:00.00000061         12.9   \n",
       "3    25894730    2009-06-26 08:22:21.0000001          5.3   \n",
       "4    17610152  2014-08-28 17:47:00.000000188         16.0   \n",
       "\n",
       "           pickup_datetime  pickup_longitude  pickup_latitude  \\\n",
       "0  2015-05-07 19:52:06 UTC        -73.999817        40.738354   \n",
       "1  2009-07-17 20:04:56 UTC        -73.994355        40.728225   \n",
       "2  2009-08-24 21:45:00 UTC        -74.005043        40.740770   \n",
       "3  2009-06-26 08:22:21 UTC        -73.976124        40.790844   \n",
       "4  2014-08-28 17:47:00 UTC        -73.925023        40.744085   \n",
       "\n",
       "   dropoff_longitude  dropoff_latitude  passenger_count  \n",
       "0         -73.999512         40.723217                1  \n",
       "1         -73.994710         40.750325                1  \n",
       "2         -73.962565         40.772647                1  \n",
       "3         -73.965316         40.803349                3  \n",
       "4         -73.973082         40.761247                5  "
      ]
     },
     "execution_count": 2,
     "metadata": {},
     "output_type": "execute_result"
    }
   ],
   "source": [
    "uber = pd.read_csv('/content/drive/MyDrive/Assignment/uber.csv')\n",
    "\n",
    "uber.head()"
   ]
  },
  {
   "cell_type": "code",
   "execution_count": null,
   "metadata": {
    "colab": {
     "base_uri": "https://localhost:8080/"
    },
    "executionInfo": {
     "elapsed": 488,
     "status": "ok",
     "timestamp": 1667927319046,
     "user": {
      "displayName": "Avinash Tatar",
      "userId": "17244541308253616955"
     },
     "user_tz": -330
    },
    "id": "qzH6zE7tNmXS",
    "outputId": "af840ee5-010e-4595-9eea-75f20099a48c"
   },
   "outputs": [
    {
     "name": "stdout",
     "output_type": "stream",
     "text": [
      "<class 'pandas.core.frame.DataFrame'>\n",
      "RangeIndex: 200000 entries, 0 to 199999\n",
      "Data columns (total 9 columns):\n",
      " #   Column             Non-Null Count   Dtype  \n",
      "---  ------             --------------   -----  \n",
      " 0   Unnamed: 0         200000 non-null  int64  \n",
      " 1   key                200000 non-null  object \n",
      " 2   fare_amount        200000 non-null  float64\n",
      " 3   pickup_datetime    200000 non-null  object \n",
      " 4   pickup_longitude   200000 non-null  float64\n",
      " 5   pickup_latitude    200000 non-null  float64\n",
      " 6   dropoff_longitude  199999 non-null  float64\n",
      " 7   dropoff_latitude   199999 non-null  float64\n",
      " 8   passenger_count    200000 non-null  int64  \n",
      "dtypes: float64(5), int64(2), object(2)\n",
      "memory usage: 13.7+ MB\n"
     ]
    }
   ],
   "source": [
    "uber.info()"
   ]
  },
  {
   "cell_type": "code",
   "execution_count": null,
   "metadata": {
    "colab": {
     "base_uri": "https://localhost:8080/"
    },
    "executionInfo": {
     "elapsed": 397,
     "status": "ok",
     "timestamp": 1667927322994,
     "user": {
      "displayName": "Avinash Tatar",
      "userId": "17244541308253616955"
     },
     "user_tz": -330
    },
    "id": "x0AYnU7rNmkr",
    "outputId": "2665567a-ed16-4046-d42e-0fe82a091a3e"
   },
   "outputs": [
    {
     "data": {
      "text/plain": [
       "Unnamed: 0           0\n",
       "key                  0\n",
       "fare_amount          0\n",
       "pickup_datetime      0\n",
       "pickup_longitude     0\n",
       "pickup_latitude      0\n",
       "dropoff_longitude    1\n",
       "dropoff_latitude     1\n",
       "passenger_count      0\n",
       "dtype: int64"
      ]
     },
     "execution_count": 8,
     "metadata": {},
     "output_type": "execute_result"
    }
   ],
   "source": [
    "uber.isnull().sum()"
   ]
  },
  {
   "cell_type": "code",
   "execution_count": null,
   "metadata": {
    "id": "lIGqYAYwNm0q"
   },
   "outputs": [],
   "source": [
    "uber_2 = uber.drop(['Unnamed: 0','key'],axis=1)\n",
    "uber_2.dropna(axis=0,inplace=True)"
   ]
  },
  {
   "cell_type": "code",
   "execution_count": null,
   "metadata": {
    "colab": {
     "base_uri": "https://localhost:8080/"
    },
    "executionInfo": {
     "elapsed": 723,
     "status": "ok",
     "timestamp": 1667927398971,
     "user": {
      "displayName": "Avinash Tatar",
      "userId": "17244541308253616955"
     },
     "user_tz": -330
    },
    "id": "m3UDMzSoN8zm",
    "outputId": "fefcd814-f864-4bf0-f1b6-a6ebae35428e"
   },
   "outputs": [
    {
     "data": {
      "text/plain": [
       "fare_amount          0\n",
       "pickup_datetime      0\n",
       "pickup_longitude     0\n",
       "pickup_latitude      0\n",
       "dropoff_longitude    0\n",
       "dropoff_latitude     0\n",
       "passenger_count      0\n",
       "dtype: int64"
      ]
     },
     "execution_count": 10,
     "metadata": {},
     "output_type": "execute_result"
    }
   ],
   "source": [
    "uber_2.isnull().sum()"
   ]
  },
  {
   "cell_type": "code",
   "execution_count": null,
   "metadata": {
    "id": "STAuRZJsN9Bd"
   },
   "outputs": [],
   "source": [
    "def haversine (lon_1, lon_2, lat_1, lat_2):\n",
    "    \n",
    "    lon_1, lon_2, lat_1, lat_2 = map(np.radians, [lon_1, lon_2, lat_1, lat_2])  #Degrees to Radians\n",
    "    \n",
    "    \n",
    "    diff_lon = lon_2 - lon_1\n",
    "    diff_lat = lat_2 - lat_1\n",
    "    \n",
    "\n",
    "    km = 2 * 6371 * np.arcsin(np.sqrt(np.sin(diff_lat/2.0)**2 + \n",
    "                                      np.cos(lat_1) * np.cos(lat_2) * np.sin(diff_lon/2.0)**2))\n",
    "    \n",
    "    return km"
   ]
  },
  {
   "cell_type": "code",
   "execution_count": null,
   "metadata": {
    "id": "qBog1N_hN9MC"
   },
   "outputs": [],
   "source": [
    "uber_2['Distance']= haversine(uber_2['pickup_longitude'],uber_2['dropoff_longitude'],\n",
    "                             uber_2['pickup_latitude'],uber_2['dropoff_latitude'])\n",
    "\n",
    "uber_2['Distance'] = uber_2['Distance'].astype(float).round(2)    # Round-off Optional"
   ]
  },
  {
   "cell_type": "code",
   "execution_count": null,
   "metadata": {
    "colab": {
     "base_uri": "https://localhost:8080/",
     "height": 206
    },
    "executionInfo": {
     "elapsed": 676,
     "status": "ok",
     "timestamp": 1667927453985,
     "user": {
      "displayName": "Avinash Tatar",
      "userId": "17244541308253616955"
     },
     "user_tz": -330
    },
    "id": "wgfiUkK8OPl5",
    "outputId": "f2404b2c-0877-4817-a32e-47f6eb6eb720"
   },
   "outputs": [
    {
     "data": {
      "text/html": [
       "\n",
       "  <div id=\"df-cc747981-0063-4614-ab7c-1112f8dcf1e8\">\n",
       "    <div class=\"colab-df-container\">\n",
       "      <div>\n",
       "<style scoped>\n",
       "    .dataframe tbody tr th:only-of-type {\n",
       "        vertical-align: middle;\n",
       "    }\n",
       "\n",
       "    .dataframe tbody tr th {\n",
       "        vertical-align: top;\n",
       "    }\n",
       "\n",
       "    .dataframe thead th {\n",
       "        text-align: right;\n",
       "    }\n",
       "</style>\n",
       "<table border=\"1\" class=\"dataframe\">\n",
       "  <thead>\n",
       "    <tr style=\"text-align: right;\">\n",
       "      <th></th>\n",
       "      <th>fare_amount</th>\n",
       "      <th>pickup_datetime</th>\n",
       "      <th>pickup_longitude</th>\n",
       "      <th>pickup_latitude</th>\n",
       "      <th>dropoff_longitude</th>\n",
       "      <th>dropoff_latitude</th>\n",
       "      <th>passenger_count</th>\n",
       "      <th>Distance</th>\n",
       "    </tr>\n",
       "  </thead>\n",
       "  <tbody>\n",
       "    <tr>\n",
       "      <th>0</th>\n",
       "      <td>7.5</td>\n",
       "      <td>2015-05-07 19:52:06 UTC</td>\n",
       "      <td>-73.999817</td>\n",
       "      <td>40.738354</td>\n",
       "      <td>-73.999512</td>\n",
       "      <td>40.723217</td>\n",
       "      <td>1</td>\n",
       "      <td>1.68</td>\n",
       "    </tr>\n",
       "    <tr>\n",
       "      <th>1</th>\n",
       "      <td>7.7</td>\n",
       "      <td>2009-07-17 20:04:56 UTC</td>\n",
       "      <td>-73.994355</td>\n",
       "      <td>40.728225</td>\n",
       "      <td>-73.994710</td>\n",
       "      <td>40.750325</td>\n",
       "      <td>1</td>\n",
       "      <td>2.46</td>\n",
       "    </tr>\n",
       "    <tr>\n",
       "      <th>2</th>\n",
       "      <td>12.9</td>\n",
       "      <td>2009-08-24 21:45:00 UTC</td>\n",
       "      <td>-74.005043</td>\n",
       "      <td>40.740770</td>\n",
       "      <td>-73.962565</td>\n",
       "      <td>40.772647</td>\n",
       "      <td>1</td>\n",
       "      <td>5.04</td>\n",
       "    </tr>\n",
       "    <tr>\n",
       "      <th>3</th>\n",
       "      <td>5.3</td>\n",
       "      <td>2009-06-26 08:22:21 UTC</td>\n",
       "      <td>-73.976124</td>\n",
       "      <td>40.790844</td>\n",
       "      <td>-73.965316</td>\n",
       "      <td>40.803349</td>\n",
       "      <td>3</td>\n",
       "      <td>1.66</td>\n",
       "    </tr>\n",
       "    <tr>\n",
       "      <th>4</th>\n",
       "      <td>16.0</td>\n",
       "      <td>2014-08-28 17:47:00 UTC</td>\n",
       "      <td>-73.925023</td>\n",
       "      <td>40.744085</td>\n",
       "      <td>-73.973082</td>\n",
       "      <td>40.761247</td>\n",
       "      <td>5</td>\n",
       "      <td>4.48</td>\n",
       "    </tr>\n",
       "  </tbody>\n",
       "</table>\n",
       "</div>\n",
       "      <button class=\"colab-df-convert\" onclick=\"convertToInteractive('df-cc747981-0063-4614-ab7c-1112f8dcf1e8')\"\n",
       "              title=\"Convert this dataframe to an interactive table.\"\n",
       "              style=\"display:none;\">\n",
       "        \n",
       "  <svg xmlns=\"http://www.w3.org/2000/svg\" height=\"24px\"viewBox=\"0 0 24 24\"\n",
       "       width=\"24px\">\n",
       "    <path d=\"M0 0h24v24H0V0z\" fill=\"none\"/>\n",
       "    <path d=\"M18.56 5.44l.94 2.06.94-2.06 2.06-.94-2.06-.94-.94-2.06-.94 2.06-2.06.94zm-11 1L8.5 8.5l.94-2.06 2.06-.94-2.06-.94L8.5 2.5l-.94 2.06-2.06.94zm10 10l.94 2.06.94-2.06 2.06-.94-2.06-.94-.94-2.06-.94 2.06-2.06.94z\"/><path d=\"M17.41 7.96l-1.37-1.37c-.4-.4-.92-.59-1.43-.59-.52 0-1.04.2-1.43.59L10.3 9.45l-7.72 7.72c-.78.78-.78 2.05 0 2.83L4 21.41c.39.39.9.59 1.41.59.51 0 1.02-.2 1.41-.59l7.78-7.78 2.81-2.81c.8-.78.8-2.07 0-2.86zM5.41 20L4 18.59l7.72-7.72 1.47 1.35L5.41 20z\"/>\n",
       "  </svg>\n",
       "      </button>\n",
       "      \n",
       "  <style>\n",
       "    .colab-df-container {\n",
       "      display:flex;\n",
       "      flex-wrap:wrap;\n",
       "      gap: 12px;\n",
       "    }\n",
       "\n",
       "    .colab-df-convert {\n",
       "      background-color: #E8F0FE;\n",
       "      border: none;\n",
       "      border-radius: 50%;\n",
       "      cursor: pointer;\n",
       "      display: none;\n",
       "      fill: #1967D2;\n",
       "      height: 32px;\n",
       "      padding: 0 0 0 0;\n",
       "      width: 32px;\n",
       "    }\n",
       "\n",
       "    .colab-df-convert:hover {\n",
       "      background-color: #E2EBFA;\n",
       "      box-shadow: 0px 1px 2px rgba(60, 64, 67, 0.3), 0px 1px 3px 1px rgba(60, 64, 67, 0.15);\n",
       "      fill: #174EA6;\n",
       "    }\n",
       "\n",
       "    [theme=dark] .colab-df-convert {\n",
       "      background-color: #3B4455;\n",
       "      fill: #D2E3FC;\n",
       "    }\n",
       "\n",
       "    [theme=dark] .colab-df-convert:hover {\n",
       "      background-color: #434B5C;\n",
       "      box-shadow: 0px 1px 3px 1px rgba(0, 0, 0, 0.15);\n",
       "      filter: drop-shadow(0px 1px 2px rgba(0, 0, 0, 0.3));\n",
       "      fill: #FFFFFF;\n",
       "    }\n",
       "  </style>\n",
       "\n",
       "      <script>\n",
       "        const buttonEl =\n",
       "          document.querySelector('#df-cc747981-0063-4614-ab7c-1112f8dcf1e8 button.colab-df-convert');\n",
       "        buttonEl.style.display =\n",
       "          google.colab.kernel.accessAllowed ? 'block' : 'none';\n",
       "\n",
       "        async function convertToInteractive(key) {\n",
       "          const element = document.querySelector('#df-cc747981-0063-4614-ab7c-1112f8dcf1e8');\n",
       "          const dataTable =\n",
       "            await google.colab.kernel.invokeFunction('convertToInteractive',\n",
       "                                                     [key], {});\n",
       "          if (!dataTable) return;\n",
       "\n",
       "          const docLinkHtml = 'Like what you see? Visit the ' +\n",
       "            '<a target=\"_blank\" href=https://colab.research.google.com/notebooks/data_table.ipynb>data table notebook</a>'\n",
       "            + ' to learn more about interactive tables.';\n",
       "          element.innerHTML = '';\n",
       "          dataTable['output_type'] = 'display_data';\n",
       "          await google.colab.output.renderOutput(dataTable, element);\n",
       "          const docLink = document.createElement('div');\n",
       "          docLink.innerHTML = docLinkHtml;\n",
       "          element.appendChild(docLink);\n",
       "        }\n",
       "      </script>\n",
       "    </div>\n",
       "  </div>\n",
       "  "
      ],
      "text/plain": [
       "   fare_amount          pickup_datetime  pickup_longitude  pickup_latitude  \\\n",
       "0          7.5  2015-05-07 19:52:06 UTC        -73.999817        40.738354   \n",
       "1          7.7  2009-07-17 20:04:56 UTC        -73.994355        40.728225   \n",
       "2         12.9  2009-08-24 21:45:00 UTC        -74.005043        40.740770   \n",
       "3          5.3  2009-06-26 08:22:21 UTC        -73.976124        40.790844   \n",
       "4         16.0  2014-08-28 17:47:00 UTC        -73.925023        40.744085   \n",
       "\n",
       "   dropoff_longitude  dropoff_latitude  passenger_count  Distance  \n",
       "0         -73.999512         40.723217                1      1.68  \n",
       "1         -73.994710         40.750325                1      2.46  \n",
       "2         -73.962565         40.772647                1      5.04  \n",
       "3         -73.965316         40.803349                3      1.66  \n",
       "4         -73.973082         40.761247                5      4.48  "
      ]
     },
     "execution_count": 13,
     "metadata": {},
     "output_type": "execute_result"
    }
   ],
   "source": [
    "uber_2.head()"
   ]
  },
  {
   "cell_type": "code",
   "execution_count": null,
   "metadata": {
    "colab": {
     "base_uri": "https://localhost:8080/",
     "height": 296
    },
    "executionInfo": {
     "elapsed": 1157,
     "status": "ok",
     "timestamp": 1667927458749,
     "user": {
      "displayName": "Avinash Tatar",
      "userId": "17244541308253616955"
     },
     "user_tz": -330
    },
    "id": "pwO6f39VOPuZ",
    "outputId": "5ce65a39-a3b6-4e3d-f6c6-c328ce66d042"
   },
   "outputs": [
    {
     "data": {
      "text/plain": [
       "Text(0, 0.5, 'fare_amount')"
      ]
     },
     "execution_count": 14,
     "metadata": {},
     "output_type": "execute_result"
    },
    {
     "data": {
      "image/png": "[encoded data removed]",
      "text/plain": [
       "<Figure size 432x288 with 1 Axes>"
      ]
     },
     "metadata": {
      "needs_background": "light"
     },
     "output_type": "display_data"
    }
   ],
   "source": [
    "plt.scatter(uber_2['Distance'], uber_2['fare_amount'])\n",
    "plt.xlabel(\"Distance\")\n",
    "plt.ylabel(\"fare_amount\")"
   ]
  },
  {
   "cell_type": "code",
   "execution_count": null,
   "metadata": {
    "id": "dE_39VCGOP1s"
   },
   "outputs": [],
   "source": [
    "uber_2.drop(uber_2[uber_2['Distance'] > 60].index, inplace = True)\n",
    "uber_2.drop(uber_2[uber_2['Distance'] == 0].index, inplace = True)\n",
    "uber_2.drop(uber_2[uber_2['fare_amount'] == 0].index, inplace = True)\n",
    "uber_2.drop(uber_2[uber_2['fare_amount'] < 0].index, inplace = True)"
   ]
  },
  {
   "cell_type": "code",
   "execution_count": null,
   "metadata": {
    "id": "5Y0VmHWgOa8z"
   },
   "outputs": [],
   "source": [
    "uber_2.drop(uber_2[(uber_2['fare_amount']>100) & (uber_2['Distance']<1)].index, inplace = True )\n",
    "uber_2.drop(uber_2[(uber_2['fare_amount']<100) & (uber_2['Distance']>100)].index, inplace = True )"
   ]
  },
  {
   "cell_type": "code",
   "execution_count": null,
   "metadata": {
    "colab": {
     "base_uri": "https://localhost:8080/"
    },
    "executionInfo": {
     "elapsed": 13,
     "status": "ok",
     "timestamp": 1667927505147,
     "user": {
      "displayName": "Avinash Tatar",
      "userId": "17244541308253616955"
     },
     "user_tz": -330
    },
    "id": "2hQakfz-ObKd",
    "outputId": "5ff9d624-87e7-448f-a41f-7bffb9703842"
   },
   "outputs": [
    {
     "name": "stdout",
     "output_type": "stream",
     "text": [
      "<class 'pandas.core.frame.DataFrame'>\n",
      "Int64Index: 193490 entries, 0 to 199999\n",
      "Data columns (total 8 columns):\n",
      " #   Column             Non-Null Count   Dtype  \n",
      "---  ------             --------------   -----  \n",
      " 0   fare_amount        193490 non-null  float64\n",
      " 1   pickup_datetime    193490 non-null  object \n",
      " 2   pickup_longitude   193490 non-null  float64\n",
      " 3   pickup_latitude    193490 non-null  float64\n",
      " 4   dropoff_longitude  193490 non-null  float64\n",
      " 5   dropoff_latitude   193490 non-null  float64\n",
      " 6   passenger_count    193490 non-null  int64  \n",
      " 7   Distance           193490 non-null  float64\n",
      "dtypes: float64(6), int64(1), object(1)\n",
      "memory usage: 13.3+ MB\n"
     ]
    }
   ],
   "source": [
    "uber_2.info()"
   ]
  },
  {
   "cell_type": "code",
   "execution_count": null,
   "metadata": {
    "colab": {
     "base_uri": "https://localhost:8080/",
     "height": 296
    },
    "executionInfo": {
     "elapsed": 3308,
     "status": "ok",
     "timestamp": 1667927505146,
     "user": {
      "displayName": "Avinash Tatar",
      "userId": "17244541308253616955"
     },
     "user_tz": -330
    },
    "id": "GgvzvBFkObT7",
    "outputId": "f86e6b43-56f7-4d8e-a1c8-b677b3007fda"
   },
   "outputs": [
    {
     "data": {
      "text/plain": [
       "Text(0, 0.5, 'fare_amount')"
      ]
     },
     "execution_count": 16,
     "metadata": {},
     "output_type": "execute_result"
    },
    {
     "data": {
      "image/png": "[encoded data removed]",
      "text/plain": [
       "<Figure size 432x288 with 1 Axes>"
      ]
     },
     "metadata": {
      "needs_background": "light"
     },
     "output_type": "display_data"
    }
   ],
   "source": [
    "plt.scatter(uber_2['Distance'], uber_2['fare_amount'])\n",
    "plt.xlabel(\"Distance\")\n",
    "plt.ylabel(\"fare_amount\")"
   ]
  },
  {
   "cell_type": "code",
   "execution_count": null,
   "metadata": {
    "id": "GyIIMHnJOnZ2"
   },
   "outputs": [],
   "source": [
    "uber_2['pickup_datetime'] = pd.to_datetime(uber_2['pickup_datetime'])\n",
    "\n",
    "uber_2['Year'] = uber_2['pickup_datetime'].apply(lambda time: time.year)\n",
    "uber_2['Month'] = uber_2['pickup_datetime'].apply(lambda time: time.month)\n",
    "uber_2['Day'] = uber_2['pickup_datetime'].apply(lambda time: time.day)\n",
    "uber_2['Day of Week'] = uber_2['pickup_datetime'].apply(lambda time: time.dayofweek)\n",
    "uber_2['Day of Week_num'] = uber_2['pickup_datetime'].apply(lambda time: time.dayofweek)\n",
    "uber_2['Hour'] = uber_2['pickup_datetime'].apply(lambda time: time.hour)\n",
    "\n",
    "day_map = {0:'Mon',1:'Tue',2:'Wed',3:'Thu',4:'Fri',5:'Sat',6:'Sun'}\n",
    "uber_2['Day of Week'] = uber_2['Day of Week'].map(day_map)\n",
    "\n",
    "uber_2['counter'] = 1"
   ]
  },
  {
   "cell_type": "code",
   "execution_count": null,
   "metadata": {
    "id": "YwhFmjYnOnpi"
   },
   "outputs": [],
   "source": [
    "uber_2['pickup'] = uber_2['pickup_latitude'].astype(str) + \",\" + uber_2['pickup_longitude'].astype(str)   \n",
    "uber_2['drop off'] = uber_2['dropoff_latitude'].astype(str) + \",\" + uber_2['dropoff_longitude'].astype(str)"
   ]
  },
  {
   "cell_type": "code",
   "execution_count": null,
   "metadata": {
    "colab": {
     "base_uri": "https://localhost:8080/",
     "height": 392
    },
    "executionInfo": {
     "elapsed": 21,
     "status": "ok",
     "timestamp": 1667927677879,
     "user": {
      "displayName": "Avinash Tatar",
      "userId": "17244541308253616955"
     },
     "user_tz": -330
    },
    "id": "JYhpjtmhOnyX",
    "outputId": "985e5672-8f71-4be4-f198-10e9745511a2"
   },
   "outputs": [
    {
     "data": {
      "text/html": [
       "\n",
       "  <div id=\"df-1c6afb8a-1a40-451d-b868-6a53eeb1a234\">\n",
       "    <div class=\"colab-df-container\">\n",
       "      <div>\n",
       "<style scoped>\n",
       "    .dataframe tbody tr th:only-of-type {\n",
       "        vertical-align: middle;\n",
       "    }\n",
       "\n",
       "    .dataframe tbody tr th {\n",
       "        vertical-align: top;\n",
       "    }\n",
       "\n",
       "    .dataframe thead th {\n",
       "        text-align: right;\n",
       "    }\n",
       "</style>\n",
       "<table border=\"1\" class=\"dataframe\">\n",
       "  <thead>\n",
       "    <tr style=\"text-align: right;\">\n",
       "      <th></th>\n",
       "      <th>fare_amount</th>\n",
       "      <th>pickup_datetime</th>\n",
       "      <th>pickup_longitude</th>\n",
       "      <th>pickup_latitude</th>\n",
       "      <th>dropoff_longitude</th>\n",
       "      <th>dropoff_latitude</th>\n",
       "      <th>passenger_count</th>\n",
       "      <th>Distance</th>\n",
       "      <th>Year</th>\n",
       "      <th>Month</th>\n",
       "      <th>Day</th>\n",
       "      <th>Day of Week</th>\n",
       "      <th>Day of Week_num</th>\n",
       "      <th>Hour</th>\n",
       "      <th>counter</th>\n",
       "      <th>pickup</th>\n",
       "      <th>drop off</th>\n",
       "    </tr>\n",
       "  </thead>\n",
       "  <tbody>\n",
       "    <tr>\n",
       "      <th>0</th>\n",
       "      <td>7.5</td>\n",
       "      <td>2015-05-07 19:52:06+00:00</td>\n",
       "      <td>-73.999817</td>\n",
       "      <td>40.738354</td>\n",
       "      <td>-73.999512</td>\n",
       "      <td>40.723217</td>\n",
       "      <td>1</td>\n",
       "      <td>1.68</td>\n",
       "      <td>2015</td>\n",
       "      <td>5</td>\n",
       "      <td>7</td>\n",
       "      <td>Thu</td>\n",
       "      <td>3</td>\n",
       "      <td>19</td>\n",
       "      <td>1</td>\n",
       "      <td>40.73835372924805,-73.99981689453125</td>\n",
       "      <td>40.72321701049805,-73.99951171875</td>\n",
       "    </tr>\n",
       "    <tr>\n",
       "      <th>1</th>\n",
       "      <td>7.7</td>\n",
       "      <td>2009-07-17 20:04:56+00:00</td>\n",
       "      <td>-73.994355</td>\n",
       "      <td>40.728225</td>\n",
       "      <td>-73.994710</td>\n",
       "      <td>40.750325</td>\n",
       "      <td>1</td>\n",
       "      <td>2.46</td>\n",
       "      <td>2009</td>\n",
       "      <td>7</td>\n",
       "      <td>17</td>\n",
       "      <td>Fri</td>\n",
       "      <td>4</td>\n",
       "      <td>20</td>\n",
       "      <td>1</td>\n",
       "      <td>40.728225,-73.994355</td>\n",
       "      <td>40.750325,-73.99471</td>\n",
       "    </tr>\n",
       "    <tr>\n",
       "      <th>2</th>\n",
       "      <td>12.9</td>\n",
       "      <td>2009-08-24 21:45:00+00:00</td>\n",
       "      <td>-74.005043</td>\n",
       "      <td>40.740770</td>\n",
       "      <td>-73.962565</td>\n",
       "      <td>40.772647</td>\n",
       "      <td>1</td>\n",
       "      <td>5.04</td>\n",
       "      <td>2009</td>\n",
       "      <td>8</td>\n",
       "      <td>24</td>\n",
       "      <td>Mon</td>\n",
       "      <td>0</td>\n",
       "      <td>21</td>\n",
       "      <td>1</td>\n",
       "      <td>40.74077,-74.005043</td>\n",
       "      <td>40.772647,-73.962565</td>\n",
       "    </tr>\n",
       "    <tr>\n",
       "      <th>3</th>\n",
       "      <td>5.3</td>\n",
       "      <td>2009-06-26 08:22:21+00:00</td>\n",
       "      <td>-73.976124</td>\n",
       "      <td>40.790844</td>\n",
       "      <td>-73.965316</td>\n",
       "      <td>40.803349</td>\n",
       "      <td>3</td>\n",
       "      <td>1.66</td>\n",
       "      <td>2009</td>\n",
       "      <td>6</td>\n",
       "      <td>26</td>\n",
       "      <td>Fri</td>\n",
       "      <td>4</td>\n",
       "      <td>8</td>\n",
       "      <td>1</td>\n",
       "      <td>40.790844,-73.976124</td>\n",
       "      <td>40.803349,-73.965316</td>\n",
       "    </tr>\n",
       "    <tr>\n",
       "      <th>4</th>\n",
       "      <td>16.0</td>\n",
       "      <td>2014-08-28 17:47:00+00:00</td>\n",
       "      <td>-73.925023</td>\n",
       "      <td>40.744085</td>\n",
       "      <td>-73.973082</td>\n",
       "      <td>40.761247</td>\n",
       "      <td>5</td>\n",
       "      <td>4.48</td>\n",
       "      <td>2014</td>\n",
       "      <td>8</td>\n",
       "      <td>28</td>\n",
       "      <td>Thu</td>\n",
       "      <td>3</td>\n",
       "      <td>17</td>\n",
       "      <td>1</td>\n",
       "      <td>40.744085,-73.925023</td>\n",
       "      <td>40.761247,-73.97308199999999</td>\n",
       "    </tr>\n",
       "  </tbody>\n",
       "</table>\n",
       "</div>\n",
       "      <button class=\"colab-df-convert\" onclick=\"convertToInteractive('df-1c6afb8a-1a40-451d-b868-6a53eeb1a234')\"\n",
       "              title=\"Convert this dataframe to an interactive table.\"\n",
       "              style=\"display:none;\">\n",
       "        \n",
       "  <svg xmlns=\"http://www.w3.org/2000/svg\" height=\"24px\"viewBox=\"0 0 24 24\"\n",
       "       width=\"24px\">\n",
       "    <path d=\"M0 0h24v24H0V0z\" fill=\"none\"/>\n",
       "    <path d=\"M18.56 5.44l.94 2.06.94-2.06 2.06-.94-2.06-.94-.94-2.06-.94 2.06-2.06.94zm-11 1L8.5 8.5l.94-2.06 2.06-.94-2.06-.94L8.5 2.5l-.94 2.06-2.06.94zm10 10l.94 2.06.94-2.06 2.06-.94-2.06-.94-.94-2.06-.94 2.06-2.06.94z\"/><path d=\"M17.41 7.96l-1.37-1.37c-.4-.4-.92-.59-1.43-.59-.52 0-1.04.2-1.43.59L10.3 9.45l-7.72 7.72c-.78.78-.78 2.05 0 2.83L4 21.41c.39.39.9.59 1.41.59.51 0 1.02-.2 1.41-.59l7.78-7.78 2.81-2.81c.8-.78.8-2.07 0-2.86zM5.41 20L4 18.59l7.72-7.72 1.47 1.35L5.41 20z\"/>\n",
       "  </svg>\n",
       "      </button>\n",
       "      \n",
       "  <style>\n",
       "    .colab-df-container {\n",
       "      display:flex;\n",
       "      flex-wrap:wrap;\n",
       "      gap: 12px;\n",
       "    }\n",
       "\n",
       "    .colab-df-convert {\n",
       "      background-color: #E8F0FE;\n",
       "      border: none;\n",
       "      border-radius: 50%;\n",
       "      cursor: pointer;\n",
       "      display: none;\n",
       "      fill: #1967D2;\n",
       "      height: 32px;\n",
       "      padding: 0 0 0 0;\n",
       "      width: 32px;\n",
       "    }\n",
       "\n",
       "    .colab-df-convert:hover {\n",
       "      background-color: #E2EBFA;\n",
       "      box-shadow: 0px 1px 2px rgba(60, 64, 67, 0.3), 0px 1px 3px 1px rgba(60, 64, 67, 0.15);\n",
       "      fill: #174EA6;\n",
       "    }\n",
       "\n",
       "    [theme=dark] .colab-df-convert {\n",
       "      background-color: #3B4455;\n",
       "      fill: #D2E3FC;\n",
       "    }\n",
       "\n",
       "    [theme=dark] .colab-df-convert:hover {\n",
       "      background-color: #434B5C;\n",
       "      box-shadow: 0px 1px 3px 1px rgba(0, 0, 0, 0.15);\n",
       "      filter: drop-shadow(0px 1px 2px rgba(0, 0, 0, 0.3));\n",
       "      fill: #FFFFFF;\n",
       "    }\n",
       "  </style>\n",
       "\n",
       "      <script>\n",
       "        const buttonEl =\n",
       "          document.querySelector('#df-1c6afb8a-1a40-451d-b868-6a53eeb1a234 button.colab-df-convert');\n",
       "        buttonEl.style.display =\n",
       "          google.colab.kernel.accessAllowed ? 'block' : 'none';\n",
       "\n",
       "        async function convertToInteractive(key) {\n",
       "          const element = document.querySelector('#df-1c6afb8a-1a40-451d-b868-6a53eeb1a234');\n",
       "          const dataTable =\n",
       "            await google.colab.kernel.invokeFunction('convertToInteractive',\n",
       "                                                     [key], {});\n",
       "          if (!dataTable) return;\n",
       "\n",
       "          const docLinkHtml = 'Like what you see? Visit the ' +\n",
       "            '<a target=\"_blank\" href=https://colab.research.google.com/notebooks/data_table.ipynb>data table notebook</a>'\n",
       "            + ' to learn more about interactive tables.';\n",
       "          element.innerHTML = '';\n",
       "          dataTable['output_type'] = 'display_data';\n",
       "          await google.colab.output.renderOutput(dataTable, element);\n",
       "          const docLink = document.createElement('div');\n",
       "          docLink.innerHTML = docLinkHtml;\n",
       "          element.appendChild(docLink);\n",
       "        }\n",
       "      </script>\n",
       "    </div>\n",
       "  </div>\n",
       "  "
      ],
      "text/plain": [
       "   fare_amount           pickup_datetime  pickup_longitude  pickup_latitude  \\\n",
       "0          7.5 2015-05-07 19:52:06+00:00        -73.999817        40.738354   \n",
       "1          7.7 2009-07-17 20:04:56+00:00        -73.994355        40.728225   \n",
       "2         12.9 2009-08-24 21:45:00+00:00        -74.005043        40.740770   \n",
       "3          5.3 2009-06-26 08:22:21+00:00        -73.976124        40.790844   \n",
       "4         16.0 2014-08-28 17:47:00+00:00        -73.925023        40.744085   \n",
       "\n",
       "   dropoff_longitude  dropoff_latitude  passenger_count  Distance  Year  \\\n",
       "0         -73.999512         40.723217                1      1.68  2015   \n",
       "1         -73.994710         40.750325                1      2.46  2009   \n",
       "2         -73.962565         40.772647                1      5.04  2009   \n",
       "3         -73.965316         40.803349                3      1.66  2009   \n",
       "4         -73.973082         40.761247                5      4.48  2014   \n",
       "\n",
       "   Month  Day Day of Week  Day of Week_num  Hour  counter  \\\n",
       "0      5    7         Thu                3    19        1   \n",
       "1      7   17         Fri                4    20        1   \n",
       "2      8   24         Mon                0    21        1   \n",
       "3      6   26         Fri                4     8        1   \n",
       "4      8   28         Thu                3    17        1   \n",
       "\n",
       "                                 pickup                           drop off  \n",
       "0  40.73835372924805,-73.99981689453125  40.72321701049805,-73.99951171875  \n",
       "1                  40.728225,-73.994355                40.750325,-73.99471  \n",
       "2                   40.74077,-74.005043               40.772647,-73.962565  \n",
       "3                  40.790844,-73.976124               40.803349,-73.965316  \n",
       "4                  40.744085,-73.925023       40.761247,-73.97308199999999  "
      ]
     },
     "execution_count": 22,
     "metadata": {},
     "output_type": "execute_result"
    }
   ],
   "source": [
    "uber_2.head()"
   ]
  },
  {
   "cell_type": "code",
   "execution_count": null,
   "metadata": {
    "colab": {
     "base_uri": "https://localhost:8080/",
     "height": 317
    },
    "executionInfo": {
     "elapsed": 17,
     "status": "ok",
     "timestamp": 1667927677880,
     "user": {
      "displayName": "Avinash Tatar",
      "userId": "17244541308253616955"
     },
     "user_tz": -330
    },
    "id": "llWXZ5WUOxC5",
    "outputId": "a9cf10f1-8ef9-42d1-81a5-6524055cf87d"
   },
   "outputs": [
    {
     "name": "stdout",
     "output_type": "stream",
     "text": [
      "Average trips a year: \n",
      "[2009, 2010, 2011, 2012, 2013, 2014, 2015] [29674, 29094, 30712, 31138, 30365, 29065, 13433]\n"
     ]
    },
    {
     "data": {
      "text/plain": [
       "<BarContainer object of 7 artists>"
      ]
     },
     "execution_count": 23,
     "metadata": {},
     "output_type": "execute_result"
    },
    {
     "data": {
      "image/png": "[encoded data removed]",
      "text/plain": [
       "<Figure size 432x288 with 1 Axes>"
      ]
     },
     "metadata": {
      "needs_background": "light"
     },
     "output_type": "display_data"
    }
   ],
   "source": [
    "no_of_trips = []\n",
    "year = [2009, 2010, 2011, 2012, 2013, 2014, 2015]\n",
    "\n",
    "colors = ['#1f77b4', '#ff7f0e', '#2ca02c', '#d62728', '#9467bd',\n",
    "          '#8c564b', '#e377c2', '#7f7f7f', '#bcbd22', '#17becf']\n",
    "\n",
    "for i in range(2009, 2016):\n",
    "    x = uber_2.loc[uber_2['Year'] == i, 'counter'].sum()\n",
    "    no_of_trips.append(x)\n",
    "\n",
    "print(\"Average trips a year: \")\n",
    "print(year, no_of_trips)\n",
    "\n",
    "plt.bar(year, no_of_trips, color=colors)"
   ]
  },
  {
   "cell_type": "code",
   "execution_count": null,
   "metadata": {
    "colab": {
     "base_uri": "https://localhost:8080/",
     "height": 337
    },
    "executionInfo": {
     "elapsed": 794,
     "status": "ok",
     "timestamp": 1667927678664,
     "user": {
      "displayName": "Avinash Tatar",
      "userId": "17244541308253616955"
     },
     "user_tz": -330
    },
    "id": "ohgaM2HLOxOs",
    "outputId": "90f88eaf-4931-4d86-8dd6-d9ed651ce314"
   },
   "outputs": [
    {
     "name": "stdout",
     "output_type": "stream",
     "text": [
      "Average trips a Month: \n",
      "['Jan', 'Feb', 'Mar', 'Apr', 'May', 'Jun', 'Jul', 'Aug', 'Sep', 'Oct', 'Nov', 'Dec'] [17126, 16141, 18165, 18004, 18259, 17210, 14583, 13664, 14772, 15690, 14824, 15043]\n"
     ]
    },
    {
     "data": {
      "text/plain": [
       "<BarContainer object of 12 artists>"
      ]
     },
     "execution_count": 24,
     "metadata": {},
     "output_type": "execute_result"
    },
    {
     "data": {
      "image/png": "[encoded data removed]",
      "text/plain": [
       "<Figure size 432x288 with 1 Axes>"
      ]
     },
     "metadata": {
      "needs_background": "light"
     },
     "output_type": "display_data"
    }
   ],
   "source": [
    "no_of_trips = []\n",
    "month = ['Jan', 'Feb', 'Mar', 'Apr', 'May', 'Jun', 'Jul', 'Aug', 'Sep', 'Oct', 'Nov', 'Dec']\n",
    "\n",
    "colors = ['#1f77b4', '#ff7f0e', '#2ca02c', '#d62728', '#9467bd',\n",
    "          '#8c564b', '#e377c2', '#7f7f7f', '#bcbd22', '#17becf']\n",
    "\n",
    "for i in range(1, 13):\n",
    "    x = uber_2.loc[uber_2['Month'] == i, 'counter'].sum()\n",
    "    no_of_trips.append(x)\n",
    "\n",
    "print(\"Average trips a Month: \")\n",
    "print(month, no_of_trips)\n",
    "\n",
    "plt.bar(month, no_of_trips, color=colors)"
   ]
  },
  {
   "cell_type": "code",
   "execution_count": null,
   "metadata": {
    "colab": {
     "base_uri": "https://localhost:8080/",
     "height": 317
    },
    "executionInfo": {
     "elapsed": 25,
     "status": "ok",
     "timestamp": 1667927678665,
     "user": {
      "displayName": "Avinash Tatar",
      "userId": "17244541308253616955"
     },
     "user_tz": -330
    },
    "id": "I5GmsFXFOxZF",
    "outputId": "edceeac0-a98c-4ff8-c69c-c6b444056209"
   },
   "outputs": [
    {
     "name": "stdout",
     "output_type": "stream",
     "text": [
      "Average trips by Days: \n",
      "['Mon', 'Tue', 'Wed', 'Thu', 'Fri', 'Sat', 'Sun'] [24377, 27236, 28084, 29041, 29865, 29306, 25572]\n"
     ]
    },
    {
     "data": {
      "text/plain": [
       "<BarContainer object of 7 artists>"
      ]
     },
     "execution_count": 25,
     "metadata": {},
     "output_type": "execute_result"
    },
    {
     "data": {
      "image/png": "[encoded data removed]",
      "text/plain": [
       "<Figure size 432x288 with 1 Axes>"
      ]
     },
     "metadata": {
      "needs_background": "light"
     },
     "output_type": "display_data"
    }
   ],
   "source": [
    "no_of_trips = []\n",
    "day = ['Mon', 'Tue', 'Wed', 'Thu', 'Fri', 'Sat', 'Sun']\n",
    "\n",
    "colors = ['#1f77b4', '#ff7f0e', '#2ca02c', '#d62728', '#9467bd',\n",
    "          '#8c564b', '#e377c2', '#7f7f7f', '#bcbd22', '#17becf']\n",
    "\n",
    "for i in range(0, 7):\n",
    "    x = uber_2.loc[uber_2['Day of Week_num'] == i, 'counter'].sum()\n",
    "    no_of_trips.append(x)\n",
    "\n",
    "print(\"Average trips by Days: \")\n",
    "print(day, no_of_trips)\n",
    "\n",
    "plt.bar(day, no_of_trips, color=colors)"
   ]
  },
  {
   "cell_type": "code",
   "execution_count": null,
   "metadata": {
    "colab": {
     "base_uri": "https://localhost:8080/",
     "height": 312
    },
    "executionInfo": {
     "elapsed": 20,
     "status": "ok",
     "timestamp": 1667927678668,
     "user": {
      "displayName": "Avinash Tatar",
      "userId": "17244541308253616955"
     },
     "user_tz": -330
    },
    "id": "bzkI0ZWlOxhu",
    "outputId": "7d243ab0-05a2-4a82-b816-aaf53c970f76"
   },
   "outputs": [
    {
     "data": {
      "text/plain": [
       "<matplotlib.axes._subplots.AxesSubplot at 0x7f58b1a277d0>"
      ]
     },
     "execution_count": 26,
     "metadata": {},
     "output_type": "execute_result"
    },
    {
     "data": {
      "image/png": "[encoded data removed]",
      "text/plain": [
       "<Figure size 432x288 with 1 Axes>"
      ]
     },
     "metadata": {
      "needs_background": "light"
     },
     "output_type": "display_data"
    }
   ],
   "source": [
    "year_vs_trips = uber_2.groupby(['Year','Month']).agg( \n",
    "    no_of_trips = ('counter','count'),\n",
    "    Average_fair = ('fare_amount','mean'),\n",
    "    Total_fair = ('fare_amount','sum'),\n",
    "    Avg_distance = ( 'Distance', 'mean')).reset_index()\n",
    "\n",
    "year_vs_trips['avg_no_of_trips'] = year_vs_trips['no_of_trips']/30\n",
    "year_vs_trips['month_year'] = year_vs_trips['Month'].astype(str) +\", \"+ year_vs_trips['Year'].astype(str)\n",
    "\n",
    "\n",
    "year_vs_trips = year_vs_trips.reset_index()\n",
    "\n",
    "year_vs_trips.head()\n",
    "\n",
    "\n",
    "year_vs_trips.plot(kind='line',x='month_year',y='no_of_trips', xlabel='January, 2009 - June, 2015',\n",
    "    ylabel='No of Trips', title='No of trips vs Months')"
   ]
  },
  {
   "cell_type": "code",
   "execution_count": null,
   "metadata": {
    "id": "pnsk2YeAOxkp"
   },
   "outputs": [],
   "source": [
    "import seaborn as sns\n",
    "\n",
    "df_1 = uber_2[['Distance', 'Day of Week_num', 'Hour']].copy()\n",
    "\n",
    "df_h = df_1.copy()\n",
    "\n",
    "df_h = df_h.groupby(['Hour', 'Day of Week_num']).mean()\n",
    "df_h = df_h.unstack(level=0)"
   ]
  },
  {
   "cell_type": "code",
   "execution_count": null,
   "metadata": {
    "colab": {
     "base_uri": "https://localhost:8080/",
     "height": 427
    },
    "executionInfo": {
     "elapsed": 2090,
     "status": "ok",
     "timestamp": 1667927845049,
     "user": {
      "displayName": "Avinash Tatar",
      "userId": "17244541308253616955"
     },
     "user_tz": -330
    },
    "id": "DhrlMsohOxnc",
    "outputId": "41ea36ae-196a-442d-b460-235f1f9a218c"
   },
   "outputs": [
    {
     "data": {
      "image/png": "[encoded data removed]",
      "text/plain": [
       "<Figure size 1728x504 with 2 Axes>"
      ]
     },
     "metadata": {
      "needs_background": "light"
     },
     "output_type": "display_data"
    }
   ],
   "source": [
    "fig, ax = plt.subplots(figsize=(24, 7))\n",
    "sns.heatmap(df_h, cmap=\"Reds\",\n",
    "           linewidth=0.3, cbar_kws={\"shrink\": .8})\n",
    "\n",
    "xticks_labels = ['12 AM', '01 AM', '02 AM ', '03 AM ', '04 AM ', '05 AM ', '06 AM ', '07 AM ', \n",
    "                 '08 AM ', '09 AM ', '10 AM ', '11 AM ', '12 PM ', '01 PM ', '02 PM ', '03 PM ',\n",
    "                 '04 PM ', '05 PM ', '06 PM ', '07 PM ', '08 PM ', '09 PM ', '10 PM ', '11 PM ']\n",
    "\n",
    "yticks_labels = ['Mon','Tue','Wed','Thu','Fri','Sat','Sun']\n",
    "\n",
    "plt.xticks(np.arange(24) + .5, labels=xticks_labels)\n",
    "plt.yticks(np.arange(7) + .5, labels=yticks_labels)\n",
    "\n",
    "ax.xaxis.tick_top()\n",
    "\n",
    "title = 'Weekly Uber Rides'.upper()\n",
    "plt.title(title, fontdict={'fontsize': 25})\n",
    "\n",
    "plt.show()"
   ]
  },
  {
   "cell_type": "code",
   "execution_count": null,
   "metadata": {
    "colab": {
     "base_uri": "https://localhost:8080/",
     "height": 351
    },
    "executionInfo": {
     "elapsed": 2059,
     "status": "ok",
     "timestamp": 1667927787924,
     "user": {
      "displayName": "Avinash Tatar",
      "userId": "17244541308253616955"
     },
     "user_tz": -330
    },
    "id": "posPyEidOxpn",
    "outputId": "a9e79e86-c6d9-4c1f-8541-ae3ef464f59a"
   },
   "outputs": [
    {
     "name": "stderr",
     "output_type": "stream",
     "text": [
      "/usr/local/lib/python3.7/dist-packages/seaborn/distributions.py:2619: FutureWarning: `distplot` is a deprecated function and will be removed in a future version. Please adapt your code to use either `displot` (a figure-level function with similar flexibility) or `histplot` (an axes-level function for histograms).\n",
      "  warnings.warn(msg, FutureWarning)\n"
     ]
    },
    {
     "data": {
      "image/png": "[encoded data removed]",
      "text/plain": [
       "<Figure size 576x288 with 1 Axes>"
      ]
     },
     "metadata": {
      "needs_background": "light"
     },
     "output_type": "display_data"
    }
   ],
   "source": [
    "plt.figure(figsize=[8,4])\n",
    "sns.distplot(uber_2['fare_amount'], color='g',hist_kws=dict(edgecolor=\"black\", linewidth=2), bins=30)\n",
    "plt.title('Target Variable Distribution')\n",
    "plt.show()"
   ]
  },
  {
   "cell_type": "code",
   "execution_count": null,
   "metadata": {
    "colab": {
     "base_uri": "https://localhost:8080/"
    },
    "executionInfo": {
     "elapsed": 1003,
     "status": "ok",
     "timestamp": 1667927895479,
     "user": {
      "displayName": "Avinash Tatar",
      "userId": "17244541308253616955"
     },
     "user_tz": -330
    },
    "id": "9Tv2BEVVOxr1",
    "outputId": "a1b7cbdb-f401-4b60-d625-5fe802db5a4f"
   },
   "outputs": [
    {
     "name": "stdout",
     "output_type": "stream",
     "text": [
      "Mean of Distance is 3.3573488352861522 \n",
      "Median of Distance is 2.18 \n",
      "Standard Deviation of Distance is 3.5995030824386185 \n"
     ]
    }
   ],
   "source": [
    "import statistics as st\n",
    "\n",
    "print(\"Mean of Distance is % s \"\n",
    "         % (st.mean(uber_2['Distance'])))\n",
    "\n",
    "print(\"Median of Distance is % s \"\n",
    "         % (st.median(uber_2['Distance'])))\n",
    "\n",
    "print(\"Standard Deviation of Distance is % s \"\n",
    "                % (st.stdev(uber_2['Distance'])))"
   ]
  },
  {
   "cell_type": "code",
   "execution_count": null,
   "metadata": {
    "colab": {
     "base_uri": "https://localhost:8080/",
     "height": 581
    },
    "executionInfo": {
     "elapsed": 860,
     "status": "ok",
     "timestamp": 1667927903530,
     "user": {
      "displayName": "Avinash Tatar",
      "userId": "17244541308253616955"
     },
     "user_tz": -330
    },
    "id": "AZTNel2COxvD",
    "outputId": "e994a7a2-69e9-4f61-88d3-14816a0d2779"
   },
   "outputs": [
    {
     "name": "stderr",
     "output_type": "stream",
     "text": [
      "/usr/local/lib/python3.7/dist-packages/pandas/io/formats/style.py:2813: RuntimeWarning: All-NaN slice encountered\n",
      "  smin = np.nanmin(gmap) if vmin is None else vmin\n",
      "/usr/local/lib/python3.7/dist-packages/pandas/io/formats/style.py:2814: RuntimeWarning: All-NaN slice encountered\n",
      "  smax = np.nanmax(gmap) if vmax is None else vmax\n"
     ]
    },
    {
     "data": {
      "text/html": [
       "<style type=\"text/css\">\n",
       "#T_07a1b_row0_col0, #T_07a1b_row1_col1, #T_07a1b_row1_col3, #T_07a1b_row2_col2, #T_07a1b_row3_col1, #T_07a1b_row3_col3, #T_07a1b_row4_col4, #T_07a1b_row5_col5, #T_07a1b_row6_col6, #T_07a1b_row7_col7, #T_07a1b_row8_col8, #T_07a1b_row9_col9, #T_07a1b_row10_col10, #T_07a1b_row11_col11 {\n",
       "  background-color: #00441b;\n",
       "  color: #f1f1f1;\n",
       "}\n",
       "#T_07a1b_row0_col1, #T_07a1b_row7_col1, #T_07a1b_row7_col3 {\n",
       "  background-color: #64c1a2;\n",
       "  color: #000000;\n",
       "}\n",
       "#T_07a1b_row0_col2, #T_07a1b_row5_col2, #T_07a1b_row10_col2 {\n",
       "  background-color: #6dc5a9;\n",
       "  color: #000000;\n",
       "}\n",
       "#T_07a1b_row0_col3, #T_07a1b_row5_col1, #T_07a1b_row5_col3, #T_07a1b_row6_col1, #T_07a1b_row6_col3, #T_07a1b_row8_col4, #T_07a1b_row10_col1, #T_07a1b_row10_col3 {\n",
       "  background-color: #65c2a3;\n",
       "  color: #000000;\n",
       "}\n",
       "#T_07a1b_row0_col4, #T_07a1b_row5_col4, #T_07a1b_row8_col1, #T_07a1b_row8_col3, #T_07a1b_row10_col4 {\n",
       "  background-color: #68c3a6;\n",
       "  color: #000000;\n",
       "}\n",
       "#T_07a1b_row0_col5, #T_07a1b_row2_col1, #T_07a1b_row2_col3, #T_07a1b_row5_col9, #T_07a1b_row6_col9, #T_07a1b_row10_col0, #T_07a1b_row10_col9, #T_07a1b_row11_col5, #T_07a1b_row11_col9 {\n",
       "  background-color: #f4fbfc;\n",
       "  color: #000000;\n",
       "}\n",
       "#T_07a1b_row0_col6, #T_07a1b_row6_col0 {\n",
       "  background-color: #006529;\n",
       "  color: #f1f1f1;\n",
       "}\n",
       "#T_07a1b_row0_col7 {\n",
       "  background-color: #d4efec;\n",
       "  color: #000000;\n",
       "}\n",
       "#T_07a1b_row0_col8, #T_07a1b_row6_col7 {\n",
       "  background-color: #e5f5f9;\n",
       "  color: #000000;\n",
       "}\n",
       "#T_07a1b_row0_col9, #T_07a1b_row1_col5, #T_07a1b_row3_col5, #T_07a1b_row6_col5, #T_07a1b_row8_col5, #T_07a1b_row9_col0 {\n",
       "  background-color: #f5fbfc;\n",
       "  color: #000000;\n",
       "}\n",
       "#T_07a1b_row0_col10, #T_07a1b_row1_col10, #T_07a1b_row3_col10, #T_07a1b_row7_col10, #T_07a1b_row9_col8, #T_07a1b_row9_col10, #T_07a1b_row9_col11 {\n",
       "  background-color: #ebf7fa;\n",
       "  color: #000000;\n",
       "}\n",
       "#T_07a1b_row0_col11, #T_07a1b_row7_col6 {\n",
       "  background-color: #eff9fb;\n",
       "  color: #000000;\n",
       "}\n",
       "#T_07a1b_row0_col12, #T_07a1b_row1_col12, #T_07a1b_row2_col12, #T_07a1b_row3_col12, #T_07a1b_row4_col12, #T_07a1b_row5_col12, #T_07a1b_row6_col12, #T_07a1b_row7_col12, #T_07a1b_row8_col12, #T_07a1b_row9_col12, #T_07a1b_row10_col12, #T_07a1b_row11_col12, #T_07a1b_row12_col0, #T_07a1b_row12_col1, #T_07a1b_row12_col2, #T_07a1b_row12_col3, #T_07a1b_row12_col4, #T_07a1b_row12_col5, #T_07a1b_row12_col6, #T_07a1b_row12_col7, #T_07a1b_row12_col8, #T_07a1b_row12_col9, #T_07a1b_row12_col10, #T_07a1b_row12_col11, #T_07a1b_row12_col12 {\n",
       "  background-color: #000000;\n",
       "  color: #f1f1f1;\n",
       "}\n",
       "#T_07a1b_row1_col0, #T_07a1b_row3_col0, #T_07a1b_row4_col6 {\n",
       "  background-color: #f3fafc;\n",
       "  color: #000000;\n",
       "}\n",
       "#T_07a1b_row1_col2, #T_07a1b_row1_col4, #T_07a1b_row2_col5, #T_07a1b_row2_col9, #T_07a1b_row3_col2, #T_07a1b_row3_col4, #T_07a1b_row4_col1, #T_07a1b_row4_col3, #T_07a1b_row4_col5, #T_07a1b_row4_col9, #T_07a1b_row7_col8, #T_07a1b_row8_col7, #T_07a1b_row8_col9, #T_07a1b_row10_col11, #T_07a1b_row11_col0, #T_07a1b_row11_col6, #T_07a1b_row11_col10 {\n",
       "  background-color: #f7fcfd;\n",
       "  color: #000000;\n",
       "}\n",
       "#T_07a1b_row1_col6, #T_07a1b_row1_col9, #T_07a1b_row2_col6, #T_07a1b_row3_col6, #T_07a1b_row3_col9, #T_07a1b_row5_col0, #T_07a1b_row5_col6, #T_07a1b_row9_col6 {\n",
       "  background-color: #f2fafc;\n",
       "  color: #000000;\n",
       "}\n",
       "#T_07a1b_row1_col7, #T_07a1b_row2_col8, #T_07a1b_row3_col7, #T_07a1b_row4_col8, #T_07a1b_row5_col8, #T_07a1b_row5_col10, #T_07a1b_row6_col8 {\n",
       "  background-color: #e7f6f9;\n",
       "  color: #000000;\n",
       "}\n",
       "#T_07a1b_row1_col8, #T_07a1b_row3_col8, #T_07a1b_row6_col10, #T_07a1b_row10_col8, #T_07a1b_row11_col8 {\n",
       "  background-color: #e9f7fa;\n",
       "  color: #000000;\n",
       "}\n",
       "#T_07a1b_row1_col11, #T_07a1b_row3_col11, #T_07a1b_row4_col11, #T_07a1b_row7_col11 {\n",
       "  background-color: #ecf8fa;\n",
       "  color: #000000;\n",
       "}\n",
       "#T_07a1b_row2_col0, #T_07a1b_row4_col0, #T_07a1b_row7_col9 {\n",
       "  background-color: #f6fcfd;\n",
       "  color: #000000;\n",
       "}\n",
       "#T_07a1b_row2_col4, #T_07a1b_row4_col2 {\n",
       "  background-color: #004a1e;\n",
       "  color: #f1f1f1;\n",
       "}\n",
       "#T_07a1b_row2_col7, #T_07a1b_row4_col7, #T_07a1b_row5_col11, #T_07a1b_row9_col7 {\n",
       "  background-color: #eaf7fa;\n",
       "  color: #000000;\n",
       "}\n",
       "#T_07a1b_row2_col10, #T_07a1b_row4_col10, #T_07a1b_row8_col10 {\n",
       "  background-color: #edf8fb;\n",
       "  color: #000000;\n",
       "}\n",
       "#T_07a1b_row2_col11, #T_07a1b_row8_col11 {\n",
       "  background-color: #ecf8fb;\n",
       "  color: #000000;\n",
       "}\n",
       "#T_07a1b_row5_col7, #T_07a1b_row10_col7, #T_07a1b_row11_col7 {\n",
       "  background-color: #e8f6fa;\n",
       "  color: #000000;\n",
       "}\n",
       "#T_07a1b_row6_col2, #T_07a1b_row7_col4, #T_07a1b_row8_col2, #T_07a1b_row9_col4 {\n",
       "  background-color: #6ac4a7;\n",
       "  color: #000000;\n",
       "}\n",
       "#T_07a1b_row6_col4, #T_07a1b_row11_col1, #T_07a1b_row11_col3, #T_07a1b_row11_col4 {\n",
       "  background-color: #67c2a5;\n",
       "  color: #000000;\n",
       "}\n",
       "#T_07a1b_row6_col11, #T_07a1b_row10_col6 {\n",
       "  background-color: #f0f9fb;\n",
       "  color: #000000;\n",
       "}\n",
       "#T_07a1b_row7_col0 {\n",
       "  background-color: #e3f4f7;\n",
       "  color: #000000;\n",
       "}\n",
       "#T_07a1b_row7_col2, #T_07a1b_row9_col2 {\n",
       "  background-color: #6fc6aa;\n",
       "  color: #000000;\n",
       "}\n",
       "#T_07a1b_row7_col5, #T_07a1b_row9_col5 {\n",
       "  background-color: #f5fbfd;\n",
       "  color: #000000;\n",
       "}\n",
       "#T_07a1b_row8_col0, #T_07a1b_row8_col6, #T_07a1b_row10_col5 {\n",
       "  background-color: #f1fafc;\n",
       "  color: #000000;\n",
       "}\n",
       "#T_07a1b_row9_col1, #T_07a1b_row9_col3 {\n",
       "  background-color: #63c0a0;\n",
       "  color: #000000;\n",
       "}\n",
       "#T_07a1b_row11_col2 {\n",
       "  background-color: #6cc4a8;\n",
       "  color: #000000;\n",
       "}\n",
       "</style>\n",
       "<table id=\"T_07a1b_\" class=\"dataframe\">\n",
       "  <thead>\n",
       "    <tr>\n",
       "      <th class=\"blank level0\" >&nbsp;</th>\n",
       "      <th class=\"col_heading level0 col0\" >fare_amount</th>\n",
       "      <th class=\"col_heading level0 col1\" >pickup_longitude</th>\n",
       "      <th class=\"col_heading level0 col2\" >pickup_latitude</th>\n",
       "      <th class=\"col_heading level0 col3\" >dropoff_longitude</th>\n",
       "      <th class=\"col_heading level0 col4\" >dropoff_latitude</th>\n",
       "      <th class=\"col_heading level0 col5\" >passenger_count</th>\n",
       "      <th class=\"col_heading level0 col6\" >Distance</th>\n",
       "      <th class=\"col_heading level0 col7\" >Year</th>\n",
       "      <th class=\"col_heading level0 col8\" >Month</th>\n",
       "      <th class=\"col_heading level0 col9\" >Day</th>\n",
       "      <th class=\"col_heading level0 col10\" >Day of Week_num</th>\n",
       "      <th class=\"col_heading level0 col11\" >Hour</th>\n",
       "      <th class=\"col_heading level0 col12\" >counter</th>\n",
       "    </tr>\n",
       "  </thead>\n",
       "  <tbody>\n",
       "    <tr>\n",
       "      <th id=\"T_07a1b_level0_row0\" class=\"row_heading level0 row0\" >fare_amount</th>\n",
       "      <td id=\"T_07a1b_row0_col0\" class=\"data row0 col0\" >1.000000</td>\n",
       "      <td id=\"T_07a1b_row0_col1\" class=\"data row0 col1\" >0.012070</td>\n",
       "      <td id=\"T_07a1b_row0_col2\" class=\"data row0 col2\" >-0.008682</td>\n",
       "      <td id=\"T_07a1b_row0_col3\" class=\"data row0 col3\" >0.010555</td>\n",
       "      <td id=\"T_07a1b_row0_col4\" class=\"data row0 col4\" >-0.008695</td>\n",
       "      <td id=\"T_07a1b_row0_col5\" class=\"data row0 col5\" >0.013508</td>\n",
       "      <td id=\"T_07a1b_row0_col6\" class=\"data row0 col6\" >0.893050</td>\n",
       "      <td id=\"T_07a1b_row0_col7\" class=\"data row0 col7\" >0.123562</td>\n",
       "      <td id=\"T_07a1b_row0_col8\" class=\"data row0 col8\" >0.024402</td>\n",
       "      <td id=\"T_07a1b_row0_col9\" class=\"data row0 col9\" >-0.000286</td>\n",
       "      <td id=\"T_07a1b_row0_col10\" class=\"data row0 col10\" >0.005140</td>\n",
       "      <td id=\"T_07a1b_row0_col11\" class=\"data row0 col11\" >-0.019788</td>\n",
       "      <td id=\"T_07a1b_row0_col12\" class=\"data row0 col12\" >nan</td>\n",
       "    </tr>\n",
       "    <tr>\n",
       "      <th id=\"T_07a1b_level0_row1\" class=\"row_heading level0 row1\" >pickup_longitude</th>\n",
       "      <td id=\"T_07a1b_row1_col0\" class=\"data row1 col0\" >0.012070</td>\n",
       "      <td id=\"T_07a1b_row1_col1\" class=\"data row1 col1\" >1.000000</td>\n",
       "      <td id=\"T_07a1b_row1_col2\" class=\"data row1 col2\" >-0.949099</td>\n",
       "      <td id=\"T_07a1b_row1_col3\" class=\"data row1 col3\" >0.999883</td>\n",
       "      <td id=\"T_07a1b_row1_col4\" class=\"data row1 col4\" >-0.993975</td>\n",
       "      <td id=\"T_07a1b_row1_col5\" class=\"data row1 col5\" >0.009174</td>\n",
       "      <td id=\"T_07a1b_row1_col6\" class=\"data row1 col6\" >0.005337</td>\n",
       "      <td id=\"T_07a1b_row1_col7\" class=\"data row1 col7\" >0.013480</td>\n",
       "      <td id=\"T_07a1b_row1_col8\" class=\"data row1 col8\" >-0.007496</td>\n",
       "      <td id=\"T_07a1b_row1_col9\" class=\"data row1 col9\" >0.019528</td>\n",
       "      <td id=\"T_07a1b_row1_col10\" class=\"data row1 col10\" >0.008241</td>\n",
       "      <td id=\"T_07a1b_row1_col11\" class=\"data row1 col11\" >0.001838</td>\n",
       "      <td id=\"T_07a1b_row1_col12\" class=\"data row1 col12\" >nan</td>\n",
       "    </tr>\n",
       "    <tr>\n",
       "      <th id=\"T_07a1b_level0_row2\" class=\"row_heading level0 row2\" >pickup_latitude</th>\n",
       "      <td id=\"T_07a1b_row2_col0\" class=\"data row2 col0\" >-0.008682</td>\n",
       "      <td id=\"T_07a1b_row2_col1\" class=\"data row2 col1\" >-0.949099</td>\n",
       "      <td id=\"T_07a1b_row2_col2\" class=\"data row2 col2\" >1.000000</td>\n",
       "      <td id=\"T_07a1b_row2_col3\" class=\"data row2 col3\" >-0.949095</td>\n",
       "      <td id=\"T_07a1b_row2_col4\" class=\"data row2 col4\" >0.954759</td>\n",
       "      <td id=\"T_07a1b_row2_col5\" class=\"data row2 col5\" >-0.009219</td>\n",
       "      <td id=\"T_07a1b_row2_col6\" class=\"data row2 col6\" >0.003232</td>\n",
       "      <td id=\"T_07a1b_row2_col7\" class=\"data row2 col7\" >-0.013690</td>\n",
       "      <td id=\"T_07a1b_row2_col8\" class=\"data row2 col8\" >0.007602</td>\n",
       "      <td id=\"T_07a1b_row2_col9\" class=\"data row2 col9\" >-0.019390</td>\n",
       "      <td id=\"T_07a1b_row2_col10\" class=\"data row2 col10\" >-0.008922</td>\n",
       "      <td id=\"T_07a1b_row2_col11\" class=\"data row2 col11\" >-0.001821</td>\n",
       "      <td id=\"T_07a1b_row2_col12\" class=\"data row2 col12\" >nan</td>\n",
       "    </tr>\n",
       "    <tr>\n",
       "      <th id=\"T_07a1b_level0_row3\" class=\"row_heading level0 row3\" >dropoff_longitude</th>\n",
       "      <td id=\"T_07a1b_row3_col0\" class=\"data row3 col0\" >0.010555</td>\n",
       "      <td id=\"T_07a1b_row3_col1\" class=\"data row3 col1\" >0.999883</td>\n",
       "      <td id=\"T_07a1b_row3_col2\" class=\"data row3 col2\" >-0.949095</td>\n",
       "      <td id=\"T_07a1b_row3_col3\" class=\"data row3 col3\" >1.000000</td>\n",
       "      <td id=\"T_07a1b_row3_col4\" class=\"data row3 col4\" >-0.993962</td>\n",
       "      <td id=\"T_07a1b_row3_col5\" class=\"data row3 col5\" >0.009168</td>\n",
       "      <td id=\"T_07a1b_row3_col6\" class=\"data row3 col6\" >0.004406</td>\n",
       "      <td id=\"T_07a1b_row3_col7\" class=\"data row3 col7\" >0.013365</td>\n",
       "      <td id=\"T_07a1b_row3_col8\" class=\"data row3 col8\" >-0.007454</td>\n",
       "      <td id=\"T_07a1b_row3_col9\" class=\"data row3 col9\" >0.019554</td>\n",
       "      <td id=\"T_07a1b_row3_col10\" class=\"data row3 col10\" >0.008536</td>\n",
       "      <td id=\"T_07a1b_row3_col11\" class=\"data row3 col11\" >0.000938</td>\n",
       "      <td id=\"T_07a1b_row3_col12\" class=\"data row3 col12\" >nan</td>\n",
       "    </tr>\n",
       "    <tr>\n",
       "      <th id=\"T_07a1b_level0_row4\" class=\"row_heading level0 row4\" >dropoff_latitude</th>\n",
       "      <td id=\"T_07a1b_row4_col0\" class=\"data row4 col0\" >-0.008695</td>\n",
       "      <td id=\"T_07a1b_row4_col1\" class=\"data row4 col1\" >-0.993975</td>\n",
       "      <td id=\"T_07a1b_row4_col2\" class=\"data row4 col2\" >0.954759</td>\n",
       "      <td id=\"T_07a1b_row4_col3\" class=\"data row4 col3\" >-0.993962</td>\n",
       "      <td id=\"T_07a1b_row4_col4\" class=\"data row4 col4\" >1.000000</td>\n",
       "      <td id=\"T_07a1b_row4_col5\" class=\"data row4 col5\" >-0.009266</td>\n",
       "      <td id=\"T_07a1b_row4_col6\" class=\"data row4 col6\" >-0.002122</td>\n",
       "      <td id=\"T_07a1b_row4_col7\" class=\"data row4 col7\" >-0.014358</td>\n",
       "      <td id=\"T_07a1b_row4_col8\" class=\"data row4 col8\" >0.007979</td>\n",
       "      <td id=\"T_07a1b_row4_col9\" class=\"data row4 col9\" >-0.020114</td>\n",
       "      <td id=\"T_07a1b_row4_col10\" class=\"data row4 col10\" >-0.008916</td>\n",
       "      <td id=\"T_07a1b_row4_col11\" class=\"data row4 col11\" >-0.001016</td>\n",
       "      <td id=\"T_07a1b_row4_col12\" class=\"data row4 col12\" >nan</td>\n",
       "    </tr>\n",
       "    <tr>\n",
       "      <th id=\"T_07a1b_level0_row5\" class=\"row_heading level0 row5\" >passenger_count</th>\n",
       "      <td id=\"T_07a1b_row5_col0\" class=\"data row5 col0\" >0.013508</td>\n",
       "      <td id=\"T_07a1b_row5_col1\" class=\"data row5 col1\" >0.009174</td>\n",
       "      <td id=\"T_07a1b_row5_col2\" class=\"data row5 col2\" >-0.009219</td>\n",
       "      <td id=\"T_07a1b_row5_col3\" class=\"data row5 col3\" >0.009168</td>\n",
       "      <td id=\"T_07a1b_row5_col4\" class=\"data row5 col4\" >-0.009266</td>\n",
       "      <td id=\"T_07a1b_row5_col5\" class=\"data row5 col5\" >1.000000</td>\n",
       "      <td id=\"T_07a1b_row5_col6\" class=\"data row5 col6\" >0.007441</td>\n",
       "      <td id=\"T_07a1b_row5_col7\" class=\"data row5 col7\" >0.005378</td>\n",
       "      <td id=\"T_07a1b_row5_col8\" class=\"data row5 col8\" >0.009999</td>\n",
       "      <td id=\"T_07a1b_row5_col9\" class=\"data row5 col9\" >0.003696</td>\n",
       "      <td id=\"T_07a1b_row5_col10\" class=\"data row5 col10\" >0.033846</td>\n",
       "      <td id=\"T_07a1b_row5_col11\" class=\"data row5 col11\" >0.013391</td>\n",
       "      <td id=\"T_07a1b_row5_col12\" class=\"data row5 col12\" >nan</td>\n",
       "    </tr>\n",
       "    <tr>\n",
       "      <th id=\"T_07a1b_level0_row6\" class=\"row_heading level0 row6\" >Distance</th>\n",
       "      <td id=\"T_07a1b_row6_col0\" class=\"data row6 col0\" >0.893050</td>\n",
       "      <td id=\"T_07a1b_row6_col1\" class=\"data row6 col1\" >0.005337</td>\n",
       "      <td id=\"T_07a1b_row6_col2\" class=\"data row6 col2\" >0.003232</td>\n",
       "      <td id=\"T_07a1b_row6_col3\" class=\"data row6 col3\" >0.004406</td>\n",
       "      <td id=\"T_07a1b_row6_col4\" class=\"data row6 col4\" >-0.002122</td>\n",
       "      <td id=\"T_07a1b_row6_col5\" class=\"data row6 col5\" >0.007441</td>\n",
       "      <td id=\"T_07a1b_row6_col6\" class=\"data row6 col6\" >1.000000</td>\n",
       "      <td id=\"T_07a1b_row6_col7\" class=\"data row6 col7\" >0.026560</td>\n",
       "      <td id=\"T_07a1b_row6_col8\" class=\"data row6 col8\" >0.012317</td>\n",
       "      <td id=\"T_07a1b_row6_col9\" class=\"data row6 col9\" >0.000334</td>\n",
       "      <td id=\"T_07a1b_row6_col10\" class=\"data row6 col10\" >0.017183</td>\n",
       "      <td id=\"T_07a1b_row6_col11\" class=\"data row6 col11\" >-0.032447</td>\n",
       "      <td id=\"T_07a1b_row6_col12\" class=\"data row6 col12\" >nan</td>\n",
       "    </tr>\n",
       "    <tr>\n",
       "      <th id=\"T_07a1b_level0_row7\" class=\"row_heading level0 row7\" >Year</th>\n",
       "      <td id=\"T_07a1b_row7_col0\" class=\"data row7 col0\" >0.123562</td>\n",
       "      <td id=\"T_07a1b_row7_col1\" class=\"data row7 col1\" >0.013480</td>\n",
       "      <td id=\"T_07a1b_row7_col2\" class=\"data row7 col2\" >-0.013690</td>\n",
       "      <td id=\"T_07a1b_row7_col3\" class=\"data row7 col3\" >0.013365</td>\n",
       "      <td id=\"T_07a1b_row7_col4\" class=\"data row7 col4\" >-0.014358</td>\n",
       "      <td id=\"T_07a1b_row7_col5\" class=\"data row7 col5\" >0.005378</td>\n",
       "      <td id=\"T_07a1b_row7_col6\" class=\"data row7 col6\" >0.026560</td>\n",
       "      <td id=\"T_07a1b_row7_col7\" class=\"data row7 col7\" >1.000000</td>\n",
       "      <td id=\"T_07a1b_row7_col8\" class=\"data row7 col8\" >-0.115499</td>\n",
       "      <td id=\"T_07a1b_row7_col9\" class=\"data row7 col9\" >-0.012296</td>\n",
       "      <td id=\"T_07a1b_row7_col10\" class=\"data row7 col10\" >0.005973</td>\n",
       "      <td id=\"T_07a1b_row7_col11\" class=\"data row7 col11\" >0.001864</td>\n",
       "      <td id=\"T_07a1b_row7_col12\" class=\"data row7 col12\" >nan</td>\n",
       "    </tr>\n",
       "    <tr>\n",
       "      <th id=\"T_07a1b_level0_row8\" class=\"row_heading level0 row8\" >Month</th>\n",
       "      <td id=\"T_07a1b_row8_col0\" class=\"data row8 col0\" >0.024402</td>\n",
       "      <td id=\"T_07a1b_row8_col1\" class=\"data row8 col1\" >-0.007496</td>\n",
       "      <td id=\"T_07a1b_row8_col2\" class=\"data row8 col2\" >0.007602</td>\n",
       "      <td id=\"T_07a1b_row8_col3\" class=\"data row8 col3\" >-0.007454</td>\n",
       "      <td id=\"T_07a1b_row8_col4\" class=\"data row8 col4\" >0.007979</td>\n",
       "      <td id=\"T_07a1b_row8_col5\" class=\"data row8 col5\" >0.009999</td>\n",
       "      <td id=\"T_07a1b_row8_col6\" class=\"data row8 col6\" >0.012317</td>\n",
       "      <td id=\"T_07a1b_row8_col7\" class=\"data row8 col7\" >-0.115499</td>\n",
       "      <td id=\"T_07a1b_row8_col8\" class=\"data row8 col8\" >1.000000</td>\n",
       "      <td id=\"T_07a1b_row8_col9\" class=\"data row8 col9\" >-0.017089</td>\n",
       "      <td id=\"T_07a1b_row8_col10\" class=\"data row8 col10\" >-0.008911</td>\n",
       "      <td id=\"T_07a1b_row8_col11\" class=\"data row8 col11\" >-0.004259</td>\n",
       "      <td id=\"T_07a1b_row8_col12\" class=\"data row8 col12\" >nan</td>\n",
       "    </tr>\n",
       "    <tr>\n",
       "      <th id=\"T_07a1b_level0_row9\" class=\"row_heading level0 row9\" >Day</th>\n",
       "      <td id=\"T_07a1b_row9_col0\" class=\"data row9 col0\" >-0.000286</td>\n",
       "      <td id=\"T_07a1b_row9_col1\" class=\"data row9 col1\" >0.019528</td>\n",
       "      <td id=\"T_07a1b_row9_col2\" class=\"data row9 col2\" >-0.019390</td>\n",
       "      <td id=\"T_07a1b_row9_col3\" class=\"data row9 col3\" >0.019554</td>\n",
       "      <td id=\"T_07a1b_row9_col4\" class=\"data row9 col4\" >-0.020114</td>\n",
       "      <td id=\"T_07a1b_row9_col5\" class=\"data row9 col5\" >0.003696</td>\n",
       "      <td id=\"T_07a1b_row9_col6\" class=\"data row9 col6\" >0.000334</td>\n",
       "      <td id=\"T_07a1b_row9_col7\" class=\"data row9 col7\" >-0.012296</td>\n",
       "      <td id=\"T_07a1b_row9_col8\" class=\"data row9 col8\" >-0.017089</td>\n",
       "      <td id=\"T_07a1b_row9_col9\" class=\"data row9 col9\" >1.000000</td>\n",
       "      <td id=\"T_07a1b_row9_col10\" class=\"data row9 col10\" >0.005183</td>\n",
       "      <td id=\"T_07a1b_row9_col11\" class=\"data row9 col11\" >0.005337</td>\n",
       "      <td id=\"T_07a1b_row9_col12\" class=\"data row9 col12\" >nan</td>\n",
       "    </tr>\n",
       "    <tr>\n",
       "      <th id=\"T_07a1b_level0_row10\" class=\"row_heading level0 row10\" >Day of Week_num</th>\n",
       "      <td id=\"T_07a1b_row10_col0\" class=\"data row10 col0\" >0.005140</td>\n",
       "      <td id=\"T_07a1b_row10_col1\" class=\"data row10 col1\" >0.008241</td>\n",
       "      <td id=\"T_07a1b_row10_col2\" class=\"data row10 col2\" >-0.008922</td>\n",
       "      <td id=\"T_07a1b_row10_col3\" class=\"data row10 col3\" >0.008536</td>\n",
       "      <td id=\"T_07a1b_row10_col4\" class=\"data row10 col4\" >-0.008916</td>\n",
       "      <td id=\"T_07a1b_row10_col5\" class=\"data row10 col5\" >0.033846</td>\n",
       "      <td id=\"T_07a1b_row10_col6\" class=\"data row10 col6\" >0.017183</td>\n",
       "      <td id=\"T_07a1b_row10_col7\" class=\"data row10 col7\" >0.005973</td>\n",
       "      <td id=\"T_07a1b_row10_col8\" class=\"data row10 col8\" >-0.008911</td>\n",
       "      <td id=\"T_07a1b_row10_col9\" class=\"data row10 col9\" >0.005183</td>\n",
       "      <td id=\"T_07a1b_row10_col10\" class=\"data row10 col10\" >1.000000</td>\n",
       "      <td id=\"T_07a1b_row10_col11\" class=\"data row10 col11\" >-0.086420</td>\n",
       "      <td id=\"T_07a1b_row10_col12\" class=\"data row10 col12\" >nan</td>\n",
       "    </tr>\n",
       "    <tr>\n",
       "      <th id=\"T_07a1b_level0_row11\" class=\"row_heading level0 row11\" >Hour</th>\n",
       "      <td id=\"T_07a1b_row11_col0\" class=\"data row11 col0\" >-0.019788</td>\n",
       "      <td id=\"T_07a1b_row11_col1\" class=\"data row11 col1\" >0.001838</td>\n",
       "      <td id=\"T_07a1b_row11_col2\" class=\"data row11 col2\" >-0.001821</td>\n",
       "      <td id=\"T_07a1b_row11_col3\" class=\"data row11 col3\" >0.000938</td>\n",
       "      <td id=\"T_07a1b_row11_col4\" class=\"data row11 col4\" >-0.001016</td>\n",
       "      <td id=\"T_07a1b_row11_col5\" class=\"data row11 col5\" >0.013391</td>\n",
       "      <td id=\"T_07a1b_row11_col6\" class=\"data row11 col6\" >-0.032447</td>\n",
       "      <td id=\"T_07a1b_row11_col7\" class=\"data row11 col7\" >0.001864</td>\n",
       "      <td id=\"T_07a1b_row11_col8\" class=\"data row11 col8\" >-0.004259</td>\n",
       "      <td id=\"T_07a1b_row11_col9\" class=\"data row11 col9\" >0.005337</td>\n",
       "      <td id=\"T_07a1b_row11_col10\" class=\"data row11 col10\" >-0.086420</td>\n",
       "      <td id=\"T_07a1b_row11_col11\" class=\"data row11 col11\" >1.000000</td>\n",
       "      <td id=\"T_07a1b_row11_col12\" class=\"data row11 col12\" >nan</td>\n",
       "    </tr>\n",
       "    <tr>\n",
       "      <th id=\"T_07a1b_level0_row12\" class=\"row_heading level0 row12\" >counter</th>\n",
       "      <td id=\"T_07a1b_row12_col0\" class=\"data row12 col0\" >nan</td>\n",
       "      <td id=\"T_07a1b_row12_col1\" class=\"data row12 col1\" >nan</td>\n",
       "      <td id=\"T_07a1b_row12_col2\" class=\"data row12 col2\" >nan</td>\n",
       "      <td id=\"T_07a1b_row12_col3\" class=\"data row12 col3\" >nan</td>\n",
       "      <td id=\"T_07a1b_row12_col4\" class=\"data row12 col4\" >nan</td>\n",
       "      <td id=\"T_07a1b_row12_col5\" class=\"data row12 col5\" >nan</td>\n",
       "      <td id=\"T_07a1b_row12_col6\" class=\"data row12 col6\" >nan</td>\n",
       "      <td id=\"T_07a1b_row12_col7\" class=\"data row12 col7\" >nan</td>\n",
       "      <td id=\"T_07a1b_row12_col8\" class=\"data row12 col8\" >nan</td>\n",
       "      <td id=\"T_07a1b_row12_col9\" class=\"data row12 col9\" >nan</td>\n",
       "      <td id=\"T_07a1b_row12_col10\" class=\"data row12 col10\" >nan</td>\n",
       "      <td id=\"T_07a1b_row12_col11\" class=\"data row12 col11\" >nan</td>\n",
       "      <td id=\"T_07a1b_row12_col12\" class=\"data row12 col12\" >nan</td>\n",
       "    </tr>\n",
       "  </tbody>\n",
       "</table>\n"
      ],
      "text/plain": [
       "<pandas.io.formats.style.Styler at 0x7f58a0c37b10>"
      ]
     },
     "execution_count": 32,
     "metadata": {},
     "output_type": "execute_result"
    }
   ],
   "source": [
    "corr = uber_2.corr()\n",
    "\n",
    "corr.style.background_gradient(cmap='BuGn')"
   ]
  },
  {
   "cell_type": "code",
   "execution_count": null,
   "metadata": {
    "id": "yVa2LBDYQA1O"
   },
   "outputs": [],
   "source": [
    "X = uber_2['Distance'].values.reshape(-1, 1)        #Independent Variable\n",
    "y = uber_2['fare_amount'].values.reshape(-1, 1) "
   ]
  },
  {
   "cell_type": "code",
   "execution_count": null,
   "metadata": {
    "colab": {
     "base_uri": "https://localhost:8080/"
    },
    "executionInfo": {
     "elapsed": 4,
     "status": "ok",
     "timestamp": 1667927927360,
     "user": {
      "displayName": "Avinash Tatar",
      "userId": "17244541308253616955"
     },
     "user_tz": -330
    },
    "id": "8KCJ1nJ9QFd6",
    "outputId": "b44b41ce-e95a-4f3c-f080-e87d4d9b73f5"
   },
   "outputs": [
    {
     "name": "stdout",
     "output_type": "stream",
     "text": [
      "[[-0.4011162 ]\n",
      " [-0.38006651]\n",
      " [ 0.16722527]\n",
      " ...\n",
      " [ 2.06169682]\n",
      " [ 0.33562274]\n",
      " [ 0.29352337]]\n",
      "[[-0.46599576]\n",
      " [-0.24929862]\n",
      " [ 0.46746884]\n",
      " ...\n",
      " [ 2.63721838]\n",
      " [ 0.05074357]\n",
      " [ 0.57303924]]\n"
     ]
    }
   ],
   "source": [
    "from sklearn.preprocessing import StandardScaler\n",
    "std = StandardScaler()\n",
    "y_std = std.fit_transform(y)\n",
    "print(y_std)\n",
    "\n",
    "x_std = std.fit_transform(X)\n",
    "print(x_std)"
   ]
  },
  {
   "cell_type": "code",
   "execution_count": null,
   "metadata": {
    "id": "l6D3hFp0Q2mj"
   },
   "outputs": [],
   "source": [
    "from sklearn.model_selection import train_test_split\n",
    "X_train, X_test, y_train, y_test = train_test_split(x_std, y_std, test_size=0.2, random_state=0)"
   ]
  },
  {
   "cell_type": "code",
   "execution_count": null,
   "metadata": {
    "colab": {
     "base_uri": "https://localhost:8080/"
    },
    "executionInfo": {
     "elapsed": 12,
     "status": "ok",
     "timestamp": 1667928131274,
     "user": {
      "displayName": "Avinash Tatar",
      "userId": "17244541308253616955"
     },
     "user_tz": -330
    },
    "id": "xp8puc0tQtlj",
    "outputId": "f04a0ae9-595d-4e74-c8ce-2d4f9a7809d8"
   },
   "outputs": [
    {
     "name": "stdout",
     "output_type": "stream",
     "text": [
      "Training set score: 0.80\n",
      "Test set score: 0.8006071\n"
     ]
    }
   ],
   "source": [
    "from sklearn.linear_model import LinearRegression\n",
    "l_reg = LinearRegression()\n",
    "l_reg.fit(X_train, y_train)\n",
    "\n",
    "print(\"Training set score: {:.2f}\".format(l_reg.score(X_train, y_train)))\n",
    "print(\"Test set score: {:.7f}\".format(l_reg.score(X_test, y_test)))"
   ]
  },
  {
   "cell_type": "code",
   "execution_count": null,
   "metadata": {
    "id": "YEAserOxQtwQ"
   },
   "outputs": [],
   "source": [
    "y_pred = l_reg.predict(X_test)\n",
    "df = {'Actual': y_test, 'Predicted': y_pred}\n",
    "\n",
    "from tabulate import tabulate\n",
    "print(tabulate(df, headers = 'keys', tablefmt = 'psql'))"
   ]
  },
  {
   "cell_type": "code",
   "execution_count": null,
   "metadata": {
    "colab": {
     "base_uri": "https://localhost:8080/"
    },
    "executionInfo": {
     "elapsed": 373,
     "status": "ok",
     "timestamp": 1667928200333,
     "user": {
      "displayName": "Avinash Tatar",
      "userId": "17244541308253616955"
     },
     "user_tz": -330
    },
    "id": "I6Db_n9HQ9Ju",
    "outputId": "e594c2b5-b9bd-4824-e6b9-e01f3ec07f74"
   },
   "outputs": [
    {
     "name": "stdout",
     "output_type": "stream",
     "text": [
      "Mean Absolute Error: 0.23979020298617273\n",
      "Mean Squared Error: 0.19845894128014688\n",
      "Root Mean Squared Error: 0.4454873076532561\n"
     ]
    }
   ],
   "source": [
    "from sklearn import metrics\n",
    "print('Mean Absolute Error:', metrics.mean_absolute_error(y_test, y_pred))\n",
    "#print('Mean Absolute % Error:', metrics.mean_absolute_percentage_error(y_test, y_pred))\n",
    "print('Mean Squared Error:', metrics.mean_squared_error(y_test, y_pred))\n",
    "print('Root Mean Squared Error:', np.sqrt(metrics.mean_squared_error(y_test, y_pred)))"
   ]
  },
  {
   "cell_type": "code",
   "execution_count": null,
   "metadata": {
    "colab": {
     "base_uri": "https://localhost:8080/"
    },
    "executionInfo": {
     "elapsed": 9,
     "status": "ok",
     "timestamp": 1667928203063,
     "user": {
      "displayName": "Avinash Tatar",
      "userId": "17244541308253616955"
     },
     "user_tz": -330
    },
    "id": "JpEmukrkQ9Xc",
    "outputId": "ee7824a6-3eaa-4422-d5fe-433010411184"
   },
   "outputs": [
    {
     "name": "stdout",
     "output_type": "stream",
     "text": [
      "[-0.00016705]\n",
      "[[0.89176936]]\n"
     ]
    }
   ],
   "source": [
    "print(l_reg.intercept_)\n",
    "print(l_reg.coef_)"
   ]
  },
  {
   "cell_type": "code",
   "execution_count": null,
   "metadata": {
    "colab": {
     "base_uri": "https://localhost:8080/",
     "height": 182
    },
    "executionInfo": {
     "elapsed": 1169,
     "status": "ok",
     "timestamp": 1667928208589,
     "user": {
      "displayName": "Avinash Tatar",
      "userId": "17244541308253616955"
     },
     "user_tz": -330
    },
    "id": "GmyPDNYEQ9gQ",
    "outputId": "7e3fc9dc-7b79-495e-ef5a-4b824e67b94b"
   },
   "outputs": [
    {
     "data": {
      "image/png": "[encoded data removed]",
      "text/plain": [
       "<Figure size 432x288 with 2 Axes>"
      ]
     },
     "metadata": {
      "needs_background": "light"
     },
     "output_type": "display_data"
    }
   ],
   "source": [
    "plt.subplot(2, 2, 1)\n",
    "plt.scatter(X_train, y_train, color = 'red')\n",
    "plt.plot(X_train, l_reg.predict(X_train), color =\"blue\")\n",
    "plt.title(\"Fare vs Distance (Training Set)\")\n",
    "plt.ylabel(\"fare_amount\")\n",
    "plt.xlabel(\"Distance\")\n",
    "\n",
    "plt.subplot(2, 2, 2)\n",
    "plt.scatter(X_test, y_test, color = 'red')\n",
    "plt.plot(X_train, l_reg.predict(X_train), color =\"blue\")\n",
    "plt.ylabel(\"fare_amount\")\n",
    "plt.xlabel(\"Distance\")\n",
    "plt.title(\"Fare vs Distance (Test Set)\")\n",
    "\n",
    "\n",
    "plt.tight_layout()\n",
    "plt.rcParams[\"figure.figsize\"] = (32,22)\n",
    "plt.show()"
   ]
  }
 ],
 "metadata": {
  "colab": {
   "authorship_tag": "ABX9TyOCCmus/ODlQZ5Q+yPxUFOd",
   "mount_file_id": "1leKbKwEDoNtCzQwNI23NnwpMfHdqvWAB",
   "provenance": []
  },
  "kernelspec": {
   "display_name": "Python 3",
   "language": "python",
   "name": "python3"
  },
  "language_info": {
   "codemirror_mode": {
    "name": "ipython",
    "version": 3
   },
   "file_extension": ".py",
   "mimetype": "text/x-python",
   "name": "python",
   "nbconvert_exporter": "python",
   "pygments_lexer": "ipython3",
   "version": "3.7.4"
  }
 },
 "nbformat": 4,
 "nbformat_minor": 1
}
