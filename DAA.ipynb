{
 "cells": [
  {
   "cell_type": "code",
   "execution_count": 75,
   "metadata": {
    "colab": {
     "base_uri": "https://localhost:8080/"
    },
    "executionInfo": {
     "elapsed": 433,
     "status": "ok",
     "timestamp": 1669031730523,
     "user": {
      "displayName": "Avinash Tatar",
      "userId": "17244541308253616955"
     },
     "user_tz": -330
    },
    "id": "ANp8fVZBmB4r",
    "outputId": "25139017-94df-47e9-f475-099b4a210c9a"
   },
   "outputs": [
    {
     "name": "stdout",
     "output_type": "stream",
     "text": [
      "Maximum profit sequence of jobs is- \n",
      "['a', 'c', 'd']\n"
     ]
    }
   ],
   "source": [
    "#assignment-2\n",
    "def printjobschedule(array, t):\n",
    "  m = len(array)\n",
    "# Sort all jobs accordingly\n",
    "  for j in range(m):\n",
    "    for q in range(m - 1 - j):\n",
    "      if array[q][2] < array[q + 1][2]:\n",
    "         array[q], array[q + 1] = array[q + 1], array[q]\n",
    "         res = [False] * t\n",
    "# To store result\n",
    "         job = ['-1'] * t\n",
    "  for q in range(len(array)):\n",
    "# Find a free slot\n",
    "   for q in range(min(t - 1, array[q][1] - 1), -1, -1):\n",
    "    if res[q] is False:\n",
    "      res[q] = True\n",
    "      job[q] = array[q][0]\n",
    "    break\n",
    "# print\n",
    "  print(job)\n",
    "# Driver\n",
    "array = [['a', 7, 202],\n",
    "['b', 5, 29],\n",
    "['c', 6, 84],\n",
    "['d', 1, 75],\n",
    "['e', 2, 43]]\n",
    "print(\"Maximum profit sequence of jobs is- \")\n",
    "printjobschedule(array, 3)"
   ]
  },
  {
   "cell_type": "code",
   "execution_count": 76,
   "metadata": {
    "colab": {
     "base_uri": "https://localhost:8080/"
    },
    "executionInfo": {
     "elapsed": 10,
     "status": "ok",
     "timestamp": 1669031733720,
     "user": {
      "displayName": "Avinash Tatar",
      "userId": "17244541308253616955"
     },
     "user_tz": -330
    },
    "id": "uD8OiuJ5pvJ1",
    "outputId": "12b521a4-db72-454c-f2b1-302ed903b942"
   },
   "outputs": [
    {
     "name": "stdout",
     "output_type": "stream",
     "text": [
      "110\n"
     ]
    }
   ],
   "source": [
    "#Assignment-3\n",
    "class Solution:\n",
    " def solve(self, weights, values, capacity):\n",
    "  res = 0\n",
    "  for pair in sorted(zip(weights, values), key=lambda x: -x[1]/x[0]):\n",
    "   if not bool(capacity):\n",
    "    break\n",
    "   if pair[0] > capacity:\n",
    "     res += int(pair[1] / (pair[0] / capacity))\n",
    "     capacity = 0\n",
    "   elif pair[0] <= capacity:\n",
    "    res +=pair[1]\n",
    "    capacity -= pair[0]\n",
    "   return int(res)\n",
    "ob = Solution()\n",
    "weights = [6, 7, 3]\n",
    "values = [110, 120, 2]\n",
    "capacity = 10\n",
    "print(ob.solve(weights, values, capacity))"
   ]
  },
  {
   "cell_type": "code",
   "execution_count": 79,
   "metadata": {
    "colab": {
     "base_uri": "https://localhost:8080/"
    },
    "executionInfo": {
     "elapsed": 9,
     "status": "ok",
     "timestamp": 1669031751547,
     "user": {
      "displayName": "Avinash Tatar",
      "userId": "17244541308253616955"
     },
     "user_tz": -330
    },
    "id": "SOl4AaMkrG4f",
    "outputId": "5b0fd60a-2a6f-492e-fbbd-3a1070c063ba"
   },
   "outputs": [
    {
     "data": {
      "text/plain": [
       "220"
      ]
     },
     "execution_count": 79,
     "metadata": {},
     "output_type": "execute_result"
    }
   ],
   "source": [
    "#Assignment-4\n",
    "def knapSack(W, wt, val, n):\n",
    "#Base Case\n",
    "   if n == 0 or W == 0:\n",
    "      return 0\n",
    "\n",
    "   if (wt[n-1] > W):\n",
    "      return knapSack(W, wt, val, n-1)\n",
    "\n",
    "   else:\n",
    "      return max(\n",
    "       val[n-1] + knapSack(\n",
    "       W-wt[n-1], wt, val, n-1),\n",
    "       knapSack(W, wt, val, n-1))\n",
    "val = [60, 100, 120]\n",
    "wt = [10, 20, 30]\n",
    "W = 50\n",
    "n = len(val)\n",
    "print;knapSack(W, wt, val, n)"
   ]
  },
  {
   "cell_type": "code",
   "execution_count": null,
   "metadata": {
    "id": "8uHN4WU6DF1I"
   },
   "outputs": [],
   "source": []
  }
 ],
 "metadata": {
  "colab": {
   "authorship_tag": "ABX9TyN5rp4yD9RH2w8OsBa/qoqs",
   "provenance": []
  },
  "kernelspec": {
   "display_name": "Python 3",
   "language": "python",
   "name": "python3"
  },
  "language_info": {
   "codemirror_mode": {
    "name": "ipython",
    "version": 3
   },
   "file_extension": ".py",
   "mimetype": "text/x-python",
   "name": "python",
   "nbconvert_exporter": "python",
   "pygments_lexer": "ipython3",
   "version": "3.7.4"
  }
 },
 "nbformat": 4,
 "nbformat_minor": 1
}
